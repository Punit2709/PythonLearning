{
 "cells": [
  {
   "cell_type": "code",
   "execution_count": 1,
   "metadata": {},
   "outputs": [],
   "source": [
    "import requests\n",
    "# Decorator Function\n",
    "def memorize(func): # currency_converter comes as an argument\n",
    "  cache = {}\n",
    "  def wrapper(*args, **kwargs): # Inside function use to collect arguments of the func.\n",
    "    if args not in cache: # Check if not in cache then stores the result in cache\n",
    "      cache[args] = func(*args) # calls currency_converter function with the specified arguments\n",
    "    else:\n",
    "      print(\"Cache hit\") # Prints if result already in the cache\n",
    "    return cache[args] * args[2] # Returning the result\n",
    "  return wrapper"
   ]
  },
  {
   "cell_type": "code",
   "execution_count": 2,
   "metadata": {},
   "outputs": [],
   "source": [
    "@memorize\n",
    "def currency_converter(from_currency, to_currency, amount):\n",
    "  url = f\"https://cdn.jsdelivr.net/npm/@fawazahmed0/currency-api@latest/v1/currencies/{from_currency}.json\"\n",
    "  response = requests.get(url)\n",
    "  data = response.json()\n",
    "  rate = data[from_currency][to_currency]\n",
    "  converted_amount = amount * rate\n",
    "  return converted_amount"
   ]
  },
  {
   "cell_type": "code",
   "execution_count": 3,
   "metadata": {},
   "outputs": [
    {
     "name": "stdout",
     "output_type": "stream",
     "text": [
      "<-- CURRENCY CONVERTER -->\n",
      "114.04720999999999\n",
      "876829.8387999999\n",
      "10303.984\n",
      "Cache hit\n",
      "114.04720999999999\n"
     ]
    }
   ],
   "source": [
    "print(\"<-- CURRENCY CONVERTER -->\")\n",
    "print(currency_converter(\"inr\", \"usd\", 100))\n",
    "print(currency_converter(\"usd\", \"inr\", 100))\n",
    "print(currency_converter(\"eur\", \"usd\", 100))\n",
    "print(currency_converter(\"inr\", \"usd\", 100))"
   ]
  }
 ],
 "metadata": {
  "kernelspec": {
   "display_name": "Python 3",
   "language": "python",
   "name": "python3"
  },
  "language_info": {
   "codemirror_mode": {
    "name": "ipython",
    "version": 3
   },
   "file_extension": ".py",
   "mimetype": "text/x-python",
   "name": "python",
   "nbconvert_exporter": "python",
   "pygments_lexer": "ipython3",
   "version": "3.11.4"
  }
 },
 "nbformat": 4,
 "nbformat_minor": 2
}
