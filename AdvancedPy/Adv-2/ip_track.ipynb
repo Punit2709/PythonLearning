{
 "cells": [
  {
   "cell_type": "code",
   "execution_count": 32,
   "metadata": {},
   "outputs": [
    {
     "name": "stdout",
     "output_type": "stream",
     "text": [
      "Valid IPs: ['192.168.1.10', '233.238.1.10', '192.168.00.10', '62.162.1.10', '138.192.255.10', '240.168.1.10', '235.168.1.255']\n"
     ]
    }
   ],
   "source": [
    "import re\n",
    "\n",
    "# Log entries\n",
    "logs = [\n",
    "    \"User accessed from IP: 192.168.1.10 at [timestamp]\",\n",
    "    \"User accessed from IP: 233.238.1.10 at [timestamp]\",\n",
    "    \"User accessed from IP: 192.168.00.10 at [timestamp]\",\n",
    "    \"User accessed from IP: 62.162.1.10 at [timestamp]\",\n",
    "    \"User accessed from IP: 138.192.255.10 at [timestamp]\",\n",
    "    \"User accessed from IP: 240.168.1.10 at [timestamp]\",\n",
    "    \"User accessed from IP: 235.168.1.255 at [timestamp]\"\n",
    "]\n",
    "\n",
    "ptrn = r\"\\b(0?[0-9]{1,2}|1[0-9]{2}|2[0-4][0-9]|25[0-5])\\.(0?[0-9]{1,2}|1[0-9]{2}|2[0-4][0-9]|25[0-5])\\.(0?[0-9]{1,2}|1[0-9]{2}|2[0-4][0-9]|25[0-5])\\.(0?[0-9]{1,2}|1[0-9]{2}|2[0-4][0-9]|25[0-5])\\b\"\n",
    "\n",
    "# Extract and print valid IPs\n",
    "valid_ips = []\n",
    "for log in logs:\n",
    "    match = re.search(ptrn, log)\n",
    "    if match:\n",
    "        valid_ips.append(match.group(0))\n",
    "\n",
    "print(\"Valid IPs:\", valid_ips)\n"
   ]
  }
 ],
 "metadata": {
  "kernelspec": {
   "display_name": "Python 3",
   "language": "python",
   "name": "python3"
  },
  "language_info": {
   "codemirror_mode": {
    "name": "ipython",
    "version": 3
   },
   "file_extension": ".py",
   "mimetype": "text/x-python",
   "name": "python",
   "nbconvert_exporter": "python",
   "pygments_lexer": "ipython3",
   "version": "3.11.4"
  }
 },
 "nbformat": 4,
 "nbformat_minor": 2
}
