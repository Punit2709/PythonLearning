{
 "cells": [
  {
   "cell_type": "code",
   "execution_count": 1,
   "metadata": {},
   "outputs": [],
   "source": [
    "import threading"
   ]
  },
  {
   "cell_type": "code",
   "execution_count": 4,
   "metadata": {},
   "outputs": [],
   "source": [
    "def sum_def(start, end) -> bool:\n",
    "    sum = 0\n",
    "    for i in range(start, end + 1):\n",
    "        sum += i\n",
    "        \n",
    "    return sum"
   ]
  },
  {
   "cell_type": "code",
   "execution_count": 7,
   "metadata": {},
   "outputs": [
    {
     "name": "stdout",
     "output_type": "stream",
     "text": [
      "Main Thread: Starting Thread-1 for range (0, 1000)\n",
      "Main Thread: Starting Thread-2 for range (1001, 2000)\n",
      "Main Thread: Starting Thread-3 for range (2001, 3000)\n",
      "Main Thread: Starting Thread-4 for range (3001, 4000)\n",
      "Main Thread: Starting Thread-5 for range (4001, 5000)\n"
     ]
    }
   ],
   "source": [
    "ranges = [(0, 1000), (1001, 2000), (2001, 3000), (3001, 4000), (4001, 5000)]\n",
    "\n",
    "threads = []\n",
    "\n",
    "    # Create and start a thread for each range\n",
    "for i, (start, end) in enumerate(ranges):\n",
    "    thread = threading.Thread(target=sum_def, args=(start, end), name=f\"Thread-{i+1}\")\n",
    "    threads.append(thread)\n",
    "    print(f\"Main Thread: Starting {thread.name} for range ({start}, {end})\")\n",
    "    thread.start()\n",
    "\n",
    "    # Wait for all threads to finish\n",
    "for thread in threads:\n",
    "    thread.join()\n"
   ]
  }
 ],
 "metadata": {
  "kernelspec": {
   "display_name": "Python 3",
   "language": "python",
   "name": "python3"
  },
  "language_info": {
   "codemirror_mode": {
    "name": "ipython",
    "version": 3
   },
   "file_extension": ".py",
   "mimetype": "text/x-python",
   "name": "python",
   "nbconvert_exporter": "python",
   "pygments_lexer": "ipython3",
   "version": "3.11.4"
  }
 },
 "nbformat": 4,
 "nbformat_minor": 2
}
