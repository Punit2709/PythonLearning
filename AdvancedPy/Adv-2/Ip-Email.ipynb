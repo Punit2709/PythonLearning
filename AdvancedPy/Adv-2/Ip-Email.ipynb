{
 "cells": [
  {
   "cell_type": "code",
   "execution_count": 2,
   "metadata": {},
   "outputs": [],
   "source": [
    "import re"
   ]
  },
  {
   "cell_type": "code",
   "execution_count": 11,
   "metadata": {},
   "outputs": [
    {
     "name": "stdout",
     "output_type": "stream",
     "text": [
      "<re.Match object; span=(0, 10), match='29-01-2020'>\n"
     ]
    }
   ],
   "source": [
    "# Match Dates (DD-MM-YYYY):\n",
    "ptrn = r\"(0[1-9]|[12][0-9]|[3][0-1])-(0[1-9]|1[0-2])-[0-9]{4}\"\n",
    "str = \"29-01-2020\"\n",
    "ans = re.search(ptrn, str)\n",
    "print(ans)"
   ]
  },
  {
   "cell_type": "markdown",
   "metadata": {},
   "source": [
    "#### Matching Email Address\n",
    "- Example: \"username@domain.com.\" → ✅ Match\n",
    "- \"usermane@.com\" → ❌ No Match"
   ]
  },
  {
   "cell_type": "code",
   "execution_count": 23,
   "metadata": {},
   "outputs": [
    {
     "name": "stdout",
     "output_type": "stream",
     "text": [
      "<re.Match object; span=(0, 20), match='test2709@example.com'>\n",
      "None\n"
     ]
    }
   ],
   "source": [
    "ptrn = r\"[A-Za-z]{4,}[0-9]{0,10}@[A-Za-z0-9-]+\\.com$\"\n",
    "str = \"test2709@example.com\"\n",
    "str2 = \"test.email@1.com\"\n",
    "ans = re.match(ptrn, str)\n",
    "ans2 = re.match(ptrn, str2)\n",
    "print(ans)\n",
    "print(ans2)"
   ]
  },
  {
   "cell_type": "code",
   "execution_count": 35,
   "metadata": {},
   "outputs": [
    {
     "name": "stdout",
     "output_type": "stream",
     "text": [
      "Punit@001$ : Strong Pass\n"
     ]
    }
   ],
   "source": [
    "# strong pass\n",
    "ptrn = r\"^(?=.*[A-Z])(?=.*[a-z])(?=.*\\d)(?=.*[@$!%*?&])[A-Za-z\\d@$!%*?&]{8,}$\"\n",
    "str_list = [\"Punit@001$\"]\n",
    "\n",
    "for str in str_list:\n",
    "    if re.search(ptrn, str):\n",
    "        print(f\"{str} : Strong Pass\")\n",
    "    else:\n",
    "        print(f\"{str} is weak\")    "
   ]
  },
  {
   "cell_type": "code",
   "execution_count": 30,
   "metadata": {},
   "outputs": [
    {
     "name": "stdout",
     "output_type": "stream",
     "text": [
      "[]\n"
     ]
    }
   ],
   "source": [
    "# # ip validation\n",
    "ptrn = r\"(?<=IP:)\\b^(0?[0-9]{1,2}|1[0-9]{2}|2[0-4][0-9]|25[0-5])\\.(0?[0-9]{1,2}|1[0-9]{2}|2[0-4][0-9]|25[0-5])\\.(0?[0-9]{1,2}|1[0-9]{2}|2[0-4][0-9]|25[0-5])\\.(0?[0-9]{1,2}|1[0-9]{2}|2[0-4][0-9]|25[0-5])\\b\"\n",
    "\n",
    "# ptrn = r\"(?<=IP )\\b(0?[0-9]{1,2}|1[0-9]{2}|2[0-4][0-9]|25[0-5])\\.(0?[0-9]{1,2}|1[0-9]{2}|2[0-4][0-9]|25[0-5])\\.(0?[0-9]{1,2}|1[0-9]{2}|2[0-4][0-9]|25[0-5])\\.(0?[0-9]{1,2}|1[0-9]{2}|2[0-4][0-9]|25[0-5])\\b\"\n",
    "\n",
    "str = [ \"User accessed from IP: 192.168.1.10 at [timestamp]\",\n",
    "       \"User accessed from IP: 255.168.1.10 at [timestamp]\",\n",
    "       \"User accessed from IP: 092.168.00.10 at [timestamp]\",\n",
    "       \"User accessed from IP: 062.162.1.10 at [timestamp]\",\n",
    "       \"User accessed from IP: 138.192.255.10 at [timestamp]\",\n",
    "       \"User accessed from IP: 240.168.1.10 at [timestamp]\",\n",
    "       \"User accessed from IP: 235.168.1.255 at [timestamp]\"]\n",
    "\n",
    "list = []\n",
    "str = \"192.168.1.10\"\n",
    "\n",
    "# for s in str:\n",
    "       # print(s)\n",
    "print((re.findall(ptrn,str)))    \n",
    "\n",
    "\n",
    "# import re\n",
    "\n",
    "# ptrn = r\"(?<=IP )\\b(0?[0-9]{1,2}|1[0-9]{2}|2[0-4][0-9]|25[0-5])\\.(0?[0-9]{1,2}|1[0-9]{2}|2[0-4][0-9]|25[0-5])\\.(0?[0-9]{1,2}|1[0-9]{2}|2[0-4][0-9]|25[0-5])\\.(0?[0-9]{1,2}|1[0-9]{2}|2[0-4][0-9]|25[0-5])\\b\"\n",
    "\n",
    "# text = \"User accessed from IP 192.168.1.10\"\n",
    "\n",
    "# print(re.findall(ptrn, text))\n",
    "\n"
   ]
  },
  {
   "cell_type": "code",
   "execution_count": 40,
   "metadata": {},
   "outputs": [
    {
     "name": "stdout",
     "output_type": "stream",
     "text": [
      "Valid IPs: ['192.168.1.10', '233.238.1.10', '192.168.00.10', '62.162.1.10', '138.192.255.10', '240.168.1.10', '235.168.1.255']\n"
     ]
    }
   ],
   "source": [
    "import re\n",
    "\n",
    "# Log entries\n",
    "logs = [\n",
    "    \"User accessed from IP: 192.168.1.10 at [timestamp]\",\n",
    "    \"User accessed from IP: 233.238.1.10 at [timestamp]\",\n",
    "    \"User accessed from IP: 192.168.00.10 at [timestamp]\",\n",
    "    \"User accessed from IP: 62.162.1.10 at [timestamp]\",\n",
    "    \"User accessed from IP: 138.192.255.10 at [timestamp]\",\n",
    "    \"User accessed from IP: 240.168.1.10 at [timestamp]\",\n",
    "    \"User accessed from IP: 235.168.1.255 at [timestamp]\"\n",
    "]\n",
    "\n",
    "# Regex pattern to match valid IP addresses\n",
    "ip_pattern = r\"\\b(25[0-5]|2[0-4][0-9]|1[0-9]{2}|[1-9]?[0-9])\\.\" \\\n",
    "             r\"(25[0-5]|2[0-4][0-9]|1[0-9]{2}|[1-9]?[0-9])\\.\" \\\n",
    "             r\"(25[0-5]|2[0-4][0-9]|1[0-9]{2}|[1-9]?[0-9])\\.\" \\\n",
    "             r\"(25[0-5]|2[0-4][0-9]|1[0-9]{2}|[1-9]?[0-9])\\b\"\n",
    "             \n",
    "\n",
    "ptrn = r\"\\b(0?[0-9]{1,2}|1[0-9]{2}|2[0-4][0-9]|25[0-5])\\.(0?[0-9]{1,2}|1[0-9]{2}|2[0-4][0-9]|25[0-5])\\.(0?[0-9]{1,2}|1[0-9]{2}|2[0-4][0-9]|25[0-5])\\.(0?[0-9]{1,2}|1[0-9]{2}|2[0-4][0-9]|25[0-5])\\b\"\n",
    "\n",
    "# Extract and print valid IPs\n",
    "valid_ips = []\n",
    "for log in logs:\n",
    "    match = re.search(ptrn, log)\n",
    "    if match:\n",
    "        valid_ips.append(match.group(0))\n",
    "\n",
    "print(\"Valid IPs:\", valid_ips)\n"
   ]
  },
  {
   "cell_type": "code",
   "execution_count": 13,
   "metadata": {},
   "outputs": [
    {
     "name": "stdout",
     "output_type": "stream",
     "text": [
      "<re.Match object; span=(0, 12), match='192.168.1.10'>\n"
     ]
    }
   ],
   "source": [
    "# ip validation\n",
    "ptrn = r\"^(0?[0-9]{1,2}|1[0-9]{2}|2[0-4][0-9]|25[0-5])\\.(0?[0-9]{1,2}|1[0-9]{2}|2[0-4][0-9]|25[0-5])\\.(0?[0-9]{1,2}|1[0-9]{2}|2[0-4][0-9]|25[0-5])\\.(0?[0-9]{1,2}|1[0-9]{2}|2[0-4][0-9]|25[0-5])$\"\n",
    "str = \"192.168.1.10\"\n",
    "ans = re.search(ptrn, str)\n",
    "print(ans)\n"
   ]
  },
  {
   "cell_type": "code",
   "execution_count": 48,
   "metadata": {},
   "outputs": [
    {
     "name": "stdout",
     "output_type": "stream",
     "text": [
      "<re.Match object; span=(0, 1), match='0'>\n"
     ]
    }
   ],
   "source": [
    "ptrn = r'0?'\n",
    "str = '0'\n",
    "ans = re.search(ptrn, str)\n",
    "print(ans)"
   ]
  },
  {
   "cell_type": "code",
   "execution_count": null,
   "metadata": {},
   "outputs": [],
   "source": []
  }
 ],
 "metadata": {
  "kernelspec": {
   "display_name": "Python 3",
   "language": "python",
   "name": "python3"
  },
  "language_info": {
   "codemirror_mode": {
    "name": "ipython",
    "version": 3
   },
   "file_extension": ".py",
   "mimetype": "text/x-python",
   "name": "python",
   "nbconvert_exporter": "python",
   "pygments_lexer": "ipython3",
   "version": "3.11.4"
  }
 },
 "nbformat": 4,
 "nbformat_minor": 2
}
