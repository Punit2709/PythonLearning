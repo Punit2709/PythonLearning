{
 "cells": [
  {
   "cell_type": "markdown",
   "metadata": {},
   "source": [
    "#### Matching Email Address\n",
    "- Example: \"username@domain.com.\" → ✅ Match\n",
    "- \"usermane@.com\" → ❌ No Match"
   ]
  },
  {
   "cell_type": "code",
   "execution_count": 1,
   "metadata": {},
   "outputs": [],
   "source": [
    "import re"
   ]
  },
  {
   "cell_type": "code",
   "execution_count": 2,
   "metadata": {},
   "outputs": [
    {
     "name": "stdout",
     "output_type": "stream",
     "text": [
      "<re.Match object; span=(0, 20), match='test2709@example.com'>\n",
      "None\n"
     ]
    }
   ],
   "source": [
    "ptrn = r\"[A-Za-z]{4,}[0-9]{0,10}@[A-Za-z0-9-]+\\.com$\"\n",
    "str = \"test2709@example.com\"\n",
    "str2 = \"test.email@1.com\"\n",
    "ans = re.match(ptrn, str)\n",
    "ans2 = re.match(ptrn, str2)\n",
    "print(ans)\n",
    "print(ans2)"
   ]
  }
 ],
 "metadata": {
  "kernelspec": {
   "display_name": "Python 3",
   "language": "python",
   "name": "python3"
  },
  "language_info": {
   "codemirror_mode": {
    "name": "ipython",
    "version": 3
   },
   "file_extension": ".py",
   "mimetype": "text/x-python",
   "name": "python",
   "nbconvert_exporter": "python",
   "pygments_lexer": "ipython3",
   "version": "3.11.4"
  }
 },
 "nbformat": 4,
 "nbformat_minor": 2
}
