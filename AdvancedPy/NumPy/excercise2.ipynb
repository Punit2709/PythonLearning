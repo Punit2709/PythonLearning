{
 "cells": [
  {
   "cell_type": "code",
   "execution_count": 1,
   "metadata": {},
   "outputs": [],
   "source": [
    "import numpy as np"
   ]
  },
  {
   "cell_type": "markdown",
   "metadata": {},
   "source": [
    "Create a NP array of shape (4,4)\n",
    "filled with random integers between 1\n",
    "and 100. Replace all even numbers with\n",
    "0."
   ]
  },
  {
   "cell_type": "code",
   "execution_count": 5,
   "metadata": {},
   "outputs": [
    {
     "name": "stdout",
     "output_type": "stream",
     "text": [
      "[[95 89 99 38]\n",
      " [10 49 10  7]\n",
      " [27 36 23  4]\n",
      " [54 54 80 56]]\n"
     ]
    }
   ],
   "source": [
    "import random\n",
    "\n",
    "list = []\n",
    "for i in range(16):\n",
    "    list.append(random.randint(1, 100))\n",
    "    \n",
    "arr = np.array(list)\n",
    "arr = arr.reshape(4, 4)    \n",
    "print(arr)"
   ]
  },
  {
   "cell_type": "markdown",
   "metadata": {},
   "source": [
    "## Qn 2"
   ]
  },
  {
   "cell_type": "code",
   "execution_count": 6,
   "metadata": {},
   "outputs": [
    {
     "name": "stdout",
     "output_type": "stream",
     "text": [
      "[[13 47 37 31 26 95]\n",
      " [74 48 52 21 12 26]\n",
      " [67 64 30 92 33 98]\n",
      " [75 25 15 78 80 28]\n",
      " [89 29 31 98 72 73]\n",
      " [96 59 95 15 40 94]]\n"
     ]
    }
   ],
   "source": [
    "list = []\n",
    "for i in range(36):\n",
    "    list.append(random.randint(1, 100))\n",
    "    \n",
    "arr = np.array(list)\n",
    "arr = arr.reshape(6,6)    \n",
    "print(arr)"
   ]
  },
  {
   "cell_type": "markdown",
   "metadata": {},
   "source": [
    "(a)The middle 2x2 sub-matrix"
   ]
  },
  {
   "cell_type": "code",
   "execution_count": 7,
   "metadata": {},
   "outputs": [
    {
     "name": "stdout",
     "output_type": "stream",
     "text": [
      "[[30 92]\n",
      " [15 78]]\n"
     ]
    }
   ],
   "source": [
    "arr_middle = arr[2:4, 2:4]\n",
    "print(arr_middle)"
   ]
  },
  {
   "cell_type": "markdown",
   "metadata": {},
   "source": [
    "(b) All even-indexed rows, "
   ]
  },
  {
   "cell_type": "code",
   "execution_count": 9,
   "metadata": {},
   "outputs": [
    {
     "name": "stdout",
     "output_type": "stream",
     "text": [
      "[[13 47 37 31 26 95]\n",
      " [67 64 30 92 33 98]\n",
      " [89 29 31 98 72 73]]\n"
     ]
    }
   ],
   "source": [
    "arr_even_ind_row = arr[::2, ::]\n",
    "print(arr_even_ind_row)"
   ]
  },
  {
   "cell_type": "markdown",
   "metadata": {},
   "source": [
    "(c) The diagonal elements."
   ]
  },
  {
   "cell_type": "code",
   "execution_count": 10,
   "metadata": {},
   "outputs": [
    {
     "name": "stdout",
     "output_type": "stream",
     "text": [
      "[13 48 30 78 72 94]\n"
     ]
    }
   ],
   "source": [
    "arr_diagonal = np.diag(arr)\n",
    "print(arr_diagonal)"
   ]
  },
  {
   "cell_type": "markdown",
   "metadata": {},
   "source": [
    "## Qn 3"
   ]
  },
  {
   "cell_type": "markdown",
   "metadata": {},
   "source": [
    "Broadcasting\n",
    "\n",
    "Create a 3x3 matrix of ones and add a 1D\n",
    "array [1,2,3] to each row using\n",
    "broadcasting. Use NumPy broadcasting with +\n",
    "\n",
    "operation."
   ]
  },
  {
   "cell_type": "code",
   "execution_count": 11,
   "metadata": {},
   "outputs": [
    {
     "name": "stdout",
     "output_type": "stream",
     "text": [
      "[[ 46 100  27]\n",
      " [ 16  38  66]\n",
      " [ 39  44   5]]\n"
     ]
    }
   ],
   "source": [
    "list = []\n",
    "for i in range(9):\n",
    "    list.append(random.randint(1, 100))\n",
    "    \n",
    "arr = np.array(list)\n",
    "arr = arr.reshape(3, 3)    \n",
    "print(arr)"
   ]
  },
  {
   "cell_type": "code",
   "execution_count": 12,
   "metadata": {},
   "outputs": [
    {
     "name": "stdout",
     "output_type": "stream",
     "text": [
      "[[ 49 104  32]\n",
      " [ 19  42  71]\n",
      " [ 42  48  10]]\n"
     ]
    }
   ],
   "source": [
    "arr_add  = [3, 4, 5]\n",
    "\n",
    "arr = arr + arr_add\n",
    "print(arr)"
   ]
  },
  {
   "cell_type": "markdown",
   "metadata": {},
   "source": []
  },
  {
   "cell_type": "markdown",
   "metadata": {},
   "source": [
    "## Qn 4"
   ]
  },
  {
   "cell_type": "markdown",
   "metadata": {},
   "source": [
    "Given an array of employee salaries, calculate the mean, median, and standard\n",
    "deviation."
   ]
  },
  {
   "cell_type": "code",
   "execution_count": 14,
   "metadata": {},
   "outputs": [
    {
     "name": "stdout",
     "output_type": "stream",
     "text": [
      "Mean:  4000.0\n",
      "Median:  4000.0\n",
      "Standard Deviation:  707.1067811865476\n"
     ]
    }
   ],
   "source": [
    "arr = np.array([5000, 4000, 3000, 3500, 4500])\n",
    "print('Mean: ', np.mean(arr))\n",
    "print('Median: ', np.median(arr))\n",
    "print('Standard Deviation: ', np.std(arr))"
   ]
  },
  {
   "cell_type": "markdown",
   "metadata": {},
   "source": [
    "## Qn 5\n"
   ]
  },
  {
   "cell_type": "code",
   "execution_count": null,
   "metadata": {},
   "outputs": [
    {
     "data": {
      "text/plain": [
       "array([4, 2, 3, 1, 0], dtype=int64)"
      ]
     },
     "execution_count": 27,
     "metadata": {},
     "output_type": "execute_result"
    }
   ],
   "source": [
    "marks = np.array([34, 35, 45, 38, 48])\n",
    "indices = np.argsort(marks)[::-1] # storing index in sorted val of element\n",
    "indices"
   ]
  },
  {
   "cell_type": "markdown",
   "metadata": {},
   "source": [
    "## Qn 6"
   ]
  },
  {
   "cell_type": "markdown",
   "metadata": {},
   "source": [
    "Convert a 1D array of length 16 into a\n",
    "4x4 matrix and then flatten it back."
   ]
  },
  {
   "cell_type": "code",
   "execution_count": null,
   "metadata": {},
   "outputs": [
    {
     "name": "stdout",
     "output_type": "stream",
     "text": [
      "[[ 9 23 41 96]\n",
      " [27 60 17 99]\n",
      " [29 68 69 57]\n",
      " [61 85 11 83]]\n"
     ]
    }
   ],
   "source": [
    "list = []\n",
    "for i in range(16):\n",
    "    list.append(random.randint(1, 100))\n",
    "    \n",
    "arr = np.array(list)\n",
    "arr = arr.reshape(4, 4)    \n",
    "print(arr)"
   ]
  },
  {
   "cell_type": "code",
   "execution_count": 17,
   "metadata": {},
   "outputs": [
    {
     "name": "stdout",
     "output_type": "stream",
     "text": [
      "[ 9 23 41 96 27 60 17 99 29 68 69 57 61 85 11 83]\n",
      "[ 9 27 29 61 23 60 68 85 41 17 69 11 96 99 57 83]\n",
      "[ 9 23 41 96 27 60 17 99 29 68 69 57 61 85 11 83]\n"
     ]
    }
   ],
   "source": [
    "print(arr.flatten(order=\"C\")) # row wise\n",
    "print(arr.flatten(order=\"F\")) # column wise\n",
    "print(arr.flatten(order=\"A\")) # as stored in memory"
   ]
  },
  {
   "cell_type": "markdown",
   "metadata": {},
   "source": [
    "## Qn 7\n",
    "\n",
    "Given an array of temperatures in\n",
    "Fahrenheit, convert them to Celsius using\n",
    "a vectorized operation."
   ]
  },
  {
   "cell_type": "code",
   "execution_count": 20,
   "metadata": {},
   "outputs": [
    {
     "name": "stdout",
     "output_type": "stream",
     "text": [
      "[ 89.6  95.   96.8  91.4  98.6 100.4]\n"
     ]
    }
   ],
   "source": [
    "arr = np.array([32, 35, 36, 33,37, 38]) # temp in Cel\n",
    "arr_fr = np.array([x * (9/5) + 32 for x in arr])\n",
    "print(arr_fr)"
   ]
  },
  {
   "cell_type": "markdown",
   "metadata": {},
   "source": [
    "## Qn 8\n",
    "\n",
    "A 10x10 matrix represents a grid where 1\n",
    "means occupied and 0 means free. Find\n",
    "how many positions are occupied."
   ]
  },
  {
   "cell_type": "code",
   "execution_count": null,
   "metadata": {},
   "outputs": [
    {
     "name": "stdout",
     "output_type": "stream",
     "text": [
      "[[1 1 1 0 0 1 1 0 0 1]\n",
      " [0 1 0 1 1 1 1 1 1 0]\n",
      " [0 1 1 0 0 0 1 0 0 0]\n",
      " [1 1 0 0 0 0 0 1 0 1]\n",
      " [1 1 0 0 0 1 1 1 0 1]\n",
      " [0 1 1 1 0 1 1 1 0 1]\n",
      " [0 1 1 1 0 0 1 1 1 1]\n",
      " [1 1 1 1 0 0 0 1 1 0]\n",
      " [1 0 0 0 0 0 0 1 1 0]\n",
      " [0 1 1 1 0 1 1 0 1 1]]\n"
     ]
    }
   ],
   "source": [
    "list = []\n",
    "for i in range(100):\n",
    "    list.append(random.randint(0, 1))\n",
    "    \n",
    "arr = np.array(list)\n",
    "arr = arr.reshape(10, 10)   \n",
    "print(arr)\n",
    "\n"
   ]
  },
  {
   "cell_type": "code",
   "execution_count": 26,
   "metadata": {},
   "outputs": [
    {
     "name": "stdout",
     "output_type": "stream",
     "text": [
      "Occupied: 56\n",
      "Empty:  44\n"
     ]
    }
   ],
   "source": [
    "occupied = np.count_nonzero(arr)\n",
    "empty = 100 - occupied\n",
    "print('Occupied:', occupied)\n",
    "print(\"Empty: \", empty)"
   ]
  }
 ],
 "metadata": {
  "kernelspec": {
   "display_name": "Python 3",
   "language": "python",
   "name": "python3"
  },
  "language_info": {
   "codemirror_mode": {
    "name": "ipython",
    "version": 3
   },
   "file_extension": ".py",
   "mimetype": "text/x-python",
   "name": "python",
   "nbconvert_exporter": "python",
   "pygments_lexer": "ipython3",
   "version": "3.11.4"
  }
 },
 "nbformat": 4,
 "nbformat_minor": 2
}
