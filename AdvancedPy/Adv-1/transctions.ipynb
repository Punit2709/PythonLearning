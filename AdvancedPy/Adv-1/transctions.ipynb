{
 "cells": [
  {
   "cell_type": "code",
   "execution_count": 1,
   "metadata": {},
   "outputs": [
    {
     "name": "stdout",
     "output_type": "stream",
     "text": [
      "[330.0, 440.0, 550.0, 220.0, 55.0, 22.0, 352.0]\n"
     ]
    }
   ],
   "source": [
    "transactions = [300, 400, 500, 200, 50, 20, 320]\n",
    "with_tax = list(map(lambda x : round(x * 1.1, 2), transactions)) # adding 10% tax\n",
    "print(with_tax)"
   ]
  },
  {
   "cell_type": "code",
   "execution_count": 2,
   "metadata": {},
   "outputs": [
    {
     "name": "stdout",
     "output_type": "stream",
     "text": [
      "[330.0, 440.0, 550.0, 220.0, 352.0]\n"
     ]
    }
   ],
   "source": [
    "greater_100 = list(filter(lambda x : x >= 100, with_tax)) # filter out greater than 100\n",
    "print(greater_100)"
   ]
  },
  {
   "cell_type": "code",
   "execution_count": 3,
   "metadata": {},
   "outputs": [],
   "source": [
    "from functools import reduce\n",
    "total_amount = reduce(lambda acc, x : acc + x, with_tax)\n"
   ]
  },
  {
   "cell_type": "code",
   "execution_count": 4,
   "metadata": {},
   "outputs": [
    {
     "name": "stdout",
     "output_type": "stream",
     "text": [
      "1969.0\n"
     ]
    }
   ],
   "source": [
    "print(total_amount)"
   ]
  }
 ],
 "metadata": {
  "kernelspec": {
   "display_name": "Python 3",
   "language": "python",
   "name": "python3"
  },
  "language_info": {
   "codemirror_mode": {
    "name": "ipython",
    "version": 3
   },
   "file_extension": ".py",
   "mimetype": "text/x-python",
   "name": "python",
   "nbconvert_exporter": "python",
   "pygments_lexer": "ipython3",
   "version": "3.11.4"
  }
 },
 "nbformat": 4,
 "nbformat_minor": 2
}
