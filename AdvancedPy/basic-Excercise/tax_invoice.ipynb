{
 "cells": [
  {
   "cell_type": "code",
   "execution_count": 40,
   "metadata": {},
   "outputs": [
    {
     "name": "stdout",
     "output_type": "stream",
     "text": [
      "Hello From Nirmala Taai 👋👋.\n",
      "Your Tax is My Income So Pay it Quickly\n"
     ]
    }
   ],
   "source": [
    "print(f\"\"\"Hello From Nirmala Taai 👋👋.\n",
    "Your Tax is My Income So Pay it Quickly\"\"\")"
   ]
  },
  {
   "cell_type": "code",
   "execution_count": 81,
   "metadata": {},
   "outputs": [],
   "source": [
    "income_slab = [\"0-4\", \"4-8\", \"8-12\", \"12-16\", \"16-20\", \"20-24\", \"24+\"]\n",
    "rate = [0, 5, 10, 15, 20, 25, 30]\n",
    "tax_slab_rate = dict(zip(income_slab, rate))"
   ]
  },
  {
   "cell_type": "code",
   "execution_count": 82,
   "metadata": {},
   "outputs": [
    {
     "name": "stdout",
     "output_type": "stream",
     "text": [
      "| Income Slab    | Tax Rate |\n",
      "|----------------|----------|\n",
      "|1. 0-4          | 0%    |\n",
      "|2. 4-8          | 5%    |\n",
      "|3. 8-12         | 10%    |\n",
      "|4. 12-16        | 15%    |\n",
      "|5. 16-20        | 20%    |\n",
      "|6. 20-24        | 25%    |\n",
      "|7. 24+          | 30%    |\n",
      "|----------------|----------|\n"
     ]
    }
   ],
   "source": [
    "print(\"| Income Slab    | Tax Rate |\")\n",
    "print(\"|----------------|----------|\")\n",
    "for i, (key, value) in enumerate(tax_slab_rate.items(), start=1):\n",
    "    print(f\"|{i}. {key:<10}   | {value:}%    |\")\n",
    "print(\"|----------------|----------|\")    "
   ]
  },
  {
   "cell_type": "code",
   "execution_count": 64,
   "metadata": {},
   "outputs": [
    {
     "name": "stdout",
     "output_type": "stream",
     "text": [
      "7\n"
     ]
    }
   ],
   "source": [
    "income = int(input(\"Enter Ur Yearly Income\"))\n",
    "slab_upper_limit  = [400000, 800000, 1200000, 1600000, 2000000, 2400000] \n",
    "full_income_tax_slab = [0, 20000, 40000, 60000, 80000, 100000]\n",
    "\n",
    "\n",
    "def decide_slab(income):\n",
    "    if(income < 400000):\n",
    "        return 1\n",
    "    elif(income < 800000):\n",
    "        return 2\n",
    "    elif(income < 1200000):\n",
    "        return 3\n",
    "    elif(income < 1600000):\n",
    "        return 4\n",
    "    elif(income < 2000000):\n",
    "        return 5\n",
    "    elif(income < 2400000):\n",
    "        return 6\n",
    "    else:\n",
    "        return 7"
   ]
  },
  {
   "cell_type": "code",
   "execution_count": 78,
   "metadata": {},
   "outputs": [],
   "source": [
    "def income_tax_cal(income):\n",
    "    slab =  decide_slab(income)\n",
    "    sum = 0\n",
    "    for i in range(slab-1):\n",
    "        sum += full_income_tax_slab[i]\n",
    "    remain = income - slab_upper_limit[slab - 2]\n",
    "    remain_tax = (remain * rate[slab-1]) / 100\n",
    "    tax = sum + remain_tax\n",
    "    return tax    "
   ]
  },
  {
   "cell_type": "code",
   "execution_count": 80,
   "metadata": {},
   "outputs": [
    {
     "name": "stdout",
     "output_type": "stream",
     "text": [
      "225000.0\n"
     ]
    }
   ],
   "source": [
    "print(income_tax_cal(income))"
   ]
  }
 ],
 "metadata": {
  "kernelspec": {
   "display_name": "Python 3",
   "language": "python",
   "name": "python3"
  },
  "language_info": {
   "codemirror_mode": {
    "name": "ipython",
    "version": 3
   },
   "file_extension": ".py",
   "mimetype": "text/x-python",
   "name": "python",
   "nbconvert_exporter": "python",
   "pygments_lexer": "ipython3",
   "version": "3.11.4"
  }
 },
 "nbformat": 4,
 "nbformat_minor": 2
}
