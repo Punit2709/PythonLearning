{
 "cells": [
  {
   "cell_type": "code",
   "execution_count": 14,
   "metadata": {},
   "outputs": [
    {
     "name": "stdout",
     "output_type": "stream",
     "text": [
      "Welcome To Rich Finance Lenders !!\n",
      "    Please Provide Your Certain Details\n"
     ]
    }
   ],
   "source": [
    "print(f\"\"\"Welcome To Rich Finance Lenders !!\n",
    "    Please Provide Your Certain Details\"\"\")\n",
    "\n",
    "age = int(input(\"Enter Your Age\"))\n",
    "income =  int(input(\"Enter Your Income\"))\n",
    "loan_amount =  int(input(\"Enter Your Loan Amount U Want\"))\n",
    "credit_score =  int(input(\"Enter Your Credit Score\"))\n"
   ]
  },
  {
   "cell_type": "code",
   "execution_count": 15,
   "metadata": {},
   "outputs": [],
   "source": [
    "def eligible_for_loan(age, income, loan_amount, credit_score=500):\n",
    "    if(age < 18 or credit_score < 500 or loan_amount > 20*income):\n",
    "        return False\n",
    "    return True    "
   ]
  },
  {
   "cell_type": "code",
   "execution_count": 16,
   "metadata": {},
   "outputs": [],
   "source": [
    "is_approved = eligible_for_loan(age, income, loan_amount, credit_score)"
   ]
  },
  {
   "cell_type": "code",
   "execution_count": 19,
   "metadata": {},
   "outputs": [
    {
     "name": "stdout",
     "output_type": "stream",
     "text": [
      "Sorry We can't Provide That Much Big Laon to U.\n",
      "But we Can Provide Loan of 200000 To U\n"
     ]
    }
   ],
   "source": [
    "if is_approved:\n",
    "    print(f\"Congratulations Your Load for {loan_amount} is Approved\")\n",
    "else:    \n",
    "    if(age < 18):\n",
    "        print(f\"Sorry We Are Not Providing Loan To Teenages\")\n",
    "    elif(loan_amount > 20*income):\n",
    "        print(f\"\"\"Sorry We can't Provide That Much Big Laon to U.\n",
    "But we Can Provide Loan of {20*income} To U\"\"\")\n",
    "    else:\n",
    "        print(\"Improve Your Credit Score\")       "
   ]
  },
  {
   "cell_type": "code",
   "execution_count": null,
   "metadata": {},
   "outputs": [],
   "source": []
  }
 ],
 "metadata": {
  "kernelspec": {
   "display_name": "Python 3",
   "language": "python",
   "name": "python3"
  },
  "language_info": {
   "codemirror_mode": {
    "name": "ipython",
    "version": 3
   },
   "file_extension": ".py",
   "mimetype": "text/x-python",
   "name": "python",
   "nbconvert_exporter": "python",
   "pygments_lexer": "ipython3",
   "version": "3.11.4"
  }
 },
 "nbformat": 4,
 "nbformat_minor": 2
}
