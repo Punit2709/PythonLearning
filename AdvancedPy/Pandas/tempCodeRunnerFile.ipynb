drop_df['mean_votes'] = drop_df['Votes'].mean()

high_vote = drop_df.sort_values(by='mean_votes' ascending=False)
high_vote.head(1)