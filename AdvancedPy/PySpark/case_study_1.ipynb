{
 "cells": [
  {
   "cell_type": "code",
   "execution_count": 2,
   "metadata": {},
   "outputs": [
    {
     "name": "stdout",
     "output_type": "stream",
     "text": [
      "Requirement already satisfied: pyspark in c:\\users\\dell\\appdata\\local\\programs\\python\\python311\\lib\\site-packages (3.5.4)"
     ]
    },
    {
     "name": "stderr",
     "output_type": "stream",
     "text": [
      "\n",
      "[notice] A new release of pip is available: 24.0 -> 25.0.1\n",
      "[notice] To update, run: python.exe -m pip install --upgrade pip\n"
     ]
    },
    {
     "name": "stdout",
     "output_type": "stream",
     "text": [
      "\n",
      "Requirement already satisfied: py4j==0.10.9.7 in c:\\users\\dell\\appdata\\local\\programs\\python\\python311\\lib\\site-packages (from pyspark) (0.10.9.7)\n"
     ]
    }
   ],
   "source": [
    "!pip install pyspark"
   ]
  },
  {
   "cell_type": "code",
   "execution_count": 3,
   "metadata": {},
   "outputs": [
    {
     "data": {
      "text/html": [
       "\n",
       "            <div>\n",
       "                <p><b>SparkSession - in-memory</b></p>\n",
       "                \n",
       "        <div>\n",
       "            <p><b>SparkContext</b></p>\n",
       "\n",
       "            <p><a href=\"http://DESKTOP-KMKHMF1:4040\">Spark UI</a></p>\n",
       "\n",
       "            <dl>\n",
       "              <dt>Version</dt>\n",
       "                <dd><code>v3.5.4</code></dd>\n",
       "              <dt>Master</dt>\n",
       "                <dd><code>local[*]</code></dd>\n",
       "              <dt>AppName</dt>\n",
       "                <dd><code>MyApp</code></dd>\n",
       "            </dl>\n",
       "        </div>\n",
       "        \n",
       "            </div>\n",
       "        "
      ],
      "text/plain": [
       "<pyspark.sql.session.SparkSession at 0x2507a26f190>"
      ]
     },
     "execution_count": 3,
     "metadata": {},
     "output_type": "execute_result"
    }
   ],
   "source": [
    "from pyspark.sql import SparkSession\n",
    "\n",
    "# Create a Spark session\n",
    "spark = SparkSession.builder \\\n",
    "    .appName(\"MyApp\") \\\n",
    "    .master(\"local[*]\") \\\n",
    "    .getOrCreate()  # Use all available CPU cores\n",
    "\n",
    "# Verify Spark session\n",
    "spark"
   ]
  },
  {
   "cell_type": "markdown",
   "metadata": {},
   "source": [
    "### Qn 1\n",
    "- Load the JSON file into a PySpark DataFrame and display the first 5 rows."
   ]
  },
  {
   "cell_type": "code",
   "execution_count": 4,
   "metadata": {},
   "outputs": [],
   "source": [
    "df = spark.read.json('../PySpark/sample_data/users_data.json', multiLine=True)"
   ]
  },
  {
   "cell_type": "code",
   "execution_count": 5,
   "metadata": {},
   "outputs": [
    {
     "name": "stdout",
     "output_type": "stream",
     "text": [
      "+---+-------------+--------------------+---+--------+\n",
      "|age|         city|             friends| id|    name|\n",
      "+---+-------------+--------------------+---+--------+\n",
      "| 78|       Austin|[{[Watching Sport...|  0|  Elijah|\n",
      "| 97|       Boston|[{[Watching Sport...|  1|    Noah|\n",
      "| 48|    San Diego|[{[Reading, Volun...|  2|     Evy|\n",
      "| 39|    St. Louis|[{[Watching Sport...|  3|  Oliver|\n",
      "| 95|    St. Louis|[{[Movie Watching...|  4| Michael|\n",
      "| 19|     Portland|[{[Painting, Tele...|  5| Michael|\n",
      "| 76|       Austin|[{[Genealogy, Coo...|  6|   Lucas|\n",
      "| 25|  San Antonio|[{[Music, Golf], ...|  7|Michelle|\n",
      "| 61|       Austin|[{[Bicycling, Ski...|  8|   Emily|\n",
      "| 33|  New Orleans|[{[Traveling, Bic...|  9|    Liam|\n",
      "| 59|  New Orleans|[{[Video Games, F...| 10|    Levi|\n",
      "| 82|     Portland|[{[Jewelry Making...| 11|   Lucas|\n",
      "| 82|   Charleston|[{[Eating Out], O...| 12|   Kevin|\n",
      "| 34|  San Antonio|[{[Yoga, Travelin...| 13|  Olivia|\n",
      "| 49|  Los Angeles|[{[Yoga, Televisi...| 14|  Robert|\n",
      "| 98|      Chicago|[{[Traveling, Gen...| 15|   Grace|\n",
      "| 78|  New Orleans|[{[Running, House...| 16| Michael|\n",
      "| 19| Palm Springs|[{[Playing Cards,...| 17|   Mateo|\n",
      "| 38|      Chicago|[{[Tennis, Eating...| 18|    Levi|\n",
      "| 49|New York City|[{[Writing, Playi...| 19|    Luke|\n",
      "+---+-------------+--------------------+---+--------+\n",
      "only showing top 20 rows\n",
      "\n"
     ]
    }
   ],
   "source": [
    "df.show()"
   ]
  },
  {
   "cell_type": "code",
   "execution_count": 6,
   "metadata": {},
   "outputs": [
    {
     "name": "stdout",
     "output_type": "stream",
     "text": [
      "+---------------+\n",
      "|           city|\n",
      "+---------------+\n",
      "|     Charleston|\n",
      "|       Savannah|\n",
      "|    San Antonio|\n",
      "|    Los Angeles|\n",
      "|Saint Augustine|\n",
      "|      San Diego|\n",
      "|      Nashville|\n",
      "|  San Francisco|\n",
      "|       Portland|\n",
      "|      St. Louis|\n",
      "|         Austin|\n",
      "|     Washington|\n",
      "|        Chicago|\n",
      "|    Miami Beach|\n",
      "|        Branson|\n",
      "|         Sedona|\n",
      "|    New Orleans|\n",
      "|      Las Vegas|\n",
      "|       Honolulu|\n",
      "|        Seattle|\n",
      "+---------------+\n",
      "only showing top 20 rows\n",
      "\n"
     ]
    }
   ],
   "source": [
    "df.dropDuplicates(['city']).select('city').show()"
   ]
  },
  {
   "cell_type": "markdown",
   "metadata": {},
   "source": [
    "### Qn 3\n",
    "- Count the total number of users present in the dataset."
   ]
  },
  {
   "cell_type": "code",
   "execution_count": 7,
   "metadata": {},
   "outputs": [
    {
     "data": {
      "text/plain": [
       "35"
      ]
     },
     "execution_count": 7,
     "metadata": {},
     "output_type": "execute_result"
    }
   ],
   "source": [
    "df_users = df.select('name').distinct()\n",
    "df_users.count()"
   ]
  },
  {
   "cell_type": "markdown",
   "metadata": {},
   "source": [
    "### Qn 4\n",
    "- Filter out users who are older than 80 years and display their names and ages."
   ]
  },
  {
   "cell_type": "code",
   "execution_count": 8,
   "metadata": {},
   "outputs": [
    {
     "name": "stdout",
     "output_type": "stream",
     "text": [
      "+-------+---+\n",
      "|   name|age|\n",
      "+-------+---+\n",
      "|   Noah| 97|\n",
      "|Michael| 95|\n",
      "|  Lucas| 82|\n",
      "|  Kevin| 82|\n",
      "|  Grace| 98|\n",
      "|  Kevin| 93|\n",
      "|  Kevin| 97|\n",
      "|  Emily| 82|\n",
      "|   Luke| 84|\n",
      "| Robert| 89|\n",
      "| Elijah| 96|\n",
      "| Sophie| 84|\n",
      "|  Kevin| 88|\n",
      "|  Chloe| 97|\n",
      "|   Nora| 83|\n",
      "| Amelia| 84|\n",
      "|    Leo| 97|\n",
      "|  Mateo| 95|\n",
      "| Olivia| 89|\n",
      "| Amelia| 96|\n",
      "+-------+---+\n",
      "only showing top 20 rows\n",
      "\n"
     ]
    }
   ],
   "source": [
    "df_super_senior = df.filter(df.age >= 80)['name', 'age']\n",
    "df_super_senior.show()"
   ]
  },
  {
   "cell_type": "markdown",
   "metadata": {},
   "source": [
    "### Qn 5\n",
    "- Extract the list of unique cities where the users live."
   ]
  },
  {
   "cell_type": "code",
   "execution_count": 9,
   "metadata": {},
   "outputs": [
    {
     "name": "stdout",
     "output_type": "stream",
     "text": [
      "+---------------+\n",
      "|           city|\n",
      "+---------------+\n",
      "|     Charleston|\n",
      "|       Savannah|\n",
      "|    San Antonio|\n",
      "|    Los Angeles|\n",
      "|Saint Augustine|\n",
      "|      San Diego|\n",
      "|      Nashville|\n",
      "|  San Francisco|\n",
      "|       Portland|\n",
      "|      St. Louis|\n",
      "|         Austin|\n",
      "|     Washington|\n",
      "|        Chicago|\n",
      "|    Miami Beach|\n",
      "|        Branson|\n",
      "|         Sedona|\n",
      "|    New Orleans|\n",
      "|      Las Vegas|\n",
      "|       Honolulu|\n",
      "|        Seattle|\n",
      "+---------------+\n",
      "only showing top 20 rows\n",
      "\n"
     ]
    }
   ],
   "source": [
    "df_city = df.dropDuplicates(['city'])\n",
    "df_city.select('city').show()"
   ]
  },
  {
   "cell_type": "markdown",
   "metadata": {},
   "source": [
    "### Qn 6\n",
    "- Display each user's name alongside the names of their friends by flattening the friends column."
   ]
  },
  {
   "cell_type": "code",
   "execution_count": 10,
   "metadata": {},
   "outputs": [
    {
     "name": "stdout",
     "output_type": "stream",
     "text": [
      "+-------+--------+\n",
      "|   name|  Friend|\n",
      "+-------+--------+\n",
      "| Elijah|Michelle|\n",
      "| Elijah|  Robert|\n",
      "|   Noah|  Oliver|\n",
      "|   Noah|  Olivia|\n",
      "|   Noah|  Robert|\n",
      "|   Noah|     Ava|\n",
      "|   Noah| Michael|\n",
      "|   Noah| Michael|\n",
      "|    Evy|     Joe|\n",
      "|    Evy|     Joe|\n",
      "|    Evy|  Oliver|\n",
      "|    Evy|    Liam|\n",
      "|    Evy|  Amelia|\n",
      "| Oliver|   Mateo|\n",
      "| Oliver|    Nora|\n",
      "| Oliver|     Ava|\n",
      "| Oliver|  Amelia|\n",
      "| Oliver|     Leo|\n",
      "|Michael|   Mateo|\n",
      "|Michael|   Chris|\n",
      "+-------+--------+\n",
      "only showing top 20 rows\n",
      "\n"
     ]
    }
   ],
   "source": [
    "from pyspark.sql.functions import explode, col\n",
    "\n",
    "df_friend = df.select('name', explode('friends').alias('Friends'))  # Explode friends column\n",
    "df_friend = df_friend.select(col('name'), col('Friends.name').alias('Friend'))  # Extract only friend's name\n",
    "df_friend.show()"
   ]
  },
  {
   "cell_type": "markdown",
   "metadata": {},
   "source": [
    "### Qn 7\n",
    "- Identify the user who has the most friends in the dataset."
   ]
  },
  {
   "cell_type": "code",
   "execution_count": 11,
   "metadata": {},
   "outputs": [
    {
     "name": "stdout",
     "output_type": "stream",
     "text": [
      "+-------+-----+\n",
      "|   name|count|\n",
      "+-------+-----+\n",
      "|Michael| 1294|\n",
      "+-------+-----+\n",
      "only showing top 1 row\n",
      "\n"
     ]
    }
   ],
   "source": [
    "from pyspark.sql.functions import count\n",
    "\n",
    "df_most_frnd = df_friend.groupBy('name').agg(count('name').alias('count'))\n",
    "df_most_frnd.orderBy('count', ascending = False).show(1)"
   ]
  },
  {
   "cell_type": "markdown",
   "metadata": {},
   "source": [
    "### Qn 8\n",
    "- Count the total number of unique hobbies listed across all users."
   ]
  },
  {
   "cell_type": "code",
   "execution_count": 12,
   "metadata": {},
   "outputs": [
    {
     "data": {
      "text/plain": [
       "37"
      ]
     },
     "execution_count": 12,
     "metadata": {},
     "output_type": "execute_result"
    }
   ],
   "source": [
    "from pyspark.sql.functions import col, explode\n",
    "df_friendlist = df.select(col('name'), explode('friends').alias('Friend'))\n",
    "df_hobbies = df_friendlist.select(explode(col('Friend.hobbies')).alias('hobby')) # getting hobby out of \n",
    "df_dis_hob = df_hobbies.select('hobby').distinct() # getting distinct hobby\n",
    "df_dis_hob.count()"
   ]
  },
  {
   "cell_type": "markdown",
   "metadata": {},
   "source": [
    "### Qn 9\n",
    "- Find the most common hobby among all the users' friends."
   ]
  },
  {
   "cell_type": "code",
   "execution_count": 13,
   "metadata": {},
   "outputs": [
    {
     "name": "stdout",
     "output_type": "stream",
     "text": [
      "+-----------+-----+\n",
      "|      hobby|count|\n",
      "+-----------+-----+\n",
      "|Video Games| 2766|\n",
      "+-----------+-----+\n",
      "only showing top 1 row\n",
      "\n"
     ]
    }
   ],
   "source": [
    "df_most_cmn_hob = df_hobbies.groupBy('hobby').agg(count('hobby').alias('count'))\n",
    "df_most_cmn_hob.orderBy('count', ascending = False).show(1)"
   ]
  },
  {
   "cell_type": "markdown",
   "metadata": {},
   "source": [
    "### Qn 10\n",
    "- Add a new column age_category to classify users as Senior (age >= 60) or Adult (age < 60)."
   ]
  },
  {
   "cell_type": "code",
   "execution_count": 14,
   "metadata": {},
   "outputs": [
    {
     "name": "stdout",
     "output_type": "stream",
     "text": [
      "+---+-------------+--------------------+---+--------+------------+\n",
      "|age|         city|             friends| id|    name|age_category|\n",
      "+---+-------------+--------------------+---+--------+------------+\n",
      "| 78|       Austin|[{[Watching Sport...|  0|  Elijah|      Senior|\n",
      "| 97|       Boston|[{[Watching Sport...|  1|    Noah|      Senior|\n",
      "| 48|    San Diego|[{[Reading, Volun...|  2|     Evy|       adult|\n",
      "| 39|    St. Louis|[{[Watching Sport...|  3|  Oliver|       adult|\n",
      "| 95|    St. Louis|[{[Movie Watching...|  4| Michael|      Senior|\n",
      "| 19|     Portland|[{[Painting, Tele...|  5| Michael|       adult|\n",
      "| 76|       Austin|[{[Genealogy, Coo...|  6|   Lucas|      Senior|\n",
      "| 25|  San Antonio|[{[Music, Golf], ...|  7|Michelle|       adult|\n",
      "| 61|       Austin|[{[Bicycling, Ski...|  8|   Emily|      Senior|\n",
      "| 33|  New Orleans|[{[Traveling, Bic...|  9|    Liam|       adult|\n",
      "| 59|  New Orleans|[{[Video Games, F...| 10|    Levi|       adult|\n",
      "| 82|     Portland|[{[Jewelry Making...| 11|   Lucas|      Senior|\n",
      "| 82|   Charleston|[{[Eating Out], O...| 12|   Kevin|      Senior|\n",
      "| 34|  San Antonio|[{[Yoga, Travelin...| 13|  Olivia|       adult|\n",
      "| 49|  Los Angeles|[{[Yoga, Televisi...| 14|  Robert|       adult|\n",
      "| 98|      Chicago|[{[Traveling, Gen...| 15|   Grace|      Senior|\n",
      "| 78|  New Orleans|[{[Running, House...| 16| Michael|      Senior|\n",
      "| 19| Palm Springs|[{[Playing Cards,...| 17|   Mateo|       adult|\n",
      "| 38|      Chicago|[{[Tennis, Eating...| 18|    Levi|       adult|\n",
      "| 49|New York City|[{[Writing, Playi...| 19|    Luke|       adult|\n",
      "+---+-------------+--------------------+---+--------+------------+\n",
      "only showing top 20 rows\n",
      "\n"
     ]
    }
   ],
   "source": [
    "from pyspark.sql.functions import when, col\n",
    "df_new = df.withColumn('age_category', when(col('age')> 60, 'Senior').otherwise('adult'))\n",
    "df_new.show()"
   ]
  },
  {
   "cell_type": "markdown",
   "metadata": {},
   "source": [
    "### Qn 11\n",
    "- Write the modified DataFrame (with the age_category column) back to a new JSON file."
   ]
  },
  {
   "cell_type": "code",
   "execution_count": 15,
   "metadata": {},
   "outputs": [],
   "source": [
    "df_new.write.mode('overwrite').json('../PySpark/sample_data/new_users_data.json')"
   ]
  }
 ],
 "metadata": {
  "kernelspec": {
   "display_name": "Python 3",
   "language": "python",
   "name": "python3"
  },
  "language_info": {
   "codemirror_mode": {
    "name": "ipython",
    "version": 3
   },
   "file_extension": ".py",
   "mimetype": "text/x-python",
   "name": "python",
   "nbconvert_exporter": "python",
   "pygments_lexer": "ipython3",
   "version": "3.11.4"
  }
 },
 "nbformat": 4,
 "nbformat_minor": 2
}
