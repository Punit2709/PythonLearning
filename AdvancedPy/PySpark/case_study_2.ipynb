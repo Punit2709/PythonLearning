{
 "cells": [
  {
   "cell_type": "code",
   "execution_count": 2,
   "metadata": {},
   "outputs": [
    {
     "name": "stdout",
     "output_type": "stream",
     "text": [
      "Requirement already satisfied: pyspark in c:\\users\\dell\\appdata\\local\\programs\\python\\python311\\lib\\site-packages (3.5.4)\n",
      "Requirement already satisfied: py4j==0.10.9.7 in c:\\users\\dell\\appdata\\local\\programs\\python\\python311\\lib\\site-packages (from pyspark) (0.10.9.7)\n"
     ]
    },
    {
     "name": "stderr",
     "output_type": "stream",
     "text": [
      "\n",
      "[notice] A new release of pip is available: 24.0 -> 25.0.1\n",
      "[notice] To update, run: python.exe -m pip install --upgrade pip\n"
     ]
    }
   ],
   "source": [
    "!pip install pyspark"
   ]
  },
  {
   "cell_type": "code",
   "execution_count": 3,
   "metadata": {},
   "outputs": [
    {
     "data": {
      "text/html": [
       "\n",
       "            <div>\n",
       "                <p><b>SparkSession - in-memory</b></p>\n",
       "                \n",
       "        <div>\n",
       "            <p><b>SparkContext</b></p>\n",
       "\n",
       "            <p><a href=\"http://DESKTOP-KMKHMF1:4040\">Spark UI</a></p>\n",
       "\n",
       "            <dl>\n",
       "              <dt>Version</dt>\n",
       "                <dd><code>v3.5.4</code></dd>\n",
       "              <dt>Master</dt>\n",
       "                <dd><code>local[*]</code></dd>\n",
       "              <dt>AppName</dt>\n",
       "                <dd><code>myApp</code></dd>\n",
       "            </dl>\n",
       "        </div>\n",
       "        \n",
       "            </div>\n",
       "        "
      ],
      "text/plain": [
       "<pyspark.sql.session.SparkSession at 0x25559caa650>"
      ]
     },
     "execution_count": 3,
     "metadata": {},
     "output_type": "execute_result"
    }
   ],
   "source": [
    "from pyspark.sql import SparkSession\n",
    "\n",
    "spark = SparkSession.builder \\\n",
    "        .appName('myApp') \\\n",
    "        .master('local[*]') \\\n",
    "        .getOrCreate()\n",
    "        \n",
    "spark"
   ]
  },
  {
   "cell_type": "markdown",
   "metadata": {},
   "source": [
    "### Qn 1\n",
    "- Load both CSV files into separate PySpark DataFrames and display the first 5 rows of each."
   ]
  },
  {
   "cell_type": "code",
   "execution_count": 4,
   "metadata": {},
   "outputs": [
    {
     "name": "stdout",
     "output_type": "stream",
     "text": [
      "+-----+---------------+----------+---------+--------------------+------------------+--------------------+--------------------+-------------------+--------------------+-----------------+--------------------+\n",
      "|Index|     Company Id|First Name|Last Name|             Company|              City|             Country|             Phone 1|            Phone 2|               Email|Subscription Date|             Website|\n",
      "+-----+---------------+----------+---------+--------------------+------------------+--------------------+--------------------+-------------------+--------------------+-----------------+--------------------+\n",
      "|    1|dE014d010c7ab0c|    Andrew|  Goodman|       Stewart-Flynn|       Rowlandberg|               Macao|   846-790-4623x4715|(422)787-2331x71127|marieyates@gomez-...|       26-07-2021|http://www.shea.biz/|\n",
      "|    2|2B54172c8b65eC3|     Alvin|     Lane|Terry, Proctor an...|          Bethside|    Papua New Guinea|  124-597-8652x05682|  321.441.0588x6218|alexandra86@mccoy...|       24-06-2021|http://www.pena-c...|\n",
      "|    3|d794Dd48988d2ac|     Jenna|  Harding|        Bailey Group|      Moniquemouth|               China|  (335)987-3085x3780|   001-680-204-8312|justincurtis@pier...|       05-04-2020|http://www.booth-...|\n",
      "|    4|3b3Aa4aCc68f3Be|  Fernando|     Ford|        Moss-Maxwell|        Leeborough|               Macao|       (047)752-3122|  048.779.5035x9122| adeleon@hubbard.org|       29-11-2020|http://www.hebert...|\n",
      "|    5|D60df62ad2ae41E|      Kara|    Woods|     Mccarthy-Kelley|  Port Jacksonland|               Nepal|+1-360-693-4419x1...|       163-627-2565|jesus90@roberson....|       22-04-2022| http://merritt.com/|\n",
      "|    6|8aaa5d0CE9ee311|   Marissa|   Gamble|     Cherry and Sons|         Webertown|               Sudan|001-645-334-5514x...|      (751)980-3163|katieallison@leon...|       17-11-2021|http://www.kaufma...|\n",
      "|    7|73B22Ac8A43DD1A|     Julie|   Cooley|Yu, Norman and Sharp|       West Sandra|               Japan|+1-675-243-7422x9177|      (703)337-5903|priscilla88@steph...|       26-03-2022|http://www.sexton...|\n",
      "|    8|DC94CCd993D311b|    Lauren|    Villa|French, Travis an...|       New Yolanda|                Fiji|    081.226.1797x647|   186.540.9690x605|colehumphrey@aust...|       14-08-2020|https://www.kerr....|\n",
      "|    9|9Ba746Cb790FED9|     Emily|   Bryant|Moon, Strickland ...|East Normanchester|          Seychelles|  430-401-5228x35091|       115-835-3840|buckyvonne@church...|       30-12-2020|  http://grimes.com/|\n",
      "|   10|aAa1EDfaA70DA0c|     Marie|  Estrada|             May Inc|          Welchton|United Arab Emirates|    001-648-790-9244|       973-767-3611|christie44@mckenz...|       03-09-2020|https://www.salin...|\n",
      "|   11|bf104C25d0BA4E1|   Nichole|   Cannon|       Rios and Sons|        West Devon|             Burundi|          0647787401|       139.476.1068|blandry@henson-ha...|       26-04-2021|http://www.humphr...|\n",
      "|   12|06c9e9caEBf539F|   Bernard|   Ritter|   Bradford and Sons|    West Francisco|               Palau|        292.313.1902|      (065)075-0554|tammiepope@arroyo...|       19-01-2022| http://sellers.biz/|\n",
      "|   13|D02c86e781bA06f|    Darryl|   Archer|         Kerr-Cherry|          Holtfurt|              Uganda|       (389)437-1716|   092.364.7349x593|woodalejandro@ski...|       18-04-2022|https://www.danie...|\n",
      "|   14|846D8B34aba64a6|      Ryan|       Li|Hooper, Cross and...|        Batesville|       Liechtenstein|001-119-787-0125x...|   001-477-254-3645|    lmassey@duke.com|       06-03-2021|   http://nunez.com/|\n",
      "|   15|305B77b17f60849|     Vicki|    Nunez|Leonard, Galvan a...|    Barbaraborough|               Haiti|       (217)474-0312|(098)195-0840x79579|  zgrant@sweeney.com|       30-01-2022|https://reynolds....|\n",
      "|   16|610e5F3baCbd25c|      Sean| Townsend|        Preston-Sosa|     Velasquezberg|                Iran|    001-534-283-5153|         5786415664| lkline@maxwell.info|       30-05-2020|http://www.vargas...|\n",
      "|   17|9F0EbC3b678ad6B|    Sophia|   Mathis|   Richard-Velasquez|         Toddhaven|         Switzerland|001-858-762-7896x916| 274-147-4185x15182|brockmason@faulkn...|       23-01-2020|http://www.vaughn...|\n",
      "|   18|82dDB5e20CAA2Ce|     Helen|    Potts|Rangel, Livingsto...|       Douglasland|          Seychelles|       (140)862-2659|              -8339|carrollmia@donova...|       27-07-2021|http://www.kenned...|\n",
      "|   19|b78002FEFF5a860|     Joann|   Finley|          Harvey PLC|      Barrettshire|          Montserrat|   (941)715-8720x950|   155.433.4824x955|gabriela86@sampso...|       11-04-2022|http://www.harrel...|\n",
      "|   20|F6cD561cecdfA6d|    Thomas|    Walsh|         Best-Thomas|        Roblesport|            Kiribati|        679.326.0724|   001-305-038-6009|timcoleman@frank-...|       11-09-2020|http://www.kane.com/|\n",
      "+-----+---------------+----------+---------+--------------------+------------------+--------------------+--------------------+-------------------+--------------------+-----------------+--------------------+\n",
      "only showing top 20 rows\n",
      "\n"
     ]
    }
   ],
   "source": [
    "emp_df = spark.read.csv('../PySpark/sample_data/employee_list.csv', header=True, inferSchema=True)\n",
    "emp_df.show()"
   ]
  },
  {
   "cell_type": "code",
   "execution_count": 5,
   "metadata": {},
   "outputs": [
    {
     "name": "stdout",
     "output_type": "stream",
     "text": [
      "+-----+---------------+----------+---------+--------------------+------------------+--------------------+--------------------+-------------------+--------------------+-----------------+--------------------+\n",
      "|Index|     Company Id|First Name|Last Name|             Company|              City|             Country|             Phone 1|            Phone 2|               Email|Subscription Date|             Website|\n",
      "+-----+---------------+----------+---------+--------------------+------------------+--------------------+--------------------+-------------------+--------------------+-----------------+--------------------+\n",
      "|    1|dE014d010c7ab0c|    Andrew|  Goodman|       Stewart-Flynn|       Rowlandberg|               Macao|   846-790-4623x4715|(422)787-2331x71127|marieyates@gomez-...|       26-07-2021|http://www.shea.biz/|\n",
      "|    2|2B54172c8b65eC3|     Alvin|     Lane|Terry, Proctor an...|          Bethside|    Papua New Guinea|  124-597-8652x05682|  321.441.0588x6218|alexandra86@mccoy...|       24-06-2021|http://www.pena-c...|\n",
      "|    3|d794Dd48988d2ac|     Jenna|  Harding|        Bailey Group|      Moniquemouth|               China|  (335)987-3085x3780|   001-680-204-8312|justincurtis@pier...|       05-04-2020|http://www.booth-...|\n",
      "|    4|3b3Aa4aCc68f3Be|  Fernando|     Ford|        Moss-Maxwell|        Leeborough|               Macao|       (047)752-3122|  048.779.5035x9122| adeleon@hubbard.org|       29-11-2020|http://www.hebert...|\n",
      "|    5|D60df62ad2ae41E|      Kara|    Woods|     Mccarthy-Kelley|  Port Jacksonland|               Nepal|+1-360-693-4419x1...|       163-627-2565|jesus90@roberson....|       22-04-2022| http://merritt.com/|\n",
      "|    6|8aaa5d0CE9ee311|   Marissa|   Gamble|     Cherry and Sons|         Webertown|               Sudan|001-645-334-5514x...|      (751)980-3163|katieallison@leon...|       17-11-2021|http://www.kaufma...|\n",
      "|    7|73B22Ac8A43DD1A|     Julie|   Cooley|Yu, Norman and Sharp|       West Sandra|               Japan|+1-675-243-7422x9177|      (703)337-5903|priscilla88@steph...|       26-03-2022|http://www.sexton...|\n",
      "|    8|DC94CCd993D311b|    Lauren|    Villa|French, Travis an...|       New Yolanda|                Fiji|    081.226.1797x647|   186.540.9690x605|colehumphrey@aust...|       14-08-2020|https://www.kerr....|\n",
      "|    9|9Ba746Cb790FED9|     Emily|   Bryant|Moon, Strickland ...|East Normanchester|          Seychelles|  430-401-5228x35091|       115-835-3840|buckyvonne@church...|       30-12-2020|  http://grimes.com/|\n",
      "|   10|aAa1EDfaA70DA0c|     Marie|  Estrada|             May Inc|          Welchton|United Arab Emirates|    001-648-790-9244|       973-767-3611|christie44@mckenz...|       03-09-2020|https://www.salin...|\n",
      "|   11|bf104C25d0BA4E1|   Nichole|   Cannon|       Rios and Sons|        West Devon|             Burundi|          0647787401|       139.476.1068|blandry@henson-ha...|       26-04-2021|http://www.humphr...|\n",
      "|   12|06c9e9caEBf539F|   Bernard|   Ritter|   Bradford and Sons|    West Francisco|               Palau|        292.313.1902|      (065)075-0554|tammiepope@arroyo...|       19-01-2022| http://sellers.biz/|\n",
      "|   13|D02c86e781bA06f|    Darryl|   Archer|         Kerr-Cherry|          Holtfurt|              Uganda|       (389)437-1716|   092.364.7349x593|woodalejandro@ski...|       18-04-2022|https://www.danie...|\n",
      "|   14|846D8B34aba64a6|      Ryan|       Li|Hooper, Cross and...|        Batesville|       Liechtenstein|001-119-787-0125x...|   001-477-254-3645|    lmassey@duke.com|       06-03-2021|   http://nunez.com/|\n",
      "|   15|305B77b17f60849|     Vicki|    Nunez|Leonard, Galvan a...|    Barbaraborough|               Haiti|       (217)474-0312|(098)195-0840x79579|  zgrant@sweeney.com|       30-01-2022|https://reynolds....|\n",
      "|   16|610e5F3baCbd25c|      Sean| Townsend|        Preston-Sosa|     Velasquezberg|                Iran|    001-534-283-5153|         5786415664| lkline@maxwell.info|       30-05-2020|http://www.vargas...|\n",
      "|   17|9F0EbC3b678ad6B|    Sophia|   Mathis|   Richard-Velasquez|         Toddhaven|         Switzerland|001-858-762-7896x916| 274-147-4185x15182|brockmason@faulkn...|       23-01-2020|http://www.vaughn...|\n",
      "|   18|82dDB5e20CAA2Ce|     Helen|    Potts|Rangel, Livingsto...|       Douglasland|          Seychelles|       (140)862-2659|              -8339|carrollmia@donova...|       27-07-2021|http://www.kenned...|\n",
      "|   19|b78002FEFF5a860|     Joann|   Finley|          Harvey PLC|      Barrettshire|          Montserrat|   (941)715-8720x950|   155.433.4824x955|gabriela86@sampso...|       11-04-2022|http://www.harrel...|\n",
      "|   20|F6cD561cecdfA6d|    Thomas|    Walsh|         Best-Thomas|        Roblesport|            Kiribati|        679.326.0724|   001-305-038-6009|timcoleman@frank-...|       11-09-2020|http://www.kane.com/|\n",
      "+-----+---------------+----------+---------+--------------------+------------------+--------------------+--------------------+-------------------+--------------------+-----------------+--------------------+\n",
      "only showing top 20 rows\n",
      "\n"
     ]
    }
   ],
   "source": [
    "mng_df = spark.read.csv('../PySpark/sample_data/managers_list.csv', header=True, inferSchema=True)\n",
    "emp_df.show()"
   ]
  },
  {
   "cell_type": "markdown",
   "metadata": {},
   "source": [
    "### Qn 2\n",
    "- Perform an inner join between the two datasets on the Company Id field and display the result."
   ]
  },
  {
   "cell_type": "code",
   "execution_count": 6,
   "metadata": {},
   "outputs": [
    {
     "name": "stdout",
     "output_type": "stream",
     "text": [
      "+-----+---------------+----------+---------+--------------------+------------------+--------------------+--------------------+-------------------+--------------------+-----------------+--------------------+-----+---------------+----------+---------+------+--------------------+--------------------+-------------+--------------------+\n",
      "|Index|     Company Id|First Name|Last Name|             Company|              City|             Country|             Phone 1|            Phone 2|               Email|Subscription Date|             Website|Index|     Company Id|First Name|Last Name|   Sex|               Email|               Phone|Date of birth|           Job Title|\n",
      "+-----+---------------+----------+---------+--------------------+------------------+--------------------+--------------------+-------------------+--------------------+-----------------+--------------------+-----+---------------+----------+---------+------+--------------------+--------------------+-------------+--------------------+\n",
      "|    1|dE014d010c7ab0c|    Andrew|  Goodman|       Stewart-Flynn|       Rowlandberg|               Macao|   846-790-4623x4715|(422)787-2331x71127|marieyates@gomez-...|       26-07-2021|http://www.shea.biz/|    1|dE014d010c7ab0c|    Shelia|  Mahoney|  Male| pwarner@example.org|        857.139.8239|   27-01-2014|   Probation officer|\n",
      "|    2|2B54172c8b65eC3|     Alvin|     Lane|Terry, Proctor an...|          Bethside|    Papua New Guinea|  124-597-8652x05682|  321.441.0588x6218|alexandra86@mccoy...|       24-06-2021|http://www.pena-c...|    2|2B54172c8b65eC3|        Jo|   Rivers|Female|fergusonkatherine...|              -10395|   26-07-1931|              Dancer|\n",
      "|    3|d794Dd48988d2ac|     Jenna|  Harding|        Bailey Group|      Moniquemouth|               China|  (335)987-3085x3780|   001-680-204-8312|justincurtis@pier...|       05-04-2020|http://www.booth-...|    3|d794Dd48988d2ac|    Sheryl|   Lowery|Female| fhoward@example.org|       (599)782-0605|   25-11-2013|                Copy|\n",
      "|    4|3b3Aa4aCc68f3Be|  Fernando|     Ford|        Moss-Maxwell|        Leeborough|               Macao|       (047)752-3122|  048.779.5035x9122| adeleon@hubbard.org|       29-11-2020|http://www.hebert...|    4|3b3Aa4aCc68f3Be|   Whitney|   Hooper|  Male|zjohnston@example...|               -7326|   17-11-2012|Counselling psych...|\n",
      "|    5|D60df62ad2ae41E|      Kara|    Woods|     Mccarthy-Kelley|  Port Jacksonland|               Nepal|+1-360-693-4419x1...|       163-627-2565|jesus90@roberson....|       22-04-2022| http://merritt.com/|    5|D60df62ad2ae41E|   Lindsey|     Rice|Female|    elin@example.net|  (390)417-1635x3010|   15-04-1923| Biomedical engineer|\n",
      "|    6|8aaa5d0CE9ee311|   Marissa|   Gamble|     Cherry and Sons|         Webertown|               Sudan|001-645-334-5514x...|      (751)980-3163|katieallison@leon...|       17-11-2021|http://www.kaufma...|    6|8aaa5d0CE9ee311|    Sherry| Caldwell|  Male|kaitlin13@example...|          8537800927|   06-08-1917|Higher education ...|\n",
      "|    7|73B22Ac8A43DD1A|     Julie|   Cooley|Yu, Norman and Sharp|       West Sandra|               Japan|+1-675-243-7422x9177|      (703)337-5903|priscilla88@steph...|       26-03-2022|http://www.sexton...|    7|73B22Ac8A43DD1A|    Ernest|  Hoffman|  Male|jeffharvey@exampl...|   093.655.7480x7895|   22-12-1984|      Health visitor|\n",
      "|    8|DC94CCd993D311b|    Lauren|    Villa|French, Travis an...|       New Yolanda|                Fiji|    081.226.1797x647|   186.540.9690x605|colehumphrey@aust...|       14-08-2020|https://www.kerr....|    8|DC94CCd993D311b|     Doris| Andersen|  Male|alicia33@example.org|          4709522945|   02-12-2016|          Air broker|\n",
      "|    9|9Ba746Cb790FED9|     Emily|   Bryant|Moon, Strickland ...|East Normanchester|          Seychelles|  430-401-5228x35091|       115-835-3840|buckyvonne@church...|       30-12-2020|  http://grimes.com/|    9|9Ba746Cb790FED9|    Cheryl|     Mays|  Male|  jake50@example.com|        013.820.4758|   16-12-2012|Designer, multimedia|\n",
      "|   10|aAa1EDfaA70DA0c|     Marie|  Estrada|             May Inc|          Welchton|United Arab Emirates|    001-648-790-9244|       973-767-3611|christie44@mckenz...|       03-09-2020|https://www.salin...|   10|aAa1EDfaA70DA0c|     Harry| Mitchell|  Male|lanechristina@exa...|  (560)903-5068x4985|   29-06-1953|Insurance account...|\n",
      "|   11|bf104C25d0BA4E1|   Nichole|   Cannon|       Rios and Sons|        West Devon|             Burundi|          0647787401|       139.476.1068|blandry@henson-ha...|       26-04-2021|http://www.humphr...|   11|bf104C25d0BA4E1|     Casey|    Ayala|  Male|  ncantu@example.com|          8629884096|   17-04-2020|Scientist, water ...|\n",
      "|   12|06c9e9caEBf539F|   Bernard|   Ritter|   Bradford and Sons|    West Francisco|               Palau|        292.313.1902|      (065)075-0554|tammiepope@arroyo...|       19-01-2022| http://sellers.biz/|   52|06c9e9caEBf539F|    Joshua|    Carey|Female|dianashepherd@exa...|001-274-739-8470x814|   07-01-1915| Seismic interpreter|\n",
      "|   13|D02c86e781bA06f|    Darryl|   Archer|         Kerr-Cherry|          Holtfurt|              Uganda|       (389)437-1716|   092.364.7349x593|woodalejandro@ski...|       18-04-2022|https://www.danie...|   53|D02c86e781bA06f|    Rickey|    Hobbs|Female|ingramtiffany@exa...|    241.179.9509x498|   01-07-1910|           Barrister|\n",
      "|   14|846D8B34aba64a6|      Ryan|       Li|Hooper, Cross and...|        Batesville|       Liechtenstein|001-119-787-0125x...|   001-477-254-3645|    lmassey@duke.com|       06-03-2021|   http://nunez.com/|   54|846D8B34aba64a6|     Robyn|   Reilly|  Male|carriecrawford@ex...|   207.797.8345x6177|   27-07-1982|Engineer, structural|\n",
      "|   15|305B77b17f60849|     Vicki|    Nunez|Leonard, Galvan a...|    Barbaraborough|               Haiti|       (217)474-0312|(098)195-0840x79579|  zgrant@sweeney.com|       30-01-2022|https://reynolds....|   55|305B77b17f60849| Christina|   Conrad|  Male|fuentesclaudia@ex...|001-599-042-7428x143|   06-01-1998|     Producer, radio|\n",
      "|   16|610e5F3baCbd25c|      Sean| Townsend|        Preston-Sosa|     Velasquezberg|                Iran|    001-534-283-5153|         5786415664| lkline@maxwell.info|       30-05-2020|http://www.vargas...|   56|610e5F3baCbd25c|    Shelby|     Cole|  Male|kaneaudrey@exampl...|        663-280-5834|   18-08-1975|Therapist, nutrit...|\n",
      "|   17|9F0EbC3b678ad6B|    Sophia|   Mathis|   Richard-Velasquez|         Toddhaven|         Switzerland|001-858-762-7896x916| 274-147-4185x15182|brockmason@faulkn...|       23-01-2020|http://www.vaughn...|   57|9F0EbC3b678ad6B|     Steve|  Donovan|  Male|rebekahsantos@exa...|          0258287997|   14-04-1935|    Paediatric nurse|\n",
      "|   18|82dDB5e20CAA2Ce|     Helen|    Potts|Rangel, Livingsto...|       Douglasland|          Seychelles|       (140)862-2659|              -8339|carrollmia@donova...|       27-07-2021|http://www.kenned...|   58|82dDB5e20CAA2Ce|      Gina|   Little|Female| craig28@example.com|   125.219.3673x0076|   07-10-1954| Production engineer|\n",
      "|   19|b78002FEFF5a860|     Joann|   Finley|          Harvey PLC|      Barrettshire|          Montserrat|   (941)715-8720x950|   155.433.4824x955|gabriela86@sampso...|       11-04-2022|http://www.harrel...|   59|b78002FEFF5a860|    Connie|   Dawson|Female|connercourtney@ex...|  650-748-3069x64529|   21-07-1979|Accountant, chart...|\n",
      "|   20|F6cD561cecdfA6d|    Thomas|    Walsh|         Best-Thomas|        Roblesport|            Kiribati|        679.326.0724|   001-305-038-6009|timcoleman@frank-...|       11-09-2020|http://www.kane.com/|   20|F6cD561cecdfA6d|     Perry|  Mcmahon|Female|allison66@example...|  060-611-9377x90160|   24-11-2006|Education officer...|\n",
      "+-----+---------------+----------+---------+--------------------+------------------+--------------------+--------------------+-------------------+--------------------+-----------------+--------------------+-----+---------------+----------+---------+------+--------------------+--------------------+-------------+--------------------+\n",
      "only showing top 20 rows\n",
      "\n"
     ]
    },
    {
     "data": {
      "text/plain": [
       "1000"
      ]
     },
     "execution_count": 6,
     "metadata": {},
     "output_type": "execute_result"
    }
   ],
   "source": [
    "df_join = emp_df.join(mng_df, emp_df['Company Id'] == mng_df['Company Id'], 'inner')\n",
    "df_join.show()\n",
    "df_join.count()"
   ]
  },
  {
   "cell_type": "markdown",
   "metadata": {},
   "source": [
    "### Qn 3\n",
    "- Find all managers who are not managing any employees."
   ]
  },
  {
   "cell_type": "code",
   "execution_count": 7,
   "metadata": {},
   "outputs": [
    {
     "name": "stdout",
     "output_type": "stream",
     "text": [
      "+---------+---------------+---------+---------+--------------------+------------------+--------------------+--------------------+-------------------+--------------------+----------+--------------------+\n",
      "|emp_index|     emp_cmp_id|emp_fname|Last Name|             emp_cmp|          emp_city|         emp_country|           emp_phone|            Phone 2|           emp_email|  emp_date|             emp_web|\n",
      "+---------+---------------+---------+---------+--------------------+------------------+--------------------+--------------------+-------------------+--------------------+----------+--------------------+\n",
      "|        1|dE014d010c7ab0c|   Andrew|  Goodman|       Stewart-Flynn|       Rowlandberg|               Macao|   846-790-4623x4715|(422)787-2331x71127|marieyates@gomez-...|26-07-2021|http://www.shea.biz/|\n",
      "|        2|2B54172c8b65eC3|    Alvin|     Lane|Terry, Proctor an...|          Bethside|    Papua New Guinea|  124-597-8652x05682|  321.441.0588x6218|alexandra86@mccoy...|24-06-2021|http://www.pena-c...|\n",
      "|        3|d794Dd48988d2ac|    Jenna|  Harding|        Bailey Group|      Moniquemouth|               China|  (335)987-3085x3780|   001-680-204-8312|justincurtis@pier...|05-04-2020|http://www.booth-...|\n",
      "|        4|3b3Aa4aCc68f3Be| Fernando|     Ford|        Moss-Maxwell|        Leeborough|               Macao|       (047)752-3122|  048.779.5035x9122| adeleon@hubbard.org|29-11-2020|http://www.hebert...|\n",
      "|        5|D60df62ad2ae41E|     Kara|    Woods|     Mccarthy-Kelley|  Port Jacksonland|               Nepal|+1-360-693-4419x1...|       163-627-2565|jesus90@roberson....|22-04-2022| http://merritt.com/|\n",
      "|        6|8aaa5d0CE9ee311|  Marissa|   Gamble|     Cherry and Sons|         Webertown|               Sudan|001-645-334-5514x...|      (751)980-3163|katieallison@leon...|17-11-2021|http://www.kaufma...|\n",
      "|        7|73B22Ac8A43DD1A|    Julie|   Cooley|Yu, Norman and Sharp|       West Sandra|               Japan|+1-675-243-7422x9177|      (703)337-5903|priscilla88@steph...|26-03-2022|http://www.sexton...|\n",
      "|        8|DC94CCd993D311b|   Lauren|    Villa|French, Travis an...|       New Yolanda|                Fiji|    081.226.1797x647|   186.540.9690x605|colehumphrey@aust...|14-08-2020|https://www.kerr....|\n",
      "|        9|9Ba746Cb790FED9|    Emily|   Bryant|Moon, Strickland ...|East Normanchester|          Seychelles|  430-401-5228x35091|       115-835-3840|buckyvonne@church...|30-12-2020|  http://grimes.com/|\n",
      "|       10|aAa1EDfaA70DA0c|    Marie|  Estrada|             May Inc|          Welchton|United Arab Emirates|    001-648-790-9244|       973-767-3611|christie44@mckenz...|03-09-2020|https://www.salin...|\n",
      "|       11|bf104C25d0BA4E1|  Nichole|   Cannon|       Rios and Sons|        West Devon|             Burundi|          0647787401|       139.476.1068|blandry@henson-ha...|26-04-2021|http://www.humphr...|\n",
      "|       12|06c9e9caEBf539F|  Bernard|   Ritter|   Bradford and Sons|    West Francisco|               Palau|        292.313.1902|      (065)075-0554|tammiepope@arroyo...|19-01-2022| http://sellers.biz/|\n",
      "|       13|D02c86e781bA06f|   Darryl|   Archer|         Kerr-Cherry|          Holtfurt|              Uganda|       (389)437-1716|   092.364.7349x593|woodalejandro@ski...|18-04-2022|https://www.danie...|\n",
      "|       14|846D8B34aba64a6|     Ryan|       Li|Hooper, Cross and...|        Batesville|       Liechtenstein|001-119-787-0125x...|   001-477-254-3645|    lmassey@duke.com|06-03-2021|   http://nunez.com/|\n",
      "|       15|305B77b17f60849|    Vicki|    Nunez|Leonard, Galvan a...|    Barbaraborough|               Haiti|       (217)474-0312|(098)195-0840x79579|  zgrant@sweeney.com|30-01-2022|https://reynolds....|\n",
      "|       16|610e5F3baCbd25c|     Sean| Townsend|        Preston-Sosa|     Velasquezberg|                Iran|    001-534-283-5153|         5786415664| lkline@maxwell.info|30-05-2020|http://www.vargas...|\n",
      "|       17|9F0EbC3b678ad6B|   Sophia|   Mathis|   Richard-Velasquez|         Toddhaven|         Switzerland|001-858-762-7896x916| 274-147-4185x15182|brockmason@faulkn...|23-01-2020|http://www.vaughn...|\n",
      "|       18|82dDB5e20CAA2Ce|    Helen|    Potts|Rangel, Livingsto...|       Douglasland|          Seychelles|       (140)862-2659|              -8339|carrollmia@donova...|27-07-2021|http://www.kenned...|\n",
      "|       19|b78002FEFF5a860|    Joann|   Finley|          Harvey PLC|      Barrettshire|          Montserrat|   (941)715-8720x950|   155.433.4824x955|gabriela86@sampso...|11-04-2022|http://www.harrel...|\n",
      "|       20|F6cD561cecdfA6d|   Thomas|    Walsh|         Best-Thomas|        Roblesport|            Kiribati|        679.326.0724|   001-305-038-6009|timcoleman@frank-...|11-09-2020|http://www.kane.com/|\n",
      "+---------+---------------+---------+---------+--------------------+------------------+--------------------+--------------------+-------------------+--------------------+----------+--------------------+\n",
      "only showing top 20 rows\n",
      "\n"
     ]
    }
   ],
   "source": [
    "# renaming index\n",
    "\n",
    "emp_df = emp_df.withColumnRenamed(\"Index\", \"emp_index\") \\\n",
    "                .withColumnRenamed(\"Company Id\", \"emp_cmp_id\") \\\n",
    "                .withColumnRenamed(\"First Name\", \"emp_fname\") \\\n",
    "                .withColumnRenamed(\"Company\", \"emp_cmp\")  \\\n",
    "                .withColumnRenamed('City', 'emp_city') \\\n",
    "                .withColumnRenamed('Country', 'emp_country') \\\n",
    "                .withColumnRenamed('Email', 'emp_email') \\\n",
    "                .withColumnRenamed('Phone 1', 'emp_phone') \\\n",
    "                .withColumnRenamed('Subscription Date', 'emp_date') \\\n",
    "                .withColumnRenamed('Website', 'emp_web')  \n",
    "                    \n",
    "                \n",
    "emp_df.show()            "
   ]
  },
  {
   "cell_type": "code",
   "execution_count": 8,
   "metadata": {},
   "outputs": [
    {
     "name": "stdout",
     "output_type": "stream",
     "text": [
      "+---------+---------------+---------+---------+------+--------------------+-------------------+----------+--------------------+\n",
      "|mng_index|     mng_cmp_id|mng_fname|Last Name|   Sex|           mng_email|          mng_phone|   mng_dob|             mng_job|\n",
      "+---------+---------------+---------+---------+------+--------------------+-------------------+----------+--------------------+\n",
      "|        1|dE014d010c7ab0c|   Shelia|  Mahoney|  Male| pwarner@example.org|       857.139.8239|27-01-2014|   Probation officer|\n",
      "|        2|2B54172c8b65eC3|       Jo|   Rivers|Female|fergusonkatherine...|             -10395|26-07-1931|              Dancer|\n",
      "|        3|d794Dd48988d2ac|   Sheryl|   Lowery|Female| fhoward@example.org|      (599)782-0605|25-11-2013|                Copy|\n",
      "|        4|3b3Aa4aCc68f3Be|  Whitney|   Hooper|  Male|zjohnston@example...|              -7326|17-11-2012|Counselling psych...|\n",
      "|        5|D60df62ad2ae41E|  Lindsey|     Rice|Female|    elin@example.net| (390)417-1635x3010|15-04-1923| Biomedical engineer|\n",
      "|        6|8aaa5d0CE9ee311|   Sherry| Caldwell|  Male|kaitlin13@example...|         8537800927|06-08-1917|Higher education ...|\n",
      "|        7|73B22Ac8A43DD1A|   Ernest|  Hoffman|  Male|jeffharvey@exampl...|  093.655.7480x7895|22-12-1984|      Health visitor|\n",
      "|        8|DC94CCd993D311b|    Doris| Andersen|  Male|alicia33@example.org|         4709522945|02-12-2016|          Air broker|\n",
      "|        9|9Ba746Cb790FED9|   Cheryl|     Mays|  Male|  jake50@example.com|       013.820.4758|16-12-2012|Designer, multimedia|\n",
      "|       10|aAa1EDfaA70DA0c|    Harry| Mitchell|  Male|lanechristina@exa...| (560)903-5068x4985|29-06-1953|Insurance account...|\n",
      "|       11|bf104C25d0BA4E1|    Casey|    Ayala|  Male|  ncantu@example.com|         8629884096|17-04-2020|Scientist, water ...|\n",
      "|       12|bf2fA37cbAd7dDc|     Sara|     Huff|  Male|kristy41@example.net|+1-041-859-3844x272|21-05-1964|        Metallurgist|\n",
      "|       13|4fa8ffcdBbf53bB|    Eddie|   Barnes|Female|brandy23@example.com| 801.809.9181x37308|27-02-1975|      Dramatherapist|\n",
      "|       14|aBd960429ecd363|    Ralph|     Lowe|Female|   dleon@example.org|+1-511-127-6660x230|10-04-1938|Presenter, broadc...|\n",
      "|       15|2a0c691Ce19C6f3|Priscilla|    Davis|  Male|latasha46@example...|       903.545.8947|16-03-2014|Nurse, mental health|\n",
      "|       16|B58fecf82f997Dd|    Carly|   Abbott|Female|stricklandomar@ex...|  (416)979-0633x058|27-10-2007|Therapeutic radio...|\n",
      "|       17|41d0201DcF028b5|  Nicolas| Mckinney|  Male|twilkinson@exampl...|  244-054-8521x1913|04-07-1951|                Land|\n",
      "|       18|B1A1b09CD5C3b6a|  Natasha|   Macias|Female|dorothymeza@examp...| (929)366-8549x3587|31-10-1971|Recruitment consu...|\n",
      "|       19|ba5a73D210dCcE4| Courtney|  Jenkins|Female|estesana@example.org|      (973)243-9193|20-01-1948|Accounting techni...|\n",
      "|       20|F6cD561cecdfA6d|    Perry|  Mcmahon|Female|allison66@example...| 060-611-9377x90160|24-11-2006|Education officer...|\n",
      "+---------+---------------+---------+---------+------+--------------------+-------------------+----------+--------------------+\n",
      "only showing top 20 rows\n",
      "\n"
     ]
    }
   ],
   "source": [
    "mng_df = mng_df.withColumnRenamed(\"Index\", \"mng_index\") \\\n",
    "                .withColumnRenamed(\"Company Id\", \"mng_cmp_id\") \\\n",
    "                .withColumnRenamed(\"First Name\", \"mng_fname\") \\\n",
    "                .withColumnRenamed('Email', 'mng_email') \\\n",
    "                .withColumnRenamed('Phone', 'mng_phone') \\\n",
    "                .withColumnRenamed('Date of birth', 'mng_dob') \\\n",
    "                .withColumnRenamed('Job Title', 'mng_job') \n",
    "mng_df.show()                    "
   ]
  },
  {
   "cell_type": "code",
   "execution_count": 9,
   "metadata": {},
   "outputs": [
    {
     "data": {
      "text/plain": [
       "1372"
      ]
     },
     "execution_count": 9,
     "metadata": {},
     "output_type": "execute_result"
    }
   ],
   "source": [
    "df_right_join = emp_df.join(mng_df, emp_df.emp_cmp_id == mng_df.mng_cmp_id, 'right')\n",
    "df_right_join.count()"
   ]
  },
  {
   "cell_type": "code",
   "execution_count": 10,
   "metadata": {},
   "outputs": [
    {
     "data": {
      "text/plain": [
       "372"
      ]
     },
     "execution_count": 10,
     "metadata": {},
     "output_type": "execute_result"
    }
   ],
   "source": [
    "from pyspark.sql.functions import col\n",
    "# df_mng_count = df_right_join.groupBy('mng_index').count()\n",
    "# df_mng_count.filter(df_mng_count['count'] == 0).show()\n",
    "df_right_join.filter(col('emp_index').isNull()).count()"
   ]
  },
  {
   "cell_type": "markdown",
   "metadata": {},
   "source": [
    "### Qn 4\n",
    "- Find the number of employees under each manager. Display the manager's name and the count."
   ]
  },
  {
   "cell_type": "code",
   "execution_count": 11,
   "metadata": {},
   "outputs": [
    {
     "data": {
      "text/plain": [
       "1000"
      ]
     },
     "execution_count": 11,
     "metadata": {},
     "output_type": "execute_result"
    }
   ],
   "source": [
    "from pyspark.sql.functions import count, first\n",
    "\n",
    "df_mng_emp_count = df_right_join.groupBy('mng_index') \\\n",
    "                    .agg(\n",
    "                         count('*').alias('count'), \n",
    "                         first('mng_fname').alias('mng_fname'), \n",
    "                         first('mng_email').alias('mng_email'), \n",
    "                         first('mng_phone').alias('mng_phone') \n",
    "                    )\n",
    "df_mng_emp_count.select('mng_fname', 'count')\n",
    "df_mng_emp_count.count()"
   ]
  },
  {
   "cell_type": "markdown",
   "metadata": {},
   "source": [
    "### Qn 5\n",
    "- Identify the manager with the most employees and display their name, email, and phone number."
   ]
  },
  {
   "cell_type": "code",
   "execution_count": 12,
   "metadata": {},
   "outputs": [
    {
     "name": "stdout",
     "output_type": "stream",
     "text": [
      "+---------+-----+---------+--------------------+--------------------+\n",
      "|mng_index|count|mng_fname|           mng_email|           mng_phone|\n",
      "+---------+-----+---------+--------------------+--------------------+\n",
      "|       22|    6|   Meghan|ehatfield@example...|   668.063.9568x7257|\n",
      "|       20|    6|    Perry|allison66@example...|  060-611-9377x90160|\n",
      "|       21|    6|    Emily|jordankelley@exam...|  601.838.8295x89942|\n",
      "|       23|    6|   Ernest|lanedarius@exampl...|               -2715|\n",
      "|       24|    6|   Norman|samanthasummers@e...|   (590)187-8007x273|\n",
      "|       25|    6|    Roger|leblancjohnathan@...|               -8153|\n",
      "|       26|    6|    Ethan|   jay82@example.net|   972.064.3833x5347|\n",
      "|       27|    6|Catherine|  sara05@example.org| (614)275-6966x22597|\n",
      "|       28|    6|Catherine|nelsonlori@exampl...|       (322)679-7824|\n",
      "|       29|    6|    Corey|phillip27@example...|    989.482.6130x996|\n",
      "|       30|    6|   Hunter|jimsellers@exampl...|   975-190-7875x3293|\n",
      "|      295|    6|    Lacey|bennettjoseph@exa...|001-950-937-3674x...|\n",
      "|      296|    6|  Yesenia|braychad@example.net| +1-724-289-2580x837|\n",
      "|      297|    6|  Phillip|   cshaw@example.net|  (047)032-2027x3605|\n",
      "|      298|    6|   Teresa|brycehernandez@ex...|   (708)774-7454x729|\n",
      "|      299|    6|    Stacy|margaretlane@exam...|    027-908-7316x725|\n",
      "|      300|    6|     Gary|  royjay@example.org|       (786)106-0223|\n",
      "|      301|    6|  Jasmine|schroederjeffrey@...|+1-263-695-2606x7586|\n",
      "|      302|    6|    Angie|karlpotter@exampl...|001-772-944-6336x168|\n",
      "|      303|    6|  Stanley|dalestephens@exam...|001-470-693-4050x...|\n",
      "+---------+-----+---------+--------------------+--------------------+\n",
      "only showing top 20 rows\n",
      "\n"
     ]
    }
   ],
   "source": [
    "df_mng_emp_max = df_mng_emp_count.orderBy('count', ascending=False)\n",
    "df_mng_emp_max.show()"
   ]
  },
  {
   "cell_type": "markdown",
   "metadata": {},
   "source": [
    "### Qn 6\n",
    "- Calculate the average number of employees per manager."
   ]
  },
  {
   "cell_type": "code",
   "execution_count": 13,
   "metadata": {},
   "outputs": [
    {
     "data": {
      "text/plain": [
       "1.0"
      ]
     },
     "execution_count": 13,
     "metadata": {},
     "output_type": "execute_result"
    }
   ],
   "source": [
    "emp_df.select('emp_index').distinct().count() / mng_df.select('mng_index').distinct().count()"
   ]
  },
  {
   "cell_type": "markdown",
   "metadata": {},
   "source": [
    "### Qn 7\n",
    "- Find the total number of employees in each country, ordered by the highest count.\n"
   ]
  },
  {
   "cell_type": "code",
   "execution_count": 14,
   "metadata": {},
   "outputs": [
    {
     "name": "stdout",
     "output_type": "stream",
     "text": [
      "+--------------------+-----+\n",
      "|         emp_country|count|\n",
      "+--------------------+-----+\n",
      "|       Liechtenstein|   12|\n",
      "|               Gabon|   10|\n",
      "|             Reunion|    9|\n",
      "|               China|    9|\n",
      "|             Nigeria|    9|\n",
      "|          Bangladesh|    9|\n",
      "|          Luxembourg|    9|\n",
      "|            Anguilla|    8|\n",
      "|              Greece|    8|\n",
      "|          Montserrat|    8|\n",
      "|      American Samoa|    8|\n",
      "|              Uganda|    8|\n",
      "| Antigua and Barbuda|    8|\n",
      "|               Korea|    8|\n",
      "|      Cayman Islands|    7|\n",
      "|             Morocco|    7|\n",
      "|               Yemen|    7|\n",
      "|Holy See (Vatican...|    7|\n",
      "|        Turkmenistan|    7|\n",
      "|           Nicaragua|    7|\n",
      "+--------------------+-----+\n",
      "only showing top 20 rows\n",
      "\n"
     ]
    }
   ],
   "source": [
    "emp_df_country = emp_df.groupBy('emp_country').agg(count('*').alias('count')).orderBy('count', ascending=False)\n",
    "emp_df_country.show()"
   ]
  },
  {
   "cell_type": "markdown",
   "metadata": {},
   "source": [
    "### Qn 8\n",
    "- Add a new column to the joined dataset to classify employees as \"Senior\" or \"Junior\" based on their\n",
    "Subscription Date (Senior: before 2021)."
   ]
  },
  {
   "cell_type": "code",
   "execution_count": 15,
   "metadata": {},
   "outputs": [
    {
     "name": "stdout",
     "output_type": "stream",
     "text": [
      "+---------+---------------+---------+---------+--------------------+------------------+--------------------+--------------------+-------------------+--------------------+----------+--------------------+------+\n",
      "|emp_index|     emp_cmp_id|emp_fname|Last Name|             emp_cmp|          emp_city|         emp_country|           emp_phone|            Phone 2|           emp_email|  emp_date|             emp_web|   tag|\n",
      "+---------+---------------+---------+---------+--------------------+------------------+--------------------+--------------------+-------------------+--------------------+----------+--------------------+------+\n",
      "|        1|dE014d010c7ab0c|   Andrew|  Goodman|       Stewart-Flynn|       Rowlandberg|               Macao|   846-790-4623x4715|(422)787-2331x71127|marieyates@gomez-...|2021-07-26|http://www.shea.biz/|senior|\n",
      "|        2|2B54172c8b65eC3|    Alvin|     Lane|Terry, Proctor an...|          Bethside|    Papua New Guinea|  124-597-8652x05682|  321.441.0588x6218|alexandra86@mccoy...|2021-06-24|http://www.pena-c...|senior|\n",
      "|        3|d794Dd48988d2ac|    Jenna|  Harding|        Bailey Group|      Moniquemouth|               China|  (335)987-3085x3780|   001-680-204-8312|justincurtis@pier...|2020-04-05|http://www.booth-...|senior|\n",
      "|        4|3b3Aa4aCc68f3Be| Fernando|     Ford|        Moss-Maxwell|        Leeborough|               Macao|       (047)752-3122|  048.779.5035x9122| adeleon@hubbard.org|2020-11-29|http://www.hebert...|senior|\n",
      "|        5|D60df62ad2ae41E|     Kara|    Woods|     Mccarthy-Kelley|  Port Jacksonland|               Nepal|+1-360-693-4419x1...|       163-627-2565|jesus90@roberson....|2022-04-22| http://merritt.com/|junior|\n",
      "|        6|8aaa5d0CE9ee311|  Marissa|   Gamble|     Cherry and Sons|         Webertown|               Sudan|001-645-334-5514x...|      (751)980-3163|katieallison@leon...|2021-11-17|http://www.kaufma...|senior|\n",
      "|        7|73B22Ac8A43DD1A|    Julie|   Cooley|Yu, Norman and Sharp|       West Sandra|               Japan|+1-675-243-7422x9177|      (703)337-5903|priscilla88@steph...|2022-03-26|http://www.sexton...|junior|\n",
      "|        8|DC94CCd993D311b|   Lauren|    Villa|French, Travis an...|       New Yolanda|                Fiji|    081.226.1797x647|   186.540.9690x605|colehumphrey@aust...|2020-08-14|https://www.kerr....|senior|\n",
      "|        9|9Ba746Cb790FED9|    Emily|   Bryant|Moon, Strickland ...|East Normanchester|          Seychelles|  430-401-5228x35091|       115-835-3840|buckyvonne@church...|2020-12-30|  http://grimes.com/|senior|\n",
      "|       10|aAa1EDfaA70DA0c|    Marie|  Estrada|             May Inc|          Welchton|United Arab Emirates|    001-648-790-9244|       973-767-3611|christie44@mckenz...|2020-09-03|https://www.salin...|senior|\n",
      "|       11|bf104C25d0BA4E1|  Nichole|   Cannon|       Rios and Sons|        West Devon|             Burundi|          0647787401|       139.476.1068|blandry@henson-ha...|2021-04-26|http://www.humphr...|senior|\n",
      "|       12|06c9e9caEBf539F|  Bernard|   Ritter|   Bradford and Sons|    West Francisco|               Palau|        292.313.1902|      (065)075-0554|tammiepope@arroyo...|2022-01-19| http://sellers.biz/|junior|\n",
      "|       13|D02c86e781bA06f|   Darryl|   Archer|         Kerr-Cherry|          Holtfurt|              Uganda|       (389)437-1716|   092.364.7349x593|woodalejandro@ski...|2022-04-18|https://www.danie...|junior|\n",
      "|       14|846D8B34aba64a6|     Ryan|       Li|Hooper, Cross and...|        Batesville|       Liechtenstein|001-119-787-0125x...|   001-477-254-3645|    lmassey@duke.com|2021-03-06|   http://nunez.com/|senior|\n",
      "|       15|305B77b17f60849|    Vicki|    Nunez|Leonard, Galvan a...|    Barbaraborough|               Haiti|       (217)474-0312|(098)195-0840x79579|  zgrant@sweeney.com|2022-01-30|https://reynolds....|junior|\n",
      "|       16|610e5F3baCbd25c|     Sean| Townsend|        Preston-Sosa|     Velasquezberg|                Iran|    001-534-283-5153|         5786415664| lkline@maxwell.info|2020-05-30|http://www.vargas...|senior|\n",
      "|       17|9F0EbC3b678ad6B|   Sophia|   Mathis|   Richard-Velasquez|         Toddhaven|         Switzerland|001-858-762-7896x916| 274-147-4185x15182|brockmason@faulkn...|2020-01-23|http://www.vaughn...|senior|\n",
      "|       18|82dDB5e20CAA2Ce|    Helen|    Potts|Rangel, Livingsto...|       Douglasland|          Seychelles|       (140)862-2659|              -8339|carrollmia@donova...|2021-07-27|http://www.kenned...|senior|\n",
      "|       19|b78002FEFF5a860|    Joann|   Finley|          Harvey PLC|      Barrettshire|          Montserrat|   (941)715-8720x950|   155.433.4824x955|gabriela86@sampso...|2022-04-11|http://www.harrel...|junior|\n",
      "|       20|F6cD561cecdfA6d|   Thomas|    Walsh|         Best-Thomas|        Roblesport|            Kiribati|        679.326.0724|   001-305-038-6009|timcoleman@frank-...|2020-09-11|http://www.kane.com/|senior|\n",
      "+---------+---------------+---------+---------+--------------------+------------------+--------------------+--------------------+-------------------+--------------------+----------+--------------------+------+\n",
      "only showing top 20 rows\n",
      "\n"
     ]
    }
   ],
   "source": [
    "from pyspark.sql.functions import year, when, col, to_date\n",
    "\n",
    "emp_df = emp_df.withColumn(\"emp_date\", to_date(col(\"emp_date\"), \"dd-MM-yyyy\"))\n",
    "emp_df = emp_df.withColumn(\n",
    "    \"tag\",\n",
    "    when(year(col(\"emp_date\")) <= 2021, \"senior\").otherwise(\"junior\")\n",
    ")\n",
    "\n",
    "emp_df.show()\n"
   ]
  },
  {
   "cell_type": "markdown",
   "metadata": {},
   "source": [
    "### Qn 9\n",
    "- Write the final joined and transformed DataFrame into a single Parquet file."
   ]
  },
  {
   "cell_type": "code",
   "execution_count": 16,
   "metadata": {},
   "outputs": [],
   "source": [
    "mng_df = mng_df.withColumnRenamed(\"Last Name\", \"mng_lname\")\n",
    "emp_df = emp_df.withColumnRenamed(\"Last Name\", \"emp_lname\")\n",
    "\n",
    "df_emp_mng_final = emp_df.join(mng_df, emp_df.emp_cmp_id == mng_df.mng_cmp_id, 'inner')\n",
    "df_emp_mng_final.write.mode('overwrite').parquet('../PySpark/sample_data/new_parquet')"
   ]
  },
  {
   "cell_type": "markdown",
   "metadata": {},
   "source": [
    "### Qn 11\n",
    "- Filter out employees whose first names start with the letter 'A'."
   ]
  },
  {
   "cell_type": "code",
   "execution_count": 17,
   "metadata": {},
   "outputs": [
    {
     "name": "stdout",
     "output_type": "stream",
     "text": [
      "+---------+---------------+---------+---------+--------------------+------------------+--------------------+--------------------+--------------------+--------------------+----------+--------------------+------+\n",
      "|emp_index|     emp_cmp_id|emp_fname|emp_lname|             emp_cmp|          emp_city|         emp_country|           emp_phone|             Phone 2|           emp_email|  emp_date|             emp_web|   tag|\n",
      "+---------+---------------+---------+---------+--------------------+------------------+--------------------+--------------------+--------------------+--------------------+----------+--------------------+------+\n",
      "|        1|dE014d010c7ab0c|   Andrew|  Goodman|       Stewart-Flynn|       Rowlandberg|               Macao|   846-790-4623x4715| (422)787-2331x71127|marieyates@gomez-...|2021-07-26|http://www.shea.biz/|senior|\n",
      "|        2|2B54172c8b65eC3|    Alvin|     Lane|Terry, Proctor an...|          Bethside|    Papua New Guinea|  124-597-8652x05682|   321.441.0588x6218|alexandra86@mccoy...|2021-06-24|http://www.pena-c...|senior|\n",
      "|       32|bd04F2A7BD4F730|   Amanda| Santiago|       Roberts-Heath|   Benjaminchester|United Arab Emirates|    218-803-3440x413|          1810375857|emmarasmussen@rom...|2021-05-06|http://gillespie....|senior|\n",
      "|       43|9F0EbC3b678ad6B|Alexandra|   Castro|Wall, Clay and Mc...|     South Lynnton|           Swaziland|+1-469-312-3108x0...|  (295)194-3972x6683| swalters@harvey.biz|2021-04-11|http://www.vasque...|senior|\n",
      "|       80|0EcdF5f157A10BE| Adrienne|     Lamb|Henderson, Vega a...|        South Karl|              Gambia|    012-588-1523x479|   496-950-6255x6485|butlerroberta@mul...|2021-05-03|http://www.mann.com/|senior|\n",
      "|       86|8799Bb0d0eF9F7b|   Autumn|     Choi|           Bates LLC|        Port Scott|              Uganda|   374-961-9091x6048|    001-460-538-5514|varmstrong@braun.org|2020-12-07|http://www.fritz-...|senior|\n",
      "|       91|846D8B34aba64a6|   Austin| Matthews|Sandoval, Parker ...|        Aimeeville|           Macedonia|+1-598-879-1279x7...|+1-853-024-8504x9171|stanleymeagan@gil...|2021-07-30|https://hubbard.com/|senior|\n",
      "|      112|4fa8ffcdBbf53bB|   Andrew|   Bolton|        Sutton-David|  East Nathanmouth|United Arab Emirates|+1-964-968-7131x9267|   791.705.8869x8446|meghanharmon@trav...|2020-04-27|http://olson-coll...|senior|\n",
      "|      125|3d7bE19696ea8Ff|    Allen|    Mayer|        Giles-Mooney|West Terrenceburgh|             Comoros|               -8106|+1-125-476-4258x7916|danielsalinas@del...|2021-05-28| https://garner.com/|senior|\n",
      "|      142|bcE2C6eaAa1d53c|   Autumn|   Cuevas|            Hahn Ltd|         Mccoyfort|             Burundi|+1-472-150-7033x4...|+1-626-898-1897x0...|jeffreyharding@jo...|2020-02-05|http://mcdowell-h...|senior|\n",
      "|      152|3d7bE19696ea8Ff|    Andre|  Burgess|     Zhang-Stevenson|        Mooremouth|             Moldova|   568-903-9918x1217|          7252325862|mayerlynn@haas-sa...|2020-05-12|  https://huynh.com/|senior|\n",
      "|      155|b1d4abfbCb67feE|    Amber|    Lyons|       Ward-Mcintosh|     South Kaitlyn|              Zambia|+1-766-519-2349x1...| +1-257-166-4605x483| betty81@shields.org|2020-07-24|    https://ali.net/|senior|\n",
      "|      168|3a7836DbB6347AC|    Angel|     Park|Barry, Thomas and...|  South Marciafurt|             Morocco|001-879-705-2671x...|    036.127.3806x095|masonadriana@pric...|2020-03-29|https://yang-roac...|senior|\n",
      "|      174|9D65c9EaF3d120E|   Ariana|Velasquez|        Stokes-Haney|    South Codyfurt|             Ireland|   141.688.4785x1394|               -3837|makayla22@carey-j...|2020-08-02|https://www.orozc...|senior|\n",
      "|      183|d4aACF5b785daaF|Alejandra|     Lowe|      Benjamin Group|   East Petermouth|      Western Sahara|       (443)140-6541|        281-559-9196|  andre80@dodson.net|2020-09-27|http://wilcox-liu...|senior|\n",
      "|      193|A093aA90fa014FE| Angelica| Schaefer|Jackson, Gibbs an...|       Lake Sydney|               Sudan|       (760)747-3821|   354.545.5420x0320|mark43@stevenson-...|2021-01-18|https://whitehead...|senior|\n",
      "|      197|53B158FcccFF74c|   Angela|  Jackson|Reynolds, Patel a...|   Reynoldsborough|               Congo|+1-196-821-6270x5206| (552)005-7001x05902|arthurpetersen@bo...|2022-02-06|   http://perry.net/|junior|\n",
      "|      207|eD6bdfeF85Afe01| Adrienne|   Hunter|      Escobar-Cannon|    Lake Glennside|          Kazakhstan|   952-008-0777x0963|   248-271-9569x5820|lindsay75@levy-va...|2022-04-02|http://www.wiggin...|junior|\n",
      "|      229|C30B3E82E8D89cC|     Adam|     Levy|        Conrad Group|          Bushview|               Nepal|  937.480.3643x98361| (511)946-3691x20164| pcuevas@hancock.org|2020-05-15|  http://osborn.com/|senior|\n",
      "|      244|8bB5Eed0daFEeb5|   Adrian|  Frazier|        Franco Group|          Seanport|             Ecuador|  049.485.9910x79759|        034.265.2339|ballfernando@mira...|2022-04-13|http://www.flemin...|junior|\n",
      "+---------+---------------+---------+---------+--------------------+------------------+--------------------+--------------------+--------------------+--------------------+----------+--------------------+------+\n",
      "only showing top 20 rows\n",
      "\n"
     ]
    }
   ],
   "source": [
    "emp_df.createOrReplaceTempView(\"emp_view\")  # creating a temporary view\n",
    "\n",
    "temp_tbl = spark.sql('''\n",
    "    SELECT * \n",
    "    FROM emp_view \n",
    "    WHERE emp_fname LIKE 'A%' OR emp_fname LIKE 'a%'\n",
    "''')\n",
    "\n",
    "temp_tbl.show()\n"
   ]
  },
  {
   "cell_type": "markdown",
   "metadata": {},
   "source": [
    "### Qn 12\n",
    "- Find employees who work for companies located in China."
   ]
  },
  {
   "cell_type": "code",
   "execution_count": 18,
   "metadata": {},
   "outputs": [
    {
     "name": "stdout",
     "output_type": "stream",
     "text": [
      "+---------+---------------+---------+---------+--------------------+----------------+-----------+--------------------+--------------------+--------------------+----------+--------------------+------+\n",
      "|emp_index|     emp_cmp_id|emp_fname|emp_lname|             emp_cmp|        emp_city|emp_country|           emp_phone|             Phone 2|           emp_email|  emp_date|             emp_web|   tag|\n",
      "+---------+---------------+---------+---------+--------------------+----------------+-----------+--------------------+--------------------+--------------------+----------+--------------------+------+\n",
      "|        3|d794Dd48988d2ac|    Jenna|  Harding|        Bailey Group|    Moniquemouth|      China|  (335)987-3085x3780|    001-680-204-8312|justincurtis@pier...|2020-04-05|http://www.booth-...|senior|\n",
      "|       61|aB3351247D3fCD8|    Bruce|     Bass|Day, Wiley and Mc...|      Juarezbury|      China|   170-094-5436x7579|+1-006-698-5103x1...|    gvang@woods.info|2020-08-10|http://www.goodwi...|senior|\n",
      "|       94|9F0EbC3b678ad6B|      Don|    Henry|Giles, Kerr and S...|     Marcusburgh|      China|001-004-280-4158x...| (718)053-0418x55398|diamondhinton@mcc...|2020-10-18| https://arnold.com/|senior|\n",
      "|       95|82dDB5e20CAA2Ce|   Dakota|   Bowman|         Gomez-Tapia|West Barbarafurt|      China|               -8399|          4793362473|branchmegan@dough...|2022-04-17|https://deleon-av...|junior|\n",
      "|      282|e5cC6aa0B9F6b68|   Isaiah|  Buckley|        Davies-Hardy|       Youngfurt|      China|+1-562-432-0738x7...|+1-522-611-9078x2725|haaszachary@holme...|2021-01-19|https://www.lynn....|senior|\n",
      "|      516|b68E5a53fBb0C4A|   Andrea|   Dennis|          Kramer Ltd|     Colemanfurt|      China|   291.037.8984x1081|001-990-555-1905x268|stephensonkevin@r...|2020-12-16|https://boyd-gile...|senior|\n",
      "|      758|2b6221ca8A40B98|   Connie|  Mercado|Weeks, Perez and ...| New Vincentstad|      China|       (007)901-2759|+1-430-158-4106x9...|gallagherfrank@fi...|2022-02-13|http://www.petty....|junior|\n",
      "|      765|F02fBDABc21Cdc3|     Sean|     Gray|        Larsen-Payne|      Berrymouth|      China|       (432)642-7473|       (249)339-7146|drewmcgrath@bowen...|2022-05-21|http://www.schroe...|junior|\n",
      "|      918|DBFCf4ef29d36d3|   Leslie|  Spencer|French, Estrada a...|      West Ralph|      China|001-738-796-7880x...| +1-014-508-9395x979|huffcaitlyn@charl...|2021-11-30|https://crawford....|senior|\n",
      "+---------+---------------+---------+---------+--------------------+----------------+-----------+--------------------+--------------------+--------------------+----------+--------------------+------+\n",
      "\n"
     ]
    }
   ],
   "source": [
    "china_emp = spark.sql('''\n",
    "                      SELECT * FROM emp_view\n",
    "                      WHERE emp_country = 'China'\n",
    "                      ''')\n",
    "china_emp.show()"
   ]
  },
  {
   "cell_type": "markdown",
   "metadata": {},
   "source": [
    "### Qn 13\n",
    "- Identify managers whose job title contains the word \"officer\"."
   ]
  },
  {
   "cell_type": "code",
   "execution_count": 19,
   "metadata": {},
   "outputs": [
    {
     "name": "stdout",
     "output_type": "stream",
     "text": [
      "+---------+---------------+---------+---------+------+--------------------+--------------------+----------+--------------------+\n",
      "|mng_index|     mng_cmp_id|mng_fname|mng_lname|   Sex|           mng_email|           mng_phone|   mng_dob|             mng_job|\n",
      "+---------+---------------+---------+---------+------+--------------------+--------------------+----------+--------------------+\n",
      "|        1|dE014d010c7ab0c|   Shelia|  Mahoney|  Male| pwarner@example.org|        857.139.8239|27-01-2014|   Probation officer|\n",
      "|       20|F6cD561cecdfA6d|    Perry|  Mcmahon|Female|allison66@example...|  060-611-9377x90160|24-11-2006|Education officer...|\n",
      "|       24|c5CB6C5bFB91fdC|   Norman|   Walton|Female|samanthasummers@e...|   (590)187-8007x273|19-06-1973|   Personnel officer|\n",
      "|       25|C30B3E82E8D89cC|    Roger|  Sweeney|Female|leblancjohnathan@...|               -8153|09-09-2008|Race relations of...|\n",
      "|       30|d667bCC84Ff45Bb|   Hunter|     Hahn|Female|jimsellers@exampl...|   975-190-7875x3293|22-02-1943|Chief Financial O...|\n",
      "|       43|bcE2C6eaAa1d53c|  Rachael|  Herrera|  Male|msummers@example.net| +1-833-716-3269x028|04-05-1927|Armed forces tech...|\n",
      "|       45|1cE4BEcB6F2D2C3|      Don|   Bolton|  Male|    kkey@example.net|001-313-023-3603x...|28-12-1985|Housing manager/o...|\n",
      "|       47|EE9381bAEbac1eA|     Erik|  Rosales|Female|alejandro41@examp...|       (412)388-9715|06-05-2019|      Prison officer|\n",
      "|       50|815D27672C2Ba6d|   George|   Mercer|Female|douglascontreras@...|+1-326-669-0118x4341|11-09-1941|Human resources o...|\n",
      "|       81|61AD5B1099Db9d0|  Yesenia|      Key|  Male|   hreid@example.net|+1-006-497-5864x9...|29-03-1988|Local government ...|\n",
      "|       82|fD7FbF8BA88Fff8|   Meghan| Humphrey|Female|parrishbenjamin@e...|        890-134-1311|27-09-1962|Research officer,...|\n",
      "|       83|2bcF27a9daa2EAA|    Eddie|  Daniels|  Male|woodsjerry@exampl...|   475.777.8494x2737|14-06-1975|Armed forces tech...|\n",
      "|       85|eb8Abc5DB466797|   Isaiah|    Olson|Female|franciscoshah@exa...|        406-298-3045|30-04-1974|Chief Financial O...|\n",
      "|       92|aFbCcfBCbeff540|   Jaclyn|   Mclean|  Male|zavalamackenzie@e...|   894-297-7449x0521|12-04-1982|Human resources o...|\n",
      "|       97|a3FdF7Ae5E60BaD|      Joe|  Acevedo|  Male|  lori87@example.net|          1289379504|10-09-1974| Immigration officer|\n",
      "|      116|FD21f4cce8C062f|    Diane|    Small|Female|cuevasyesenia@exa...|  (918)520-3208x3647|10-01-1995|Waste management ...|\n",
      "|      123|C0E2ab2e71A490E|    Roger|  Beasley|  Male|  oochoa@example.com|          8399917932|29-01-1968|Armed forces logi...|\n",
      "|      134|A3568fE8Cb3b386|    David| Faulkner|Female|costaariel@exampl...|001-892-550-0086x088|23-09-2010|Museum/gallery ex...|\n",
      "|      148|EF5858dEe5f7649|    Joann|   Fuller|  Male|  pstone@example.net|        349.036.6379|28-03-1919|Chief Executive O...|\n",
      "|      153|BB6B8ebDD22eBEE|  Monique|  Mahoney|Female| vholmes@example.com|001-908-915-3254x...|11-08-1915|Waste management ...|\n",
      "+---------+---------------+---------+---------+------+--------------------+--------------------+----------+--------------------+\n",
      "only showing top 20 rows\n",
      "\n"
     ]
    },
    {
     "data": {
      "text/plain": [
       "102"
      ]
     },
     "execution_count": 19,
     "metadata": {},
     "output_type": "execute_result"
    }
   ],
   "source": [
    "mng_df.createOrReplaceTempView(\"mng_view\")  # creating a temporary view\n",
    "\n",
    "mng_officer = spark.sql('''\n",
    "    SELECT * \n",
    "    FROM mng_view \n",
    "    WHERE mng_job ILIKE '%officer%'\n",
    "''')\n",
    "\n",
    "mng_officer.show()\n",
    "mng_officer.count()"
   ]
  },
  {
   "cell_type": "markdown",
   "metadata": {},
   "source": [
    "### Qn 14\n",
    "- Calculate the total number of managers and employees in each city."
   ]
  },
  {
   "cell_type": "code",
   "execution_count": 20,
   "metadata": {},
   "outputs": [
    {
     "name": "stdout",
     "output_type": "stream",
     "text": [
      "+------------------+---------+---------+\n",
      "|          emp_city|emp_count|mng_count|\n",
      "+------------------+---------+---------+\n",
      "|East Taylorborough|        1|        1|\n",
      "|        Karenmouth|        1|        1|\n",
      "|     Michaelashire|        1|        1|\n",
      "| East Daniellestad|        1|        1|\n",
      "|         Huntville|        1|        1|\n",
      "|   East Petermouth|        1|        1|\n",
      "|      Lake Douglas|        2|        2|\n",
      "|     Blanchardfurt|        1|        1|\n",
      "|       Aguirrebury|        1|        1|\n",
      "|         West Rita|        1|        1|\n",
      "|  East Alberthaven|        1|        1|\n",
      "|South Annetteville|        1|        1|\n",
      "|         New Julia|        2|        2|\n",
      "|     New Brettfurt|        1|        1|\n",
      "|      South Jeremy|        1|        1|\n",
      "|        North Erin|        1|        1|\n",
      "|    New Darrenfort|        1|        1|\n",
      "|       Maddenmouth|        1|        1|\n",
      "|  West Matthewside|        1|        1|\n",
      "|          Jeffport|        1|        1|\n",
      "+------------------+---------+---------+\n",
      "only showing top 20 rows\n",
      "\n"
     ]
    },
    {
     "data": {
      "text/plain": [
       "984"
      ]
     },
     "execution_count": 20,
     "metadata": {},
     "output_type": "execute_result"
    }
   ],
   "source": [
    "df_right_join.createOrReplaceTempView('right_join_view')\n",
    "\n",
    "city_emp_mng = spark.sql('''\n",
    "                SELECT \n",
    "                    emp_city, \n",
    "                    count(distinct emp_index) as emp_count, \n",
    "                    count(distinct mng_index) as mng_count\n",
    "                FROM right_join_view\n",
    "                GROUP BY emp_city''')\n",
    "city_emp_mng.show()\n",
    "city_emp_mng.count()"
   ]
  },
  {
   "cell_type": "markdown",
   "metadata": {},
   "source": [
    "### Qn 15\n",
    "- Find the number of employees per country where the country name contains the letter 'a'."
   ]
  },
  {
   "cell_type": "code",
   "execution_count": 21,
   "metadata": {},
   "outputs": [
    {
     "name": "stdout",
     "output_type": "stream",
     "text": [
      "+--------------------+---------+\n",
      "|         emp_country|emp_count|\n",
      "+--------------------+---------+\n",
      "|                Chad|        6|\n",
      "|            Anguilla|        8|\n",
      "|            Paraguay|        1|\n",
      "|               Macao|        5|\n",
      "|Heard Island and ...|        6|\n",
      "|             Senegal|        7|\n",
      "|             Tokelau|        4|\n",
      "|            Kiribati|        7|\n",
      "|              Guyana|        4|\n",
      "|             Eritrea|        5|\n",
      "|      Norfolk Island|        1|\n",
      "|               Tonga|        4|\n",
      "|            Malaysia|        4|\n",
      "|           Singapore|        2|\n",
      "|United States Vir...|        2|\n",
      "|      Western Sahara|        4|\n",
      "|              Malawi|        5|\n",
      "|                Iraq|        4|\n",
      "|Northern Mariana ...|        5|\n",
      "|            Cambodia|        5|\n",
      "+--------------------+---------+\n",
      "only showing top 20 rows\n",
      "\n"
     ]
    },
    {
     "data": {
      "text/plain": [
       "203"
      ]
     },
     "execution_count": 21,
     "metadata": {},
     "output_type": "execute_result"
    }
   ],
   "source": [
    "emp_country_tbl = spark.sql('''\n",
    "                SELECT \n",
    "                    emp_country, \n",
    "                    count(DISTINCT emp_index) as emp_count \n",
    "                FROM emp_view\n",
    "                WHERE emp_country ILIKE '%a%' \n",
    "                GROUP BY emp_country ''') \n",
    "emp_country_tbl.show()\n",
    "emp_country_tbl.count()\n"
   ]
  },
  {
   "cell_type": "code",
   "execution_count": 22,
   "metadata": {},
   "outputs": [
    {
     "name": "stdout",
     "output_type": "stream",
     "text": [
      "+------+-----+\n",
      "|   Sex|Count|\n",
      "+------+-----+\n",
      "|Female|  494|\n",
      "|  Male|  506|\n",
      "+------+-----+\n",
      "\n"
     ]
    },
    {
     "data": {
      "text/plain": [
       "2"
      ]
     },
     "execution_count": 22,
     "metadata": {},
     "output_type": "execute_result"
    }
   ],
   "source": [
    "mng_sex = spark.sql('''\n",
    "                SELECT \n",
    "                    Sex, \n",
    "                    COUNT(*) as Count\n",
    "                FROM mng_view\n",
    "                GROUP BY Sex''') \n",
    "mng_sex.show()\n",
    "mng_sex.count()"
   ]
  },
  {
   "cell_type": "markdown",
   "metadata": {},
   "source": [
    "### Qn 17\n",
    "- Find the average subscription duration (in years) of employees grouped by city."
   ]
  },
  {
   "cell_type": "code",
   "execution_count": null,
   "metadata": {},
   "outputs": [],
   "source": []
  },
  {
   "cell_type": "markdown",
   "metadata": {},
   "source": [
    "### Qn 18\n",
    "- Scenario: Find all managers who are under the age of 50 years and have more than 3 employees."
   ]
  },
  {
   "cell_type": "code",
   "execution_count": 23,
   "metadata": {},
   "outputs": [
    {
     "name": "stdout",
     "output_type": "stream",
     "text": [
      "+---------+\n",
      "|mng_index|\n",
      "+---------+\n",
      "+---------+\n",
      "\n"
     ]
    }
   ],
   "source": [
    "mng_50 = spark.sql('''\n",
    "                   SELECT \n",
    "                        mng_index\n",
    "                    FROM right_join_view \n",
    "                    WHERE FLOOR(DATEDIFF(CURRENT_DATE(), mng_dob) / 365.25)  >= 50 \n",
    "                    GROUP BY mng_index\n",
    "                    HAVING count(*) >= 3''')\n",
    "mng_50.show()"
   ]
  },
  {
   "cell_type": "markdown",
   "metadata": {},
   "source": [
    "### Qn 19\n",
    "- Scenario: List employees along with their manager’s name for companies located in Macao."
   ]
  },
  {
   "cell_type": "code",
   "execution_count": 24,
   "metadata": {},
   "outputs": [
    {
     "name": "stdout",
     "output_type": "stream",
     "text": [
      "+---------+---------------+---------+---------+--------------------+-------------------+--------------------+--------------------+-------------------+--------------------+----------+--------------------+---------+---------------+---------+---------+------+--------------------+------------------+----------+--------------------+\n",
      "|emp_index|     emp_cmp_id|emp_fname|Last Name|             emp_cmp|           emp_city|         emp_country|           emp_phone|            Phone 2|           emp_email|  emp_date|             emp_web|mng_index|     mng_cmp_id|mng_fname|Last Name|   Sex|           mng_email|         mng_phone|   mng_dob|             mng_job|\n",
      "+---------+---------------+---------+---------+--------------------+-------------------+--------------------+--------------------+-------------------+--------------------+----------+--------------------+---------+---------------+---------+---------+------+--------------------+------------------+----------+--------------------+\n",
      "|      100|dE014d010c7ab0c|   Bianca|    Henry|       Harrell-Johns|        Garrettstad|             Albania|+1-942-219-2911x3796| (980)679-2739x5052|    alan83@olson.com|13-04-2020|http://www.wilcox...|        1|dE014d010c7ab0c|   Shelia|  Mahoney|  Male| pwarner@example.org|      857.139.8239|27-01-2014|   Probation officer|\n",
      "|        1|dE014d010c7ab0c|   Andrew|  Goodman|       Stewart-Flynn|        Rowlandberg|               Macao|   846-790-4623x4715|(422)787-2331x71127|marieyates@gomez-...|26-07-2021|http://www.shea.biz/|        1|dE014d010c7ab0c|   Shelia|  Mahoney|  Male| pwarner@example.org|      857.139.8239|27-01-2014|   Probation officer|\n",
      "|      101|2B54172c8b65eC3| Michelle|     Good|Randall, Harding ...|  New Johnnychester|               Korea|        215-567-4480|      (217)672-5187|yeseniacallahan@h...|21-12-2020|http://chavez-cla...|        2|2B54172c8b65eC3|       Jo|   Rivers|Female|fergusonkatherine...|            -10395|26-07-1931|              Dancer|\n",
      "|        2|2B54172c8b65eC3|    Alvin|     Lane|Terry, Proctor an...|           Bethside|    Papua New Guinea|  124-597-8652x05682|  321.441.0588x6218|alexandra86@mccoy...|24-06-2021|http://www.pena-c...|        2|2B54172c8b65eC3|       Jo|   Rivers|Female|fergusonkatherine...|            -10395|26-07-1931|              Dancer|\n",
      "|      102|d794Dd48988d2ac|   Eileen|  Skinner|            Yang Ltd|New Kristophershire|              Mexico|       (310)574-8489|      (902)779-2159|julian74@ritter-m...|27-03-2021|   https://mays.com/|        3|d794Dd48988d2ac|   Sheryl|   Lowery|Female| fhoward@example.org|     (599)782-0605|25-11-2013|                Copy|\n",
      "|        3|d794Dd48988d2ac|    Jenna|  Harding|        Bailey Group|       Moniquemouth|               China|  (335)987-3085x3780|   001-680-204-8312|justincurtis@pier...|05-04-2020|http://www.booth-...|        3|d794Dd48988d2ac|   Sheryl|   Lowery|Female| fhoward@example.org|     (599)782-0605|25-11-2013|                Copy|\n",
      "|      103|3b3Aa4aCc68f3Be|     Kyle| Richmond|          Hart Group|      New Arielfurt|  Dominican Republic|    001-053-565-5203|       096-472-7960|adriennecarson@ga...|23-09-2020| http://mcclure.com/|        4|3b3Aa4aCc68f3Be|  Whitney|   Hooper|  Male|zjohnston@example...|             -7326|17-11-2012|Counselling psych...|\n",
      "|        4|3b3Aa4aCc68f3Be| Fernando|     Ford|        Moss-Maxwell|         Leeborough|               Macao|       (047)752-3122|  048.779.5035x9122| adeleon@hubbard.org|29-11-2020|http://www.hebert...|        4|3b3Aa4aCc68f3Be|  Whitney|   Hooper|  Male|zjohnston@example...|             -7326|17-11-2012|Counselling psych...|\n",
      "|      104|D60df62ad2ae41E|     Omar|   Davies|Rich, Oneill and ...|       Dicksonburgh|              Guinea|+1-317-955-2741x5895|              -7875|hreid@jordan-pena...|02-09-2021|http://www.best.biz/|        5|D60df62ad2ae41E|  Lindsey|     Rice|Female|    elin@example.net|(390)417-1635x3010|15-04-1923| Biomedical engineer|\n",
      "|        5|D60df62ad2ae41E|     Kara|    Woods|     Mccarthy-Kelley|   Port Jacksonland|               Nepal|+1-360-693-4419x1...|       163-627-2565|jesus90@roberson....|22-04-2022| http://merritt.com/|        5|D60df62ad2ae41E|  Lindsey|     Rice|Female|    elin@example.net|(390)417-1635x3010|15-04-1923| Biomedical engineer|\n",
      "|      105|8aaa5d0CE9ee311|  Chelsea|    Giles|          Curtis Inc|           Evanfort|              Kuwait|        966.233.2095|         0548899247|sharon31@stanley....|26-11-2021|https://griffin-w...|        6|8aaa5d0CE9ee311|   Sherry| Caldwell|  Male|kaitlin13@example...|        8537800927|06-08-1917|Higher education ...|\n",
      "|        6|8aaa5d0CE9ee311|  Marissa|   Gamble|     Cherry and Sons|          Webertown|               Sudan|001-645-334-5514x...|      (751)980-3163|katieallison@leon...|17-11-2021|http://www.kaufma...|        6|8aaa5d0CE9ee311|   Sherry| Caldwell|  Male|kaitlin13@example...|        8537800927|06-08-1917|Higher education ...|\n",
      "|      106|73B22Ac8A43DD1A|      Pam|    Crane|      Patton-English| East Taylorborough|            Cameroon|        679.659.0893| (695)869-8220x5302|luisreynolds@cald...|27-10-2020|   http://rich.info/|        7|73B22Ac8A43DD1A|   Ernest|  Hoffman|  Male|jeffharvey@exampl...| 093.655.7480x7895|22-12-1984|      Health visitor|\n",
      "|        7|73B22Ac8A43DD1A|    Julie|   Cooley|Yu, Norman and Sharp|        West Sandra|               Japan|+1-675-243-7422x9177|      (703)337-5903|priscilla88@steph...|26-03-2022|http://www.sexton...|        7|73B22Ac8A43DD1A|   Ernest|  Hoffman|  Male|jeffharvey@exampl...| 093.655.7480x7895|22-12-1984|      Health visitor|\n",
      "|      107|DC94CCd993D311b|    Sandy|  Kaufman|      Gillespie-Kemp|   East Taylorville| Antigua and Barbuda| (159)790-8136x82786|(652)438-6147x14235|carlaburton@tran-...|11-06-2020|http://www.schaef...|        8|DC94CCd993D311b|    Doris| Andersen|  Male|alicia33@example.org|        4709522945|02-12-2016|          Air broker|\n",
      "|        8|DC94CCd993D311b|   Lauren|    Villa|French, Travis an...|        New Yolanda|                Fiji|    081.226.1797x647|   186.540.9690x605|colehumphrey@aust...|14-08-2020|https://www.kerr....|        8|DC94CCd993D311b|    Doris| Andersen|  Male|alicia33@example.org|        4709522945|02-12-2016|          Air broker|\n",
      "|      108|9Ba746Cb790FED9|  Madison|    Clark|Atkinson, Benitez...|      Cristianmouth|             Nigeria|        999.090.5244|             -10020| ikeith@richards.com|19-05-2022|http://www.mack.i...|        9|9Ba746Cb790FED9|   Cheryl|     Mays|  Male|  jake50@example.com|      013.820.4758|16-12-2012|Designer, multimedia|\n",
      "|        9|9Ba746Cb790FED9|    Emily|   Bryant|Moon, Strickland ...| East Normanchester|          Seychelles|  430-401-5228x35091|       115-835-3840|buckyvonne@church...|30-12-2020|  http://grimes.com/|        9|9Ba746Cb790FED9|   Cheryl|     Mays|  Male|  jake50@example.com|      013.820.4758|16-12-2012|Designer, multimedia|\n",
      "|      109|aAa1EDfaA70DA0c|     Leah|   Coffey| Rasmussen-Frederick|       Lake Darrell|            Slovenia|       (589)134-7453| 169.970.3181x61782|felicia85@joseph.com|20-01-2020| http://terrell.net/|       10|aAa1EDfaA70DA0c|    Harry| Mitchell|  Male|lanechristina@exa...|(560)903-5068x4985|29-06-1953|Insurance account...|\n",
      "|       10|aAa1EDfaA70DA0c|    Marie|  Estrada|             May Inc|           Welchton|United Arab Emirates|    001-648-790-9244|       973-767-3611|christie44@mckenz...|03-09-2020|https://www.salin...|       10|aAa1EDfaA70DA0c|    Harry| Mitchell|  Male|lanechristina@exa...|(560)903-5068x4985|29-06-1953|Insurance account...|\n",
      "+---------+---------------+---------+---------+--------------------+-------------------+--------------------+--------------------+-------------------+--------------------+----------+--------------------+---------+---------------+---------+---------+------+--------------------+------------------+----------+--------------------+\n",
      "only showing top 20 rows\n",
      "\n"
     ]
    }
   ],
   "source": [
    "emp_mng_macao = spark.sql('''\n",
    "                    SELECT\n",
    "                        *\n",
    "                    FROM right_join_view\n",
    "                    ''')\n",
    "emp_mng_macao.show()"
   ]
  },
  {
   "cell_type": "code",
   "execution_count": 25,
   "metadata": {},
   "outputs": [
    {
     "name": "stdout",
     "output_type": "stream",
     "text": [
      "+---------+---------+\n",
      "|emp_fname|mng_fname|\n",
      "+---------+---------+\n",
      "+---------+---------+\n",
      "\n"
     ]
    }
   ],
   "source": [
    "emp_mng_macao = spark.sql('''\n",
    "                    SELECT emp_fname, \n",
    "                            mng_fname\n",
    "                    FROM right_join_view\n",
    "                    WHERE emp_city ILIKE '%Macao%'\n",
    "                    ''')\n",
    "emp_mng_macao.show()"
   ]
  },
  {
   "cell_type": "markdown",
   "metadata": {},
   "source": [
    "### Qn 20\n",
    "- Identify managers who have employees located in more than 2 countries."
   ]
  },
  {
   "cell_type": "code",
   "execution_count": 26,
   "metadata": {},
   "outputs": [
    {
     "name": "stdout",
     "output_type": "stream",
     "text": [
      "+---------+-------------+\n",
      "|mng_index|country_count|\n",
      "+---------+-------------+\n",
      "|      879|            5|\n",
      "|       53|            4|\n",
      "|      296|            6|\n",
      "|      876|            5|\n",
      "|      939|            4|\n",
      "|      874|            4|\n",
      "|       28|            6|\n",
      "|      300|            6|\n",
      "|       27|            6|\n",
      "|       26|            6|\n",
      "|      875|            4|\n",
      "|       22|            5|\n",
      "|      305|            4|\n",
      "|      935|            3|\n",
      "|      297|            6|\n",
      "|       52|            4|\n",
      "|      308|            4|\n",
      "|       20|            6|\n",
      "|      295|            6|\n",
      "|      881|            5|\n",
      "+---------+-------------+\n",
      "only showing top 20 rows\n",
      "\n"
     ]
    }
   ],
   "source": [
    "mng_multi_country = spark.sql('''\n",
    "                SELECT \n",
    "                    mng_index, \n",
    "                    COUNT(DISTINCT emp_country) AS country_count\n",
    "                FROM right_join_view\n",
    "                GROUP BY mng_index\n",
    "                HAVING COUNT(DISTINCT emp_country) > 2\n",
    "            ''')\n",
    "mng_multi_country.show()"
   ]
  },
  {
   "cell_type": "code",
   "execution_count": 27,
   "metadata": {},
   "outputs": [
    {
     "name": "stdout",
     "output_type": "stream",
     "text": [
      "+---------+-------+\n",
      "|mng_fname|mng_age|\n",
      "+---------+-------+\n",
      "|   Shelia|   NULL|\n",
      "|   Shelia|   NULL|\n",
      "|       Jo|   NULL|\n",
      "|       Jo|   NULL|\n",
      "|   Sheryl|   NULL|\n",
      "|   Sheryl|   NULL|\n",
      "|  Whitney|   NULL|\n",
      "|  Whitney|   NULL|\n",
      "|  Lindsey|   NULL|\n",
      "|  Lindsey|   NULL|\n",
      "|   Sherry|   NULL|\n",
      "|   Sherry|   NULL|\n",
      "|   Ernest|   NULL|\n",
      "|   Ernest|   NULL|\n",
      "|    Doris|   NULL|\n",
      "|    Doris|   NULL|\n",
      "|   Cheryl|   NULL|\n",
      "|   Cheryl|   NULL|\n",
      "|    Harry|   NULL|\n",
      "|    Harry|   NULL|\n",
      "+---------+-------+\n",
      "only showing top 20 rows\n",
      "\n"
     ]
    }
   ],
   "source": [
    "from pyspark.sql.functions import current_date, datediff, floor\n",
    "\n",
    "df_right_join = df_right_join.withColumn(\n",
    "    \"mng_age\", \n",
    "    floor(datediff(current_date(), df_right_join[\"mng_dob\"]) / 365.25)\n",
    ")\n",
    "\n",
    "df_right_join.select(\"mng_fname\", \"mng_age\").show()"
   ]
  }
 ],
 "metadata": {
  "kernelspec": {
   "display_name": "Python 3",
   "language": "python",
   "name": "python3"
  },
  "language_info": {
   "codemirror_mode": {
    "name": "ipython",
    "version": 3
   },
   "file_extension": ".py",
   "mimetype": "text/x-python",
   "name": "python",
   "nbconvert_exporter": "python",
   "pygments_lexer": "ipython3",
   "version": "3.11.4"
  }
 },
 "nbformat": 4,
 "nbformat_minor": 2
}
