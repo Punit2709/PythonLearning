{
 "cells": [
  {
   "cell_type": "code",
   "execution_count": 1,
   "metadata": {},
   "outputs": [
    {
     "name": "stdout",
     "output_type": "stream",
     "text": [
      "Requirement already satisfied: pyspark in c:\\users\\dell\\appdata\\local\\programs\\python\\python311\\lib\\site-packages (3.5.4)"
     ]
    },
    {
     "name": "stderr",
     "output_type": "stream",
     "text": [
      "\n",
      "[notice] A new release of pip is available: 24.0 -> 25.0.1\n",
      "[notice] To update, run: python.exe -m pip install --upgrade pip\n"
     ]
    },
    {
     "name": "stdout",
     "output_type": "stream",
     "text": [
      "\n",
      "Requirement already satisfied: py4j==0.10.9.7 in c:\\users\\dell\\appdata\\local\\programs\\python\\python311\\lib\\site-packages (from pyspark) (0.10.9.7)\n"
     ]
    }
   ],
   "source": [
    "!pip install pyspark"
   ]
  },
  {
   "cell_type": "code",
   "execution_count": 2,
   "metadata": {},
   "outputs": [
    {
     "data": {
      "text/html": [
       "\n",
       "            <div>\n",
       "                <p><b>SparkSession - in-memory</b></p>\n",
       "                \n",
       "        <div>\n",
       "            <p><b>SparkContext</b></p>\n",
       "\n",
       "            <p><a href=\"http://DESKTOP-KMKHMF1:4040\">Spark UI</a></p>\n",
       "\n",
       "            <dl>\n",
       "              <dt>Version</dt>\n",
       "                <dd><code>v3.5.4</code></dd>\n",
       "              <dt>Master</dt>\n",
       "                <dd><code>local[*]</code></dd>\n",
       "              <dt>AppName</dt>\n",
       "                <dd><code>MyApp</code></dd>\n",
       "            </dl>\n",
       "        </div>\n",
       "        \n",
       "            </div>\n",
       "        "
      ],
      "text/plain": [
       "<pyspark.sql.session.SparkSession at 0x23ca5b35a10>"
      ]
     },
     "execution_count": 2,
     "metadata": {},
     "output_type": "execute_result"
    }
   ],
   "source": [
    "from pyspark.sql import SparkSession\n",
    "\n",
    "# Create a Spark session\n",
    "spark = SparkSession.builder \\\n",
    "    .appName(\"MyApp\") \\\n",
    "    .master(\"local[*]\") \\\n",
    "    .getOrCreate()  # Use all available CPU cores\n",
    "\n",
    "# Verify Spark session\n",
    "spark"
   ]
  },
  {
   "cell_type": "code",
   "execution_count": 3,
   "metadata": {},
   "outputs": [],
   "source": [
    "# Sample Data\n",
    "data = [\n",
    "    (1, \"Alice\", \"HR\", 60000, \"2022-01-10\", 4.2),\n",
    "    (2, \"Bob\", \"Finance\", 75000, \"2021-12-15\", 3.8),\n",
    "    (3, \"Charlie\", \"IT\", 90000, \"2020-06-30\", 4.5),\n",
    "    (4, \"David\", \"HR\", 65000, \"2019-03-25\", 4.1),\n",
    "    (5, \"Eve\", \"Finance\", 72000, \"2022-07-19\", 3.9),\n",
    "    (6, \"Frank\", \"IT\", 85000, \"2021-01-08\", 4.4),\n",
    "    (7, \"Grace\", \"IT\", 92000, \"2023-03-12\", 4.7),\n",
    "    (8, \"Hank\", \"Finance\", 70000, \"2020-11-23\", 3.6),\n",
    "    (9, \"Ivy\", \"HR\", 58000, \"2021-08-29\", 4.0),\n",
    "    (10, \"Jack\", \"IT\", 88000, \"2022-09-05\", 4.3)\n",
    "]\n",
    "\n",
    "# Define Schema\n",
    "columns = [\"EmpID\", \"Name\", \"Department\", \"Salary\", \"JoiningDate\", \"PerformanceRating\"]"
   ]
  },
  {
   "cell_type": "code",
   "execution_count": 10,
   "metadata": {},
   "outputs": [
    {
     "name": "stdout",
     "output_type": "stream",
     "text": [
      "Column<'EmpID'>\n",
      "Column<'Name'>\n",
      "Column<'Department'>\n",
      "Column<'Salary'>\n",
      "Column<'JoiningDate'>\n",
      "Column<'PerformanceRating'>\n"
     ]
    }
   ],
   "source": [
    "df = spark.createDataFrame(data, columns)\n",
    "for x in df:\n",
    "    print(x)"
   ]
  }
 ],
 "metadata": {
  "kernelspec": {
   "display_name": "Python 3",
   "language": "python",
   "name": "python3"
  },
  "language_info": {
   "codemirror_mode": {
    "name": "ipython",
    "version": 3
   },
   "file_extension": ".py",
   "mimetype": "text/x-python",
   "name": "python",
   "nbconvert_exporter": "python",
   "pygments_lexer": "ipython3",
   "version": "3.11.4"
  }
 },
 "nbformat": 4,
 "nbformat_minor": 2
}
