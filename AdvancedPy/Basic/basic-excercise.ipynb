{
 "cells": [
  {
   "cell_type": "markdown",
   "metadata": {},
   "source": [
    "### LAON ELIGIBILTY CALC"
   ]
  },
  {
   "cell_type": "code",
   "execution_count": 5,
   "metadata": {},
   "outputs": [],
   "source": [
    "def eligible_for_loan(age, income, loan_amount, credit_score=500):\n",
    "    if(age < 18 or credit_score < 500 or loan_amount > 20*income):\n",
    "        return False\n",
    "    return True    "
   ]
  },
  {
   "cell_type": "code",
   "execution_count": null,
   "metadata": {},
   "outputs": [],
   "source": [
    "print(eligible_for_loan(12, 15000, 12200, 600))"
   ]
  },
  {
   "cell_type": "code",
   "execution_count": null,
   "metadata": {},
   "outputs": [],
   "source": [
    "print(eligible_for_loan(18, 15000, 12200, 600))"
   ]
  },
  {
   "cell_type": "code",
   "execution_count": null,
   "metadata": {},
   "outputs": [],
   "source": [
    "x = (2, 3, 4, 5, 6, 7)\n",
    "y = (3, 4, 5, 6, 7, 8)\n",
    "\n",
    "points = list(zip(x, y))\n",
    "print(points)"
   ]
  },
  {
   "cell_type": "code",
   "execution_count": null,
   "metadata": {},
   "outputs": [],
   "source": [
    "# Example 1: Simple DocTest for square of a number\n",
    "import doctest\n",
    "\n",
    "def square(n):\n",
    "    \"\"\"\n",
    "    Returns the square of a number.\n",
    "\n",
    "    >>> square(3)\n",
    "    9\n",
    "    >>> square(-4)\n",
    "    -16\n",
    "    >>> square(0)\n",
    "    0\n",
    "    \"\"\"\n",
    "    return n * n\n",
    "\n",
    "if __name__ == \"__main__\":\n",
    "  doctest.testmod()"
   ]
  },
  {
   "cell_type": "code",
   "execution_count": null,
   "metadata": {},
   "outputs": [],
   "source": []
  }
 ],
 "metadata": {
  "kernelspec": {
   "display_name": "Python 3",
   "language": "python",
   "name": "python3"
  },
  "language_info": {
   "codemirror_mode": {
    "name": "ipython",
    "version": 3
   },
   "file_extension": ".py",
   "mimetype": "text/x-python",
   "name": "python",
   "nbconvert_exporter": "python",
   "pygments_lexer": "ipython3",
   "version": "3.11.4"
  }
 },
 "nbformat": 4,
 "nbformat_minor": 2
}
