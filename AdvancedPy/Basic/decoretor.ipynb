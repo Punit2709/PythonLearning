{
 "cells": [
  {
   "cell_type": "code",
   "execution_count": 29,
   "metadata": {},
   "outputs": [],
   "source": [
    "def log_decorator(func):\n",
    "    def wrapper(*args, **kwargs):\n",
    "        print(f\"Calling function: {func.__name__}\" )\n",
    "        result = func(*args)\n",
    "        print(f\"{func.__name__} executed successfully\")\n",
    "        return result\n",
    "    \n",
    "    return wrapper    \n",
    "\n",
    "\n",
    "def sum_decorator(sumfn):\n",
    "    def wrapper(*args, **kwargs):\n",
    "        print(f\"U tru to sum: {args} using {sumfn.__name__}\")\n",
    "        result = sumfn(*args)\n",
    "        print(f\"Successful exection\")\n",
    "        return result\n",
    "    \n",
    "    return wrapper"
   ]
  },
  {
   "cell_type": "code",
   "execution_count": 30,
   "metadata": {},
   "outputs": [
    {
     "name": "stdout",
     "output_type": "stream",
     "text": [
      "Calling function: greet\n",
      "greet executed successfully\n",
      "Hello, Mukesh Goswami!\n",
      "U tru to sum: (2, 3) using add_numbers\n",
      "Successful exection\n",
      "5\n"
     ]
    }
   ],
   "source": [
    "# Function to decorate\n",
    "@log_decorator\n",
    "def greet(name):\n",
    "    return (f\"Hello, {name}!\")\n",
    "\n",
    "@sum_decorator\n",
    "def add_numbers(a, b):\n",
    "    return(a + b)\n",
    "\n",
    "# Using the decorated function\n",
    "print(greet(\"Mukesh Goswami\"))\n",
    "print(add_numbers(2,3))"
   ]
  },
  {
   "cell_type": "code",
   "execution_count": 31,
   "metadata": {},
   "outputs": [],
   "source": [
    "# Class decorator to count the number of instances created\n",
    "def count_instances(cls):\n",
    "    cls.instance_count = 0  # Initialize instance counter\n",
    "\n",
    "    # Create a wrapper for the __init__ method\n",
    "    original_init = cls.__init__\n",
    "\n",
    "    def new_init(self, *args, **kwargs):\n",
    "        cls.instance_count += 1  # Increment instance counter each time a new instance is created\n",
    "        original_init(self, *args, **kwargs)  # Call the original __init__ method\n",
    "\n",
    "    cls.__init__ = new_init  # Replace the class's __init__ method with the new one\n",
    "    return cls"
   ]
  },
  {
   "cell_type": "code",
   "execution_count": 32,
   "metadata": {},
   "outputs": [],
   "source": [
    "\n",
    "# Apply the decorator to a class\n",
    "@count_instances\n",
    "class Dog:\n",
    "    def __init__(self, name):\n",
    "        self.name = name"
   ]
  },
  {
   "cell_type": "code",
   "execution_count": 35,
   "metadata": {},
   "outputs": [
    {
     "name": "stdout",
     "output_type": "stream",
     "text": [
      "8\n"
     ]
    }
   ],
   "source": [
    "\n",
    "# Create instances of the class\n",
    "dog1 = Dog(\"Buddy\")\n",
    "dog2 = Dog(\"Max\")\n",
    "dog3 = Dog(\"Bella\")\n",
    "# Print the instance count\n",
    "print(Dog.instance_count)"
   ]
  },
  {
   "cell_type": "code",
   "execution_count": 36,
   "metadata": {},
   "outputs": [
    {
     "name": "stdout",
     "output_type": "stream",
     "text": [
      "Calculating fibonacci(10)...\n",
      "Calculating fibonacci(9)...\n",
      "Calculating fibonacci(8)...\n",
      "Calculating fibonacci(7)...\n",
      "Calculating fibonacci(6)...\n",
      "Calculating fibonacci(5)...\n",
      "Calculating fibonacci(4)...\n",
      "Calculating fibonacci(3)...\n",
      "Calculating fibonacci(2)...\n",
      "Calculating fibonacci(1)...\n",
      "Calculating fibonacci(0)...\n",
      "Using cached result for fibonacci(1)...\n",
      "Using cached result for fibonacci(2)...\n",
      "Using cached result for fibonacci(3)...\n",
      "Using cached result for fibonacci(4)...\n",
      "Using cached result for fibonacci(5)...\n",
      "Using cached result for fibonacci(6)...\n",
      "Using cached result for fibonacci(7)...\n",
      "Using cached result for fibonacci(8)...\n",
      "55\n",
      "Calculating fibonacci(15)...\n",
      "Calculating fibonacci(14)...\n",
      "Calculating fibonacci(13)...\n",
      "Calculating fibonacci(12)...\n",
      "Calculating fibonacci(11)...\n",
      "Using cached result for fibonacci(10)...\n",
      "Using cached result for fibonacci(9)...\n",
      "Using cached result for fibonacci(10)...\n",
      "Using cached result for fibonacci(11)...\n",
      "Using cached result for fibonacci(12)...\n",
      "Using cached result for fibonacci(13)...\n",
      "610\n"
     ]
    }
   ],
   "source": [
    "# Memoization decorator with print statements\n",
    "def memoize(func):\n",
    "    cache = {}  # Dictionary to store results\n",
    "    def wrapper(n):\n",
    "        if n not in cache:  # If result not in cache\n",
    "            print(f\"Calculating fibonacci({n})...\")  # Indicating calculation\n",
    "            cache[n] = func(n)\n",
    "        else:\n",
    "            print(f\"Using cached result for fibonacci({n})...\")  # Using memoized value\n",
    "        return cache[n]\n",
    "    return wrapper\n",
    "\n",
    "# Fibonacci function with memoization\n",
    "@memoize\n",
    "def fibonacci(n):\n",
    "    if n <= 1:\n",
    "        return n\n",
    "    return fibonacci(n-1) + fibonacci(n-2)\n",
    "\n",
    "# Using the memoized Fibonacci function\n",
    "print(fibonacci(10))  # First call, calculates and stores results\n",
    "print(fibonacci(15))  # Second call, returns cached result"
   ]
  },
  {
   "cell_type": "code",
   "execution_count": 40,
   "metadata": {},
   "outputs": [
    {
     "name": "stdout",
     "output_type": "stream",
     "text": [
      "calculating factorial(5)\n",
      "calculating factorial(4)\n",
      "calculating factorial(3)\n",
      "calculating factorial(2)\n",
      "calculating factorial(1)\n",
      "calculating factorial(0)\n",
      "120\n",
      "calculating factorial(10)\n",
      "calculating factorial(9)\n",
      "calculating factorial(8)\n",
      "calculating factorial(7)\n",
      "calculating factorial(6)\n",
      "using stored result in cache for factorial(5)\n",
      "3628800\n"
     ]
    }
   ],
   "source": [
    "# memoizing factorial function\n",
    "\n",
    "def memo_fact(func):\n",
    "    cache = {}\n",
    "    def wrapper(n):\n",
    "        if n not in cache:\n",
    "            print(f\"calculating {func.__name__}({n})\")\n",
    "            cache[n] = func(n)\n",
    "        else:\n",
    "            print(f\"using stored result in cache for {func.__name__}({n})\")\n",
    "        return cache[n]\n",
    "    return wrapper      \n",
    "  \n",
    "@memo_fact\n",
    "def factorial(n):\n",
    "    if n == 0:\n",
    "        return 1\n",
    "    else:\n",
    "        return n * factorial(n -1)\n",
    "    \n",
    "x = factorial(5)    \n",
    "print(x)\n",
    "    \n",
    "x = factorial(10)    \n",
    "print(x)    \n"
   ]
  },
  {
   "cell_type": "code",
   "execution_count": 51,
   "metadata": {},
   "outputs": [
    {
     "name": "stdout",
     "output_type": "stream",
     "text": [
      "4\n",
      "151\n"
     ]
    }
   ],
   "source": [
    "def class_instance(cls):\n",
    "    cls.instance_count = 0\n",
    "    \n",
    "    original_init = cls.__init__ #original constructor for class\n",
    "    \n",
    "    def new_init(self, *args, **kwargs):\n",
    "        cls.instance_count += 1\n",
    "        original_init(self, *args, **kwargs)\n",
    "    \n",
    "    cls.__init__ = new_init    \n",
    "    return cls\n",
    "\n",
    "@ class_instance\n",
    "class Cat:\n",
    "    def __init__(self, name):\n",
    "        self.name = name\n",
    "    \n",
    "    def get_name(self):\n",
    "        print(f\"name : {self.name}\")    \n",
    "        \n",
    "@ class_instance\n",
    "class Dog:\n",
    "    def __init__(self, name):\n",
    "        self.name = name\n",
    "    \n",
    "    def get_name(self):\n",
    "        print(f\"name : {self.name}\")          \n",
    "        \n",
    "        \n",
    "        \n",
    "cat1 = Cat(\"CuteCate\")   \n",
    "cat2 = Cat(\"CuteCate\")   \n",
    "cat3 = Cat(\"CuteCate\")   \n",
    "cat4 = Cat(\"CuteCate\") \n",
    "\n",
    "\n",
    "dog1 = Dog('Shiro')  \n",
    "dog1.instance_count = 15\n",
    "Dog.instance_count = 150\n",
    "\n",
    "dog2 = Dog('Moku')\n",
    "print(cat1.instance_count)    \n",
    "print(Dog.instance_count)    "
   ]
  },
  {
   "cell_type": "code",
   "execution_count": null,
   "metadata": {},
   "outputs": [],
   "source": []
  }
 ],
 "metadata": {
  "kernelspec": {
   "display_name": "Python 3",
   "language": "python",
   "name": "python3"
  },
  "language_info": {
   "codemirror_mode": {
    "name": "ipython",
    "version": 3
   },
   "file_extension": ".py",
   "mimetype": "text/x-python",
   "name": "python",
   "nbconvert_exporter": "python",
   "pygments_lexer": "ipython3",
   "version": "3.11.4"
  }
 },
 "nbformat": 4,
 "nbformat_minor": 2
}
