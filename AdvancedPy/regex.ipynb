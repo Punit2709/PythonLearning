{
 "cells": [
  {
   "cell_type": "code",
   "execution_count": 1,
   "metadata": {},
   "outputs": [],
   "source": [
    "import re"
   ]
  },
  {
   "cell_type": "code",
   "execution_count": 11,
   "metadata": {},
   "outputs": [
    {
     "name": "stdout",
     "output_type": "stream",
     "text": [
      "<re.Match object; span=(0, 10), match='29-01-2020'>\n"
     ]
    }
   ],
   "source": [
    "# Match Dates (DD-MM-YYYY):\n",
    "ptrn = r\"(0[1-9]|[12][0-9]|[3][0-1])-(0[1-9]|1[0-2])-[0-9]{4}\"\n",
    "str = \"29-01-2020\"\n",
    "ans = re.search(ptrn, str)\n",
    "print(ans)"
   ]
  },
  {
   "cell_type": "markdown",
   "metadata": {},
   "source": [
    "#### Matching Email Address\n",
    "- Example: \"test.email@example.com\" → ✅ Match\n",
    "- \"test.email@.com\" → ❌ No Match"
   ]
  },
  {
   "cell_type": "code",
   "execution_count": 23,
   "metadata": {},
   "outputs": [
    {
     "name": "stdout",
     "output_type": "stream",
     "text": [
      "<re.Match object; span=(0, 22), match='test.email@example.com'>\n",
      "<re.Match object; span=(0, 16), match='test.email@1.com'>\n"
     ]
    }
   ],
   "source": [
    "ptrn = r\"[A-Za-z]{4,}\\.email@[A-Za-z0-9-]+\\.com$\"\n",
    "str = \"test.email@example.com\"\n",
    "str2 = \"test.email@1.com\"\n",
    "ans = re.search(ptrn, str)\n",
    "ans2 = re.search(ptrn, str2)\n",
    "print(ans)\n",
    "print(ans2)"
   ]
  },
  {
   "cell_type": "code",
   "execution_count": 28,
   "metadata": {},
   "outputs": [
    {
     "name": "stdout",
     "output_type": "stream",
     "text": [
      "Hell0, My Name i Anthony Gon lave \n"
     ]
    }
   ],
   "source": [
    "# geting words form string\n",
    "ptrn = r'\\s+'\n",
    "str =  \"Hell0,     My Name is Anthony Gonslaves\"\n",
    "ans = re.sub(ptrn,\" \" ,ans)\n",
    "print(ans)\n"
   ]
  },
  {
   "cell_type": "code",
   "execution_count": 35,
   "metadata": {},
   "outputs": [
    {
     "name": "stdout",
     "output_type": "stream",
     "text": [
      "Punit@001$ : Strong Pass\n"
     ]
    }
   ],
   "source": [
    "# strong pass\n",
    "ptrn = r\"^(?=.*[A-Z])(?=.*[a-z])(?=.*\\d)(?=.*[@$!%*?&])[A-Za-z\\d@$!%*?&]{8,}$\"\n",
    "str_list = [\"Punit@001$\"]\n",
    "\n",
    "for str in str_list:\n",
    "    if re.search(ptrn, str):\n",
    "        print(f\"{str} : Strong Pass\")\n",
    "    else:\n",
    "        print(f\"{str} is weak\")    "
   ]
  },
  {
   "cell_type": "code",
   "execution_count": null,
   "metadata": {},
   "outputs": [],
   "source": [
    "# ip validation\n",
    "ptrn = r\"^(0?[0-9]{1,2}|1[0-9]{2}|2[0-4][0-9]|25[0-5])\\.(0?[0-9]{1,2}|1[0-9]{2}|2[0-4][0-9]|25[0-5])\\.(0?[0-9]{1,2}|1[0-9]{2}|2[0-4][0-9]|25[0-5])\\.(0?[0-9]{1,2}|1[0-9]{2}|2[0-4][0-9]|25[0-5])$\"\n",
    "str = \"\"\" \"User accessed from IP: 192.168.1.10 at [timestamp]\",\n",
    "       \"User accessed from IP: 255.168.1.10 at [timestamp]\",\n",
    "       \"User accessed from IP: 092.168.00.10 at [timestamp]\",\n",
    "       \"User accessed from IP: 062.162.1.10 at [timestamp]\",\n",
    "       \"User accessed from IP: 138.192.255.10 at [timestamp]\",\n",
    "       \"User accessed from IP: 240.168.1.10 at [timestamp]\",\n",
    "       \"User accessed from IP: 235.168.1.255 at [timestamp]\" \"\"\"\n",
    "\n",
    "list = []\n",
    "for s in str:\n",
    "    print((re.findall(ptrn, s)))    \n"
   ]
  },
  {
   "cell_type": "code",
   "execution_count": 67,
   "metadata": {},
   "outputs": [
    {
     "name": "stdout",
     "output_type": "stream",
     "text": [
      "<re.Match object; span=(0, 13), match='235.168.1.255'>\n"
     ]
    }
   ],
   "source": [
    "# ip validation\n",
    "ptrn = r\"^(0?[0-9]{1,2}|1[0-9]{2}|2[0-4][0-9]|25[0-5])\\.(0?[0-9]{1,2}|1[0-9]{2}|2[0-4][0-9]|25[0-5])\\.(0?[0-9]{1,2}|1[0-9]{2}|2[0-4][0-9]|25[0-5])\\.(0?[0-9]{1,2}|1[0-9]{2}|2[0-4][0-9]|25[0-5])$\"\n",
    "str = \"235.168.1.255\"\n",
    "ans = re.search(ptrn, str)\n",
    "print(ans)\n"
   ]
  },
  {
   "cell_type": "code",
   "execution_count": 48,
   "metadata": {},
   "outputs": [
    {
     "name": "stdout",
     "output_type": "stream",
     "text": [
      "<re.Match object; span=(0, 1), match='0'>\n"
     ]
    }
   ],
   "source": [
    "ptrn = r'0?'\n",
    "str = '0'\n",
    "ans = re.search(ptrn, str)\n",
    "print(ans)"
   ]
  },
  {
   "cell_type": "code",
   "execution_count": null,
   "metadata": {},
   "outputs": [],
   "source": []
  }
 ],
 "metadata": {
  "kernelspec": {
   "display_name": "Python 3",
   "language": "python",
   "name": "python3"
  },
  "language_info": {
   "codemirror_mode": {
    "name": "ipython",
    "version": 3
   },
   "file_extension": ".py",
   "mimetype": "text/x-python",
   "name": "python",
   "nbconvert_exporter": "python",
   "pygments_lexer": "ipython3",
   "version": "3.11.4"
  }
 },
 "nbformat": 4,
 "nbformat_minor": 2
}
