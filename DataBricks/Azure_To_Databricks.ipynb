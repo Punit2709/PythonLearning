{
 "cells": [
  {
   "cell_type": "markdown",
   "metadata": {
    "application/vnd.databricks.v1+cell": {
     "cellMetadata": {
      "byteLimit": 2048000,
      "rowLimit": 10000
     },
     "inputWidgets": {},
     "nuid": "03c958fd-9228-45b0-86e5-429000f452e5",
     "showTitle": false,
     "tableResultSettingsMap": {},
     "title": ""
    }
   },
   "source": [
    "### 3 ways to connect to Azure Blob Storage\n",
    "1.  Microsoft Entra ID service principal\n",
    "2. Shared access signatures (SAS)\n",
    "3. Account Access keys"
   ]
  },
  {
   "cell_type": "markdown",
   "metadata": {
    "application/vnd.databricks.v1+cell": {
     "cellMetadata": {
      "byteLimit": 2048000,
      "rowLimit": 10000
     },
     "inputWidgets": {},
     "nuid": "45a7684a-95a4-4aec-9fb9-61cbd83d360f",
     "showTitle": false,
     "tableResultSettingsMap": {},
     "title": ""
    }
   },
   "source": [
    "### 1. Service Principle"
   ]
  },
  {
   "cell_type": "code",
   "execution_count": 0,
   "metadata": {
    "application/vnd.databricks.v1+cell": {
     "cellMetadata": {
      "byteLimit": 2048000,
      "rowLimit": 10000
     },
     "inputWidgets": {},
     "nuid": "6dce9060-1397-48fe-949f-aa7377f12243",
     "showTitle": false,
     "tableResultSettingsMap": {},
     "title": ""
    }
   },
   "outputs": [],
   "source": [
    "# create given variales\n",
    "\n",
    "# container_name = 'container_name'\n",
    "# storage_account_name = 'storage_account_name'\n",
    "# application_id = 'application_id'\n",
    "# service_credential = 'service_credential'\n",
    "# directory_id = 'directory_id'"
   ]
  },
  {
   "cell_type": "code",
   "execution_count": 0,
   "metadata": {
    "application/vnd.databricks.v1+cell": {
     "cellMetadata": {
      "byteLimit": 2048000,
      "rowLimit": 10000
     },
     "inputWidgets": {},
     "nuid": "068b6d47-3a0e-491e-b6d9-1e0865bdfa88",
     "showTitle": false,
     "tableResultSettingsMap": {},
     "title": ""
    }
   },
   "outputs": [],
   "source": [
    "spark.conf.set(f\"fs.azure.account.auth.type.{storage_account_name}.dfs.core.windows.net\", \"OAuth\")\n",
    "spark.conf.set(f\"fs.azure.account.oauth.provider.type.{storage_account_name}.dfs.core.windows.net\", \"org.apache.hadoop.fs.azurebfs.oauth2.ClientCredsTokenProvider\")\n",
    "spark.conf.set(f\"fs.azure.account.oauth2.client.id.{storage_account_name}.dfs.core.windows.net\", application_id)\n",
    "spark.conf.set(f\"fs.azure.account.oauth2.client.secret.{storage_account_name}.dfs.core.windows.net\", service_credential)\n",
    "spark.conf.set(f\"fs.azure.account.oauth2.client.endpoint.{storage_account_name}.dfs.core.windows.net\", \"https://login.microsoftonline.com/{directory_id}/oauth2/token\")\n"
   ]
  },
  {
   "cell_type": "code",
   "execution_count": 0,
   "metadata": {
    "application/vnd.databricks.v1+cell": {
     "cellMetadata": {
      "byteLimit": 2048000,
      "rowLimit": 10000
     },
     "inputWidgets": {},
     "nuid": "5b278be0-73c6-4b6b-85a1-9aa790b41e21",
     "showTitle": false,
     "tableResultSettingsMap": {},
     "title": ""
    }
   },
   "outputs": [],
   "source": [
    "file_path = f\"wasbs://{container_name}@{storage_account_name}.blob.core.windows.net/\"\n",
    "dbutils.fs.ls(file_path)\n",
    "df = spark.read.csv(file_path, header=True, inferSchema=True)\n",
    "df.show()"
   ]
  },
  {
   "cell_type": "code",
   "execution_count": 0,
   "metadata": {
    "application/vnd.databricks.v1+cell": {
     "cellMetadata": {},
     "inputWidgets": {},
     "nuid": "da73760b-3d62-436b-ac4f-ab8e303d8f0f",
     "showTitle": false,
     "tableResultSettingsMap": {},
     "title": ""
    }
   },
   "outputs": [],
   "source": [
    "# dbutils.fs.mount(\n",
    "#     source=f\"abfss://{container_name}@{storage_account_name}.dfs.core.windows.net/\",\n",
    "#     mount_point=\"/mnt/sp/movies\",\n",
    "#     extra_configs=configs\n",
    "# )\n",
    "\n",
    "# Verify Mount\n",
    "display(dbutils.fs.ls(\"/mnt/rawdata\"))"
   ]
  },
  {
   "cell_type": "markdown",
   "metadata": {
    "application/vnd.databricks.v1+cell": {
     "cellMetadata": {
      "byteLimit": 2048000,
      "rowLimit": 10000
     },
     "inputWidgets": {},
     "nuid": "219e243c-e88c-4818-b564-ed9faca420cb",
     "showTitle": false,
     "tableResultSettingsMap": {},
     "title": ""
    }
   },
   "source": [
    "### 2. SAS Token"
   ]
  },
  {
   "cell_type": "code",
   "execution_count": 0,
   "metadata": {
    "application/vnd.databricks.v1+cell": {
     "cellMetadata": {
      "byteLimit": 2048000,
      "rowLimit": 10000
     },
     "inputWidgets": {},
     "nuid": "597bca4a-8db9-44b0-8461-4bf128d47231",
     "showTitle": false,
     "tableResultSettingsMap": {},
     "title": ""
    }
   },
   "outputs": [],
   "source": [
    "# storage_account_name = 'storage_account_name'\n",
    "# container_name = 'container_name'\n",
    "# sas_token = \"sas_token\""
   ]
  },
  {
   "cell_type": "code",
   "execution_count": 0,
   "metadata": {
    "application/vnd.databricks.v1+cell": {
     "cellMetadata": {
      "byteLimit": 2048000,
      "rowLimit": 10000
     },
     "inputWidgets": {},
     "nuid": "998fa4d0-3cc1-49a2-ba9f-3816d514a096",
     "showTitle": false,
     "tableResultSettingsMap": {},
     "title": ""
    }
   },
   "outputs": [],
   "source": [
    "spark.conf.set(f\"fs.azure.account.auth.type.{storage_account_name}.dfs.core.windows.net\", \"SAS\")\n",
    "spark.conf.set(f\"fs.azure.sas.token.provider.type.{storage_account_name}.dfs.core.windows.net\", \"org.apache.hadoop.fs.azurebfs.sas.FixedSASTokenProvider\")\n",
    "spark.conf.set(f\"fs.azure.sas.fixed.token.{storage_account_name}.dfs.core.windows.net\", sas_token)\n",
    "spark.conf.set(f\"fs.azure.sas.{container_name}.{storage_account_name}.blob.core.windows.net\",sas_token)\n"
   ]
  },
  {
   "cell_type": "code",
   "execution_count": 0,
   "metadata": {
    "application/vnd.databricks.v1+cell": {
     "cellMetadata": {
      "byteLimit": 2048000,
      "rowLimit": 10000
     },
     "inputWidgets": {},
     "nuid": "a1c329c0-a390-4048-b33e-ac11f44d260e",
     "showTitle": false,
     "tableResultSettingsMap": {},
     "title": ""
    }
   },
   "outputs": [
    {
     "name": "stdout",
     "output_type": "stream",
     "text": [
      "+---+------+--------------------+--------------------+------------+----------+------------+----------+\n",
      "|_c0|    id|               title|            overview|release_date|popularity|vote_average|vote_count|\n",
      "+---+------+--------------------+--------------------+------------+----------+------------+----------+\n",
      "|  0| 19404|Dilwale Dulhania ...|Raj is a rich, ca...|  1995-10-20|    18.433|         8.7|      2763|\n",
      "|  1|724089|Gabriel's Inferno...|Professor Gabriel...|  2020-07-31|     8.439|         8.7|      1223|\n",
      "|  2|   278|The Shawshank Red...|Framed in the 194...|  1994-09-23|     65.57|         8.7|     18637|\n",
      "|  3|   238|       The Godfather|Spanning the year...|  1972-03-14|    63.277|         8.7|     14052|\n",
      "|  4|761053|Gabriel's Inferno...|The final part of...|  2020-11-19|    26.691|         8.7|       773|\n",
      "|  5|696374|   Gabriel's Inferno|An intriguing and...|  2020-05-29|     10.51|         8.7|      1993|\n",
      "|  6|791373|Zack Snyder's Jus...|Determined to ens...|  2021-03-18|  7337.834|         8.6|      4179|\n",
      "|  7|399566|   Godzilla vs. Kong|In a time when mo...|  2021-03-24| 11701.435|         8.7|      1236|\n",
      "|  8|441130|         Wolfwalkers|In a time of supe...|  2020-10-26|    30.109|         8.6|       354|\n",
      "|  9|   424|    Schindler's List|The true story of...|  1993-11-30|    37.478|         8.6|     11179|\n",
      "| 10|   240|The Godfather: Pa...|In the continuing...|  1974-12-20|    43.865|         8.6|      8388|\n",
      "| 11|372058|          Your Name.|High schoolers Mi...|  2016-08-26|   121.521|         8.6|      7277|\n",
      "| 12|   129|       Spirited Away|A young girl, Chi...|  2001-07-20|    58.023|         8.5|     11135|\n",
      "| 13|496243|            Parasite|All unemployed, K...|  2019-05-30|    139.59|         8.5|     11024|\n",
      "| 14|   497|      The Green Mile|A supernatural ta...|  1999-12-10|    38.528|         8.5|     12038|\n",
      "| 15|   680|        Pulp Fiction|A burger-loving h...|  1994-09-10|    57.179|         8.5|     20840|\n",
      "| 16|556574|            Hamilton|Presenting the ta...|  2020-07-03|    23.218|         8.5|       679|\n",
      "| 17|644479|  Dedicated to my ex|The film tells th...|  2019-11-01|    30.383|         8.5|       364|\n",
      "| 18|   389|        12 Angry Men|The defense and t...|  1957-04-10|    25.482|         8.5|      5468|\n",
      "| 19|592350|My Hero Academia:...|Class 1-A visits ...|  2019-12-20|   384.612|         8.5|       658|\n",
      "+---+------+--------------------+--------------------+------------+----------+------------+----------+\n",
      "only showing top 20 rows\n"
     ]
    }
   ],
   "source": [
    "# File Path\n",
    "file_path = f\"wasbs://{container_name}@{storage_account_name}.blob.core.windows.net/movies.csv\"\n",
    "\n",
    "# Read CSV File\n",
    "df = spark.read.format(\"csv\").option(\"header\", \"true\").load(\n",
    "    file_path,\n",
    "    storage_options={f\"fs.azure.sas.{container_name}.{storage_account_name}.blob.core.windows.net\": sas_token}\n",
    ")\n",
    "\n",
    "\n",
    "df.show()"
   ]
  },
  {
   "cell_type": "code",
   "execution_count": 0,
   "metadata": {
    "application/vnd.databricks.v1+cell": {
     "cellMetadata": {
      "byteLimit": 2048000,
      "rowLimit": 10000
     },
     "inputWidgets": {},
     "nuid": "aedffed5-a243-41b9-8c37-65500018e1cf",
     "showTitle": false,
     "tableResultSettingsMap": {},
     "title": ""
    }
   },
   "outputs": [
    {
     "data": {
      "text/plain": [
       "True"
      ]
     },
     "execution_count": 16,
     "metadata": {},
     "output_type": "execute_result"
    }
   ],
   "source": [
    "mountpointname = '/mnt/sas/movies'\n",
    "\n",
    "dbutils.fs.mount(\n",
    "    source=f\"wasbs://{container_name}@{storage_account_name}.blob.core.windows.net\",\n",
    "    mount_point=mountpointname,\n",
    "    extra_configs={\n",
    "        f\"fs.azure.sas.{container_name}.{storage_account_name}.blob.core.windows.net\": sas_token\n",
    "    }\n",
    ")"
   ]
  },
  {
   "cell_type": "markdown",
   "metadata": {
    "application/vnd.databricks.v1+cell": {
     "cellMetadata": {
      "byteLimit": 2048000,
      "rowLimit": 10000
     },
     "inputWidgets": {},
     "nuid": "2ac88ac9-d61c-4b11-8491-83ddb0b45130",
     "showTitle": false,
     "tableResultSettingsMap": {},
     "title": ""
    }
   },
   "source": [
    "### 3. Account Access keys"
   ]
  },
  {
   "cell_type": "code",
   "execution_count": 0,
   "metadata": {
    "application/vnd.databricks.v1+cell": {
     "cellMetadata": {
      "byteLimit": 2048000,
      "rowLimit": 10000
     },
     "inputWidgets": {},
     "nuid": "ac6163f6-a73e-4d16-8cfb-2feeca4981df",
     "showTitle": false,
     "tableResultSettingsMap": {},
     "title": ""
    }
   },
   "outputs": [],
   "source": [
    "# ContainerName = 'ContainerName'\n",
    "# azure_blobstorage_name = 'azure_blobstorage_name'\n",
    "# mountpointname = '/mnt/acc_key/movies'\n",
    "# secret_key = 'secret_key'\n",
    "\n",
    "spark.conf.set(\n",
    "    f\"fs.azure.account.key.{azure_blobstorage_name}.blob.core.windows.net\",\n",
    "    secret_key\n",
    ")"
   ]
  },
  {
   "cell_type": "markdown",
   "metadata": {
    "application/vnd.databricks.v1+cell": {
     "cellMetadata": {
      "byteLimit": 2048000,
      "rowLimit": 10000
     },
     "inputWidgets": {},
     "nuid": "fde6014a-659d-4f37-b6fa-339aea818d32",
     "showTitle": false,
     "tableResultSettingsMap": {},
     "title": ""
    }
   },
   "source": [
    "Without Mounting"
   ]
  },
  {
   "cell_type": "code",
   "execution_count": 0,
   "metadata": {
    "application/vnd.databricks.v1+cell": {
     "cellMetadata": {
      "byteLimit": 2048000,
      "rowLimit": 10000
     },
     "inputWidgets": {},
     "nuid": "2111203d-71ae-4ffa-8b89-2d41899267dd",
     "showTitle": false,
     "tableResultSettingsMap": {},
     "title": ""
    }
   },
   "outputs": [
    {
     "name": "stdout",
     "output_type": "stream",
     "text": [
      "+---+------+--------------------+--------------------+------------+----------+------------+----------+\n",
      "|_c0|    id|               title|            overview|release_date|popularity|vote_average|vote_count|\n",
      "+---+------+--------------------+--------------------+------------+----------+------------+----------+\n",
      "|  0| 19404|Dilwale Dulhania ...|Raj is a rich, ca...|  1995-10-20|    18.433|         8.7|      2763|\n",
      "|  1|724089|Gabriel's Inferno...|Professor Gabriel...|  2020-07-31|     8.439|         8.7|      1223|\n",
      "|  2|   278|The Shawshank Red...|Framed in the 194...|  1994-09-23|     65.57|         8.7|     18637|\n",
      "|  3|   238|       The Godfather|Spanning the year...|  1972-03-14|    63.277|         8.7|     14052|\n",
      "|  4|761053|Gabriel's Inferno...|The final part of...|  2020-11-19|    26.691|         8.7|       773|\n",
      "|  5|696374|   Gabriel's Inferno|An intriguing and...|  2020-05-29|     10.51|         8.7|      1993|\n",
      "|  6|791373|Zack Snyder's Jus...|Determined to ens...|  2021-03-18|  7337.834|         8.6|      4179|\n",
      "|  7|399566|   Godzilla vs. Kong|In a time when mo...|  2021-03-24| 11701.435|         8.7|      1236|\n",
      "|  8|441130|         Wolfwalkers|In a time of supe...|  2020-10-26|    30.109|         8.6|       354|\n",
      "|  9|   424|    Schindler's List|The true story of...|  1993-11-30|    37.478|         8.6|     11179|\n",
      "| 10|   240|The Godfather: Pa...|In the continuing...|  1974-12-20|    43.865|         8.6|      8388|\n",
      "| 11|372058|          Your Name.|High schoolers Mi...|  2016-08-26|   121.521|         8.6|      7277|\n",
      "| 12|   129|       Spirited Away|A young girl, Chi...|  2001-07-20|    58.023|         8.5|     11135|\n",
      "| 13|496243|            Parasite|All unemployed, K...|  2019-05-30|    139.59|         8.5|     11024|\n",
      "| 14|   497|      The Green Mile|A supernatural ta...|  1999-12-10|    38.528|         8.5|     12038|\n",
      "| 15|   680|        Pulp Fiction|A burger-loving h...|  1994-09-10|    57.179|         8.5|     20840|\n",
      "| 16|556574|            Hamilton|Presenting the ta...|  2020-07-03|    23.218|         8.5|       679|\n",
      "| 17|644479|  Dedicated to my ex|The film tells th...|  2019-11-01|    30.383|         8.5|       364|\n",
      "| 18|   389|        12 Angry Men|The defense and t...|  1957-04-10|    25.482|         8.5|      5468|\n",
      "| 19|592350|My Hero Academia:...|Class 1-A visits ...|  2019-12-20|   384.612|         8.5|       658|\n",
      "+---+------+--------------------+--------------------+------------+----------+------------+----------+\n",
      "only showing top 20 rows\n"
     ]
    }
   ],
   "source": [
    "df = spark.read.csv(f\"wasbs://{ContainerName}@{azure_blobstorage_name}.blob.core.windows.net/movies.csv\", header=True, inferSchema=True)\n",
    "df.show()"
   ]
  },
  {
   "cell_type": "markdown",
   "metadata": {
    "application/vnd.databricks.v1+cell": {
     "cellMetadata": {
      "byteLimit": 2048000,
      "rowLimit": 10000
     },
     "inputWidgets": {},
     "nuid": "ee130c78-7378-4174-badf-c430a0de14d9",
     "showTitle": false,
     "tableResultSettingsMap": {},
     "title": ""
    }
   },
   "source": [
    "Using Mount Point"
   ]
  },
  {
   "cell_type": "code",
   "execution_count": 0,
   "metadata": {
    "application/vnd.databricks.v1+cell": {
     "cellMetadata": {
      "byteLimit": 2048000,
      "rowLimit": 10000
     },
     "inputWidgets": {},
     "nuid": "916e4df6-5002-4175-b3e1-ecb2f5f360ab",
     "showTitle": false,
     "tableResultSettingsMap": {},
     "title": ""
    }
   },
   "outputs": [
    {
     "data": {
      "text/plain": []
     },
     "metadata": {
      "application/vnd.databricks.v1+output": {
       "addedWidgets": {},
       "arguments": {},
       "datasetInfos": [],
       "jupyterProps": null,
       "metadata": {
        "errorSummary": "Command skipped"
       },
       "removedWidgets": [],
       "sqlProps": null,
       "stackFrames": [],
       "type": "baseError"
      }
     },
     "output_type": "display_data"
    }
   ],
   "source": [
    "dbutils.fs.unmount(\"/mnt/movies\")\n",
    "\n",
    "dbutils.fs.mount(\n",
    "    source=f\"wasbs://{ContainerName}@{azure_blobstorage_name}.blob.core.windows.net\",\n",
    "    mount_point=mountpointname,\n",
    "    extra_configs={f\"fs.azure.account.key.{azure_blobstorage_name}.blob.core.windows.net\": secret_key}\n",
    ")"
   ]
  },
  {
   "cell_type": "code",
   "execution_count": 0,
   "metadata": {
    "application/vnd.databricks.v1+cell": {
     "cellMetadata": {
      "byteLimit": 2048000,
      "rowLimit": 10000
     },
     "inputWidgets": {},
     "nuid": "d13d7cee-527d-471c-ad4a-87ef1c1e94c7",
     "showTitle": false,
     "tableResultSettingsMap": {},
     "title": ""
    }
   },
   "outputs": [
    {
     "data": {
      "text/plain": []
     },
     "metadata": {
      "application/vnd.databricks.v1+output": {
       "addedWidgets": {},
       "arguments": {},
       "datasetInfos": [],
       "jupyterProps": null,
       "metadata": {
        "errorSummary": "Command skipped"
       },
       "removedWidgets": [],
       "sqlProps": null,
       "stackFrames": [],
       "type": "baseError"
      }
     },
     "output_type": "display_data"
    }
   ],
   "source": [
    "display(dbutils.fs.ls(\"/mnt/movies\"))"
   ]
  }
 ],
 "metadata": {
  "application/vnd.databricks.v1+notebook": {
   "computePreferences": null,
   "dashboards": [],
   "environmentMetadata": {
    "base_environment": "",
    "environment_version": "2"
   },
   "language": "python",
   "notebookMetadata": {
    "pythonIndentUnit": 4
   },
   "notebookName": "Untitled Notebook 2025-02-04 14:02:46",
   "widgets": {}
  },
  "language_info": {
   "name": "python"
  }
 },
 "nbformat": 4,
 "nbformat_minor": 0
}
