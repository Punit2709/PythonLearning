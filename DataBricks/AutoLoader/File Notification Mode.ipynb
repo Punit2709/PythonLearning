{
 "cells": [
  {
   "cell_type": "markdown",
   "metadata": {
    "application/vnd.databricks.v1+cell": {
     "cellMetadata": {},
     "inputWidgets": {},
     "nuid": "d165e8df-769d-467c-b49f-a9f4c8d3bf7a",
     "showTitle": false,
     "tableResultSettingsMap": {},
     "title": ""
    }
   },
   "source": [
    "# File Notification Mode"
   ]
  },
  {
   "cell_type": "markdown",
   "metadata": {
    "application/vnd.databricks.v1+cell": {
     "cellMetadata": {},
     "inputWidgets": {},
     "nuid": "4a582e2a-58e4-4d7f-87df-e3a9bcc9ee7c",
     "showTitle": false,
     "tableResultSettingsMap": {},
     "title": ""
    }
   },
   "source": [
    "Service Principle Configuration"
   ]
  },
  {
   "cell_type": "code",
   "execution_count": 0,
   "metadata": {
    "application/vnd.databricks.v1+cell": {
     "cellMetadata": {
      "byteLimit": 2048000,
      "rowLimit": 10000
     },
     "inputWidgets": {},
     "nuid": "a179ea54-2696-4287-a9ae-137c7e474f1e",
     "showTitle": false,
     "tableResultSettingsMap": {},
     "title": ""
    }
   },
   "outputs": [],
   "source": [
    "client_id = \"XXXX-XXXX-XXXX-XXXX-XXXX-XXXX\"\n",
    "tenant_id = \"XXXX-XXXX-XXXX-XXXX-XXXX-XXXX\"\n",
    "client_secret = \"XXXX-XXXX-XXXX-XXXX-XXXX-XXXX\"\n",
    "storage_account_name = \"dldatalakestorage\"\n",
    "container_name = \"source\""
   ]
  },
  {
   "cell_type": "code",
   "execution_count": 0,
   "metadata": {
    "application/vnd.databricks.v1+cell": {
     "cellMetadata": {
      "byteLimit": 2048000,
      "rowLimit": 10000
     },
     "inputWidgets": {},
     "nuid": "6a3ee4a3-8576-492e-8b12-c4c9fb6f378c",
     "showTitle": false,
     "tableResultSettingsMap": {},
     "title": ""
    }
   },
   "outputs": [],
   "source": [
    "spark.conf.set(f\"fs.azure.account.auth.type.{storage_account_name}.dfs.core.windows.net\", \"OAuth\")\n",
    "spark.conf.set(f\"fs.azure.account.oauth.provider.type.{storage_account_name}.dfs.core.windows.net\", \n",
    "               \"org.apache.hadoop.fs.azurebfs.oauth2.ClientCredsTokenProvider\")\n",
    "spark.conf.set(f\"fs.azure.account.oauth2.client.id.{storage_account_name}.dfs.core.windows.net\", client_id)\n",
    "spark.conf.set(f\"fs.azure.account.oauth2.client.secret.{storage_account_name}.dfs.core.windows.net\", client_secret)\n",
    "spark.conf.set(f\"fs.azure.account.oauth2.client.endpoint.{storage_account_name}.dfs.core.windows.net\", \n",
    "               f\"https://login.microsoftonline.com/{tenant_id}/oauth2/token\")\n",
    "\n",
    "file_path = f\"abfss://{container_name}@{storage_account_name}.dfs.core.windows.net\""
   ]
  },
  {
   "cell_type": "markdown",
   "metadata": {
    "application/vnd.databricks.v1+cell": {
     "cellMetadata": {},
     "inputWidgets": {},
     "nuid": "7dd50212-a09c-4cea-9a93-ae04f34f0286",
     "showTitle": false,
     "tableResultSettingsMap": {},
     "title": ""
    }
   },
   "source": [
    "Also need to give secret values for event subscription verification"
   ]
  },
  {
   "cell_type": "code",
   "execution_count": 0,
   "metadata": {
    "application/vnd.databricks.v1+cell": {
     "cellMetadata": {
      "byteLimit": 2048000,
      "rowLimit": 10000
     },
     "inputWidgets": {},
     "nuid": "39645acf-ec12-42e5-a0af-1805ae19b2d1",
     "showTitle": false,
     "tableResultSettingsMap": {},
     "title": ""
    }
   },
   "outputs": [],
   "source": [
    "df = spark.readStream.format(\"cloudFiles\") \\\n",
    "    .option(\"cloudFiles.format\", \"csv\") \\\n",
    "    .option(\"cloudFiles.schemaLocation\", f\"abfss://{container_name}@{storage_account_name}.dfs.core.windows.net/schema\") \\\n",
    "    .option(\"cloudFiles.inferColumnTypes\", \"true\") \\\n",
    "    .option(\"cloudFiles.useNotifications\", \"true\") \\\n",
    "    .option(\"header\", \"true\") \\\n",
    "    .option(\"cloudFiles.schemaEvolutionMode\", \"addNewColumns\") \\\n",
    "    .option(\"cloudFiles.clientId\", client_id) \\\n",
    "    .option(\"cloudFiles.clientSecret\", client_secret) \\\n",
    "    .option(\"cloudFiles.tenantId\", tenant_id) \\\n",
    "    .option(\"cloudFiles.subscriptionId\", \"dedd8773-e5a0-4cb7-88f0-86974468b0ca\")\\\n",
    "    .option(\"cloudFiles.resourceGroup\", \"databricks_learning\")\\\n",
    "    .load(file_path)\n"
   ]
  },
  {
   "cell_type": "code",
   "execution_count": 0,
   "metadata": {
    "application/vnd.databricks.v1+cell": {
     "cellMetadata": {
      "byteLimit": 2048000,
      "rowLimit": 10000
     },
     "inputWidgets": {},
     "nuid": "8ae3dfba-c6a1-414b-911f-1fe396320a48",
     "showTitle": false,
     "tableResultSettingsMap": {},
     "title": ""
    }
   },
   "outputs": [
    {
     "name": "stdout",
     "output_type": "stream",
     "text": [
      "root\n",
      " |-- name: string (nullable = true)\n",
      " |-- city: string (nullable = true)\n",
      " |-- _rescued_data: string (nullable = true)\n",
      "\n"
     ]
    }
   ],
   "source": [
    "df.printSchema()\n"
   ]
  },
  {
   "cell_type": "code",
   "execution_count": 0,
   "metadata": {
    "application/vnd.databricks.v1+cell": {
     "cellMetadata": {
      "byteLimit": 2048000,
      "rowLimit": 10000
     },
     "inputWidgets": {},
     "nuid": "a76a54b3-e65d-4194-834f-7d17931190e5",
     "showTitle": false,
     "tableResultSettingsMap": {},
     "title": ""
    }
   },
   "outputs": [
    {
     "data": {
      "text/plain": [
       "<pyspark.sql.streaming.query.StreamingQuery at 0x7f36ef27ca70>"
      ]
     },
     "execution_count": 6,
     "metadata": {},
     "output_type": "execute_result"
    }
   ],
   "source": [
    "container_name = 'sink'\n",
    "\n",
    "df.writeStream.format(\"delta\") \\\n",
    "    .option(\"checkpointLocation\", f\"abfss://{container_name}@{storage_account_name}.dfs.core.windows.net/checkpoint\") \\\n",
    "    .outputMode(\"append\") \\\n",
    "    .option(\"mergeSchema\", \"true\")\\\n",
    "    .start(f\"abfss://{container_name}@{storage_account_name}.dfs.core.windows.net\")"
   ]
  },
  {
   "cell_type": "code",
   "execution_count": 0,
   "metadata": {
    "application/vnd.databricks.v1+cell": {
     "cellMetadata": {
      "byteLimit": 2048000,
      "rowLimit": 10000
     },
     "inputWidgets": {},
     "nuid": "d6b9cb9e-4cac-4a00-ae41-4469d086a7d2",
     "showTitle": false,
     "tableResultSettingsMap": {},
     "title": ""
    }
   },
   "outputs": [
    {
     "name": "stdout",
     "output_type": "stream",
     "text": [
      "root\n",
      " |-- name: string (nullable = true)\n",
      " |-- city: string (nullable = true)\n",
      " |-- _rescued_data: string (nullable = true)\n",
      "\n"
     ]
    }
   ],
   "source": [
    "df_sink = spark.read.format(\"delta\").load(f\"abfss://{container_name}@{storage_account_name}.dfs.core.windows.net\")\n",
    "df_sink.printSchema()"
   ]
  },
  {
   "cell_type": "code",
   "execution_count": 0,
   "metadata": {
    "application/vnd.databricks.v1+cell": {
     "cellMetadata": {
      "byteLimit": 2048000,
      "rowLimit": 10000
     },
     "inputWidgets": {},
     "nuid": "388a237b-1603-4000-b6fb-19872d42237c",
     "showTitle": false,
     "tableResultSettingsMap": {},
     "title": ""
    }
   },
   "outputs": [
    {
     "name": "stdout",
     "output_type": "stream",
     "text": [
      "+---------+--------+-------------+\n",
      "|     name|    city|_rescued_data|\n",
      "+---------+--------+-------------+\n",
      "|dhruvpuri|   surat|         NULL|\n",
      "|    vivek|  rajkot|         NULL|\n",
      "|      raj|junagadh|         NULL|\n",
      "+---------+--------+-------------+\n",
      "\n"
     ]
    }
   ],
   "source": [
    "df_sink.show()"
   ]
  },
  {
   "cell_type": "code",
   "execution_count": 0,
   "metadata": {
    "application/vnd.databricks.v1+cell": {
     "cellMetadata": {},
     "inputWidgets": {},
     "nuid": "8990f2c1-0151-4cd8-9c99-5085542c9e75",
     "showTitle": false,
     "tableResultSettingsMap": {},
     "title": ""
    }
   },
   "outputs": [],
   "source": []
  }
 ],
 "metadata": {
  "application/vnd.databricks.v1+notebook": {
   "computePreferences": null,
   "dashboards": [],
   "environmentMetadata": {
    "base_environment": "",
    "environment_version": "2"
   },
   "language": "python",
   "notebookMetadata": {
    "pythonIndentUnit": 4
   },
   "notebookName": "File Notification Mode",
   "widgets": {}
  },
  "language_info": {
   "name": "python"
  }
 },
 "nbformat": 4,
 "nbformat_minor": 0
}
