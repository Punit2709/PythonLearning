{
 "cells": [
  {
   "cell_type": "markdown",
   "metadata": {
    "application/vnd.databricks.v1+cell": {
     "cellMetadata": {
      "byteLimit": 2048000,
      "rowLimit": 10000
     },
     "inputWidgets": {},
     "nuid": "774350a9-74a5-4678-8f1d-730dfba99afd",
     "showTitle": false,
     "tableResultSettingsMap": {},
     "title": ""
    }
   },
   "source": [
    "## Directory Listing Mode"
   ]
  },
  {
   "cell_type": "markdown",
   "metadata": {
    "application/vnd.databricks.v1+cell": {
     "cellMetadata": {},
     "inputWidgets": {},
     "nuid": "d69a0f60-5cae-4556-ad8a-71684eef9427",
     "showTitle": false,
     "tableResultSettingsMap": {},
     "title": ""
    }
   },
   "source": [
    "Configuring Service Principle"
   ]
  },
  {
   "cell_type": "code",
   "execution_count": 0,
   "metadata": {
    "application/vnd.databricks.v1+cell": {
     "cellMetadata": {
      "byteLimit": 2048000,
      "rowLimit": 10000
     },
     "inputWidgets": {},
     "nuid": "707e7d45-456c-4b1d-8aca-5adff8b27c4a",
     "showTitle": false,
     "tableResultSettingsMap": {},
     "title": ""
    }
   },
   "outputs": [],
   "source": [
    "client_id = \"XXXX-XXXX-XXXX-XXXX-XXXX-XXXX\" \n",
    "tenant_id = \"XXXX-XXXX-XXXX-XXXX-XXXX-XXXX\"\n",
    "client_secret = \"XXXX-XXXX-XXXX-XXXX-XXXX-XXXX\"\n",
    "storage_account_name = \"dldatalakestorage\"\n",
    "container_name = \"sourcedata\""
   ]
  },
  {
   "cell_type": "code",
   "execution_count": 0,
   "metadata": {
    "application/vnd.databricks.v1+cell": {
     "cellMetadata": {
      "byteLimit": 2048000,
      "rowLimit": 10000
     },
     "inputWidgets": {},
     "nuid": "7ab8df91-a90d-4ae9-b8df-6dc51a1b871a",
     "showTitle": false,
     "tableResultSettingsMap": {},
     "title": ""
    }
   },
   "outputs": [],
   "source": [
    "spark.conf.set(f\"fs.azure.account.auth.type.{storage_account_name}.dfs.core.windows.net\", \"OAuth\")\n",
    "spark.conf.set(f\"fs.azure.account.oauth.provider.type.{storage_account_name}.dfs.core.windows.net\", \n",
    "               \"org.apache.hadoop.fs.azurebfs.oauth2.ClientCredsTokenProvider\")\n",
    "spark.conf.set(f\"fs.azure.account.oauth2.client.id.{storage_account_name}.dfs.core.windows.net\", client_id)\n",
    "spark.conf.set(f\"fs.azure.account.oauth2.client.secret.{storage_account_name}.dfs.core.windows.net\", client_secret)\n",
    "spark.conf.set(f\"fs.azure.account.oauth2.client.endpoint.{storage_account_name}.dfs.core.windows.net\", \n",
    "               f\"https://login.microsoftonline.com/{tenant_id}/oauth2/token\")\n",
    "\n",
    "file_path = f\"abfss://{container_name}@{storage_account_name}.dfs.core.windows.net\""
   ]
  },
  {
   "cell_type": "markdown",
   "metadata": {
    "application/vnd.databricks.v1+cell": {
     "cellMetadata": {},
     "inputWidgets": {},
     "nuid": "4b4b53a5-58e4-4931-8deb-37886af6e014",
     "showTitle": false,
     "tableResultSettingsMap": {},
     "title": ""
    }
   },
   "source": [
    "## Reading files in stream\n",
    "\n",
    "- cloudFiles is a special feature in Databricks that helps you ingest files from cloud storage and enables the features of autoloader."
   ]
  },
  {
   "cell_type": "code",
   "execution_count": 0,
   "metadata": {
    "application/vnd.databricks.v1+cell": {
     "cellMetadata": {
      "byteLimit": 2048000,
      "rowLimit": 10000
     },
     "inputWidgets": {},
     "nuid": "a85816c7-f36d-4707-add0-d15ec01987f0",
     "showTitle": false,
     "tableResultSettingsMap": {},
     "title": ""
    }
   },
   "outputs": [],
   "source": [
    "df = spark.readStream.format(\"cloudFiles\")\\\n",
    "    .option(\"cloudFiles.format\", \"csv\")\\\n",
    "    .option(\"cloudFiles.schemaLocation\", f\"abfss://{container_name}@{storage_account_name}.dfs.core.windows.net/schema\")\\\n",
    "    .option(\"cloudFiles.inferColumnTypes\", \"true\")\\\n",
    "    .option(\"header\", \"true\")\\\n",
    "    .option(\"cloudFiles.schemaEvolutionMode\", \"rescue\")\\\n",
    "    .load(file_path)"
   ]
  },
  {
   "cell_type": "markdown",
   "metadata": {
    "application/vnd.databricks.v1+cell": {
     "cellMetadata": {},
     "inputWidgets": {},
     "nuid": "04bedcdf-5bf6-4f7d-a925-6a237fc04e0a",
     "showTitle": false,
     "tableResultSettingsMap": {},
     "title": ""
    }
   },
   "source": [
    "#### Schema Evolution Modes in Autoloader\n",
    "\n",
    "1. **`addNewColumns` (default)**  \n",
    "   - Stream fails if new columns are found. New columns are added to the schema, but existing columns don't change.\n",
    "\n",
    "2. **`rescue`**  \n",
    "   - Stream doesn't fail on new columns. New columns are recorded in a \"rescued data\" column, but the schema doesn't evolve.\n",
    "\n",
    "3. **`failOnNewColumns`**  \n",
    "   - Stream fails if new columns are encountered. You need to update the schema or remove the file to restart the stream.\n",
    "\n",
    "4. **`none`**  \n",
    "   - New columns are ignored. The schema doesn't evolve, and no data is rescued unless a \"rescued data\" column is specified.\n"
   ]
  },
  {
   "cell_type": "code",
   "execution_count": 0,
   "metadata": {
    "application/vnd.databricks.v1+cell": {
     "cellMetadata": {
      "byteLimit": 2048000,
      "rowLimit": 10000
     },
     "inputWidgets": {},
     "nuid": "629e39a1-60c7-487c-aaaa-5c005ae84082",
     "showTitle": false,
     "tableResultSettingsMap": {},
     "title": ""
    }
   },
   "outputs": [
    {
     "name": "stdout",
     "output_type": "stream",
     "text": [
      "root\n",
      " |-- name: string (nullable = true)\n",
      " |-- city: string (nullable = true)\n",
      " |-- firstname: string (nullable = true)\n",
      " |-- surname: string (nullable = true)\n",
      " |-- _rescued_data: string (nullable = true)\n",
      "\n"
     ]
    }
   ],
   "source": [
    "df.printSchema()"
   ]
  },
  {
   "cell_type": "markdown",
   "metadata": {
    "application/vnd.databricks.v1+cell": {
     "cellMetadata": {},
     "inputWidgets": {},
     "nuid": "bc5f6fb7-aaf5-4b08-bc4a-20a5ea30badd",
     "showTitle": false,
     "tableResultSettingsMap": {},
     "title": ""
    }
   },
   "source": [
    "## Write Streaming"
   ]
  },
  {
   "cell_type": "markdown",
   "metadata": {
    "application/vnd.databricks.v1+cell": {
     "cellMetadata": {
      "byteLimit": 2048000,
      "rowLimit": 10000
     },
     "inputWidgets": {},
     "nuid": "294b77d1-f5ba-4f12-a746-ce85d0e77bfb",
     "showTitle": false,
     "tableResultSettingsMap": {},
     "title": ""
    }
   },
   "source": [
    "#### Structured Streaming Output Modes\n",
    "\n",
    "1. **`append`**  \n",
    "   Adds new data to the existing data without removing or overwriting anything.\n",
    "\n",
    "2. **`overwrite`**  \n",
    "   Replaces all existing data with the new incoming data.\n",
    "\n",
    "3. **`errorifexists`** (default)  \n",
    "   Throws an error if data already exists in the destination.\n",
    "\n",
    "4. **`ignore`**  \n",
    "   Ignores the new data if data already exists in the destination.\n"
   ]
  },
  {
   "cell_type": "code",
   "execution_count": 0,
   "metadata": {
    "application/vnd.databricks.v1+cell": {
     "cellMetadata": {
      "byteLimit": 2048000,
      "rowLimit": 10000
     },
     "inputWidgets": {},
     "nuid": "3ddc469a-2ee0-4003-9b33-3f1f1804acb8",
     "showTitle": false,
     "tableResultSettingsMap": {},
     "title": ""
    }
   },
   "outputs": [
    {
     "data": {
      "text/plain": [
       "<pyspark.sql.streaming.query.StreamingQuery at 0x7f7603a9e990>"
      ]
     },
     "execution_count": 10,
     "metadata": {},
     "output_type": "execute_result"
    }
   ],
   "source": [
    "container_name = 'sinkdata'\n",
    "\n",
    "df.writeStream.format(\"delta\") \\\n",
    "    .option(\"checkpointLocation\", f\"abfss://{container_name}@{storage_account_name}.dfs.core.windows.net/checkpoint\") \\\n",
    "    .outputMode(\"append\") \\\n",
    "    .trigger(processingTime=\"10 seconds\")\\\n",
    "    .option(\"mergeSchema\", \"true\")\\\n",
    "    .start(f\"abfss://{container_name}@{storage_account_name}.dfs.core.windows.net\")\n"
   ]
  },
  {
   "cell_type": "code",
   "execution_count": 0,
   "metadata": {
    "application/vnd.databricks.v1+cell": {
     "cellMetadata": {
      "byteLimit": 2048000,
      "rowLimit": 10000
     },
     "inputWidgets": {},
     "nuid": "a0a94445-eadd-4894-b614-4e66b26197cd",
     "showTitle": false,
     "tableResultSettingsMap": {},
     "title": ""
    }
   },
   "outputs": [
    {
     "name": "stdout",
     "output_type": "stream",
     "text": [
      "root\n",
      " |-- name: string (nullable = true)\n",
      " |-- city: string (nullable = true)\n",
      " |-- _rescued_data: string (nullable = true)\n",
      " |-- firstname: string (nullable = true)\n",
      " |-- surname: string (nullable = true)\n",
      "\n"
     ]
    }
   ],
   "source": [
    "df_sink = spark.read.format(\"delta\").load(f\"abfss://{container_name}@{storage_account_name}.dfs.core.windows.net\")\n",
    "df_sink.printSchema()"
   ]
  },
  {
   "cell_type": "code",
   "execution_count": 0,
   "metadata": {
    "application/vnd.databricks.v1+cell": {
     "cellMetadata": {
      "byteLimit": 2048000,
      "rowLimit": 10000
     },
     "inputWidgets": {},
     "nuid": "b255e4ef-222c-42de-b5ed-b5d8888cc561",
     "showTitle": false,
     "tableResultSettingsMap": {},
     "title": ""
    }
   },
   "outputs": [
    {
     "name": "stdout",
     "output_type": "stream",
     "text": [
      "+---------+---------+-------------+---------+-------+\n",
      "|     name|     city|_rescued_data|firstname|surname|\n",
      "+---------+---------+-------------+---------+-------+\n",
      "|     NULL|  ayodhya|         NULL|   keshav|maharaj|\n",
      "|dhruvpuri|    surat|         NULL|     NULL|   NULL|\n",
      "|    vivek|   rajkot|         NULL|     NULL|   NULL|\n",
      "|      raj| junagadh|         NULL|     NULL|   NULL|\n",
      "|    nayan|ahmedabad|         NULL|     NULL|   NULL|\n",
      "|    jatin| varanasi|         NULL|     NULL|   NULL|\n",
      "|    viraj|     agra|         NULL|     NULL|   NULL|\n",
      "+---------+---------+-------------+---------+-------+\n",
      "\n"
     ]
    }
   ],
   "source": [
    "df_sink.show()"
   ]
  }
 ],
 "metadata": {
  "application/vnd.databricks.v1+notebook": {
   "computePreferences": null,
   "dashboards": [],
   "environmentMetadata": {
    "base_environment": "",
    "environment_version": "2"
   },
   "language": "python",
   "notebookMetadata": {
    "pythonIndentUnit": 4
   },
   "notebookName": "Directory Listing Mode",
   "widgets": {}
  },
  "language_info": {
   "name": "python"
  }
 },
 "nbformat": 4,
 "nbformat_minor": 0
}
